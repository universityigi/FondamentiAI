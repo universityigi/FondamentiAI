{
 "cells": [
  {
   "cell_type": "markdown",
   "metadata": {
    "id": "TspH1wJmAkdk"
   },
   "source": [
    "### For the homeworks we are going to use the \"[Online News Popularity Data Set](https://archive.ics.uci.edu/ml/datasets/Online+News+Popularity#)\"\n",
    "\n",
    "The dataset can be used both for regression and classification tasks.\n",
    "\n",
    "#### Source:\n",
    "\n",
    "Kelwin Fernandes INESC TEC, Porto, Portugal/Universidade do Porto, Portugal.\n",
    "Pedro Vinagre ALGORITMI Research Centre, Universidade do Minho, Portugal\n",
    "Paulo Cortez ALGORITMI Research Centre, Universidade do Minho, Portugal\n",
    "Pedro Sernadela Universidade de Aveiro\n",
    "\n",
    "#### Data Set Information:\n",
    "\n",
    "* The articles were published by Mashable (www.mashable.com) and their content as the rights to reproduce it belongs to them. Hence, this dataset does not share the original content but some statistics associated with it. The original content be publicly accessed and retrieved using the provided urls.\n",
    "* Acquisition date: January 8, 2015\n",
    "* The estimated relative performance values were estimated by the authors using a Random Forest classifier and a rolling windows as assessment method. See their article for more details on how the relative performance values were set.\n",
    "\n",
    "Attribute Information:\n",
    "\n",
    "Number of Attributes: 61 (58 predictive attributes, 2 non-predictive, 1 goal field)\n",
    "\n",
    "Attribute Information:\n",
    "0. url: URL of the article (non-predictive)\n",
    "1. timedelta: Days between the article publication and the dataset acquisition (non-predictive)\n",
    "2. n_tokens_title: Number of words in the title\n",
    "3. n_tokens_content: Number of words in the content\n",
    "4. n_unique_tokens: Rate of unique words in the content\n",
    "5. n_non_stop_words: Rate of non-stop words in the content\n",
    "6. n_non_stop_unique_tokens: Rate of unique non-stop words in the content\n",
    "7. num_hrefs: Number of links\n",
    "8. num_self_hrefs: Number of links to other articles published by Mashable\n",
    "9. num_imgs: Number of images\n",
    "10. num_videos: Number of videos\n",
    "11. average_token_length: Average length of the words in the content\n",
    "12. num_keywords: Number of keywords in the metadata\n",
    "13. data_channel_is_lifestyle: Is data channel 'Lifestyle'?\n",
    "14. data_channel_is_entertainment: Is data channel 'Entertainment'?\n",
    "15. data_channel_is_bus: Is data channel 'Business'?\n",
    "16. data_channel_is_socmed: Is data channel 'Social Media'?\n",
    "17. data_channel_is_tech: Is data channel 'Tech'?\n",
    "18. data_channel_is_world: Is data channel 'World'?\n",
    "19. kw_min_min: Worst keyword (min. shares)\n",
    "20. kw_max_min: Worst keyword (max. shares)\n",
    "21. kw_avg_min: Worst keyword (avg. shares)\n",
    "22. kw_min_max: Best keyword (min. shares)\n",
    "23. kw_max_max: Best keyword (max. shares)\n",
    "24. kw_avg_max: Best keyword (avg. shares)\n",
    "25. kw_min_avg: Avg. keyword (min. shares)\n",
    "26. kw_max_avg: Avg. keyword (max. shares)\n",
    "27. kw_avg_avg: Avg. keyword (avg. shares)\n",
    "28. self_reference_min_shares: Min. shares of referenced articles in Mashable\n",
    "29. self_reference_max_shares: Max. shares of referenced articles in Mashable\n",
    "30. self_reference_avg_sharess: Avg. shares of referenced articles in Mashable\n",
    "31. weekday_is_monday: Was the article published on a Monday?\n",
    "32. weekday_is_tuesday: Was the article published on a Tuesday?\n",
    "33. weekday_is_wednesday: Was the article published on a Wednesday?\n",
    "34. weekday_is_thursday: Was the article published on a Thursday?\n",
    "35. weekday_is_friday: Was the article published on a Friday?\n",
    "36. weekday_is_saturday: Was the article published on a Saturday?\n",
    "37. weekday_is_sunday: Was the article published on a Sunday?\n",
    "38. is_weekend: Was the article published on the weekend?\n",
    "39. LDA_00: Closeness to LDA topic 0\n",
    "40. LDA_01: Closeness to LDA topic 1\n",
    "41. LDA_02: Closeness to LDA topic 2\n",
    "42. LDA_03: Closeness to LDA topic 3\n",
    "43. LDA_04: Closeness to LDA topic 4\n",
    "44. global_subjectivity: Text subjectivity\n",
    "45. global_sentiment_polarity: Text sentiment polarity\n",
    "46. global_rate_positive_words: Rate of positive words in the content\n",
    "47. global_rate_negative_words: Rate of negative words in the content\n",
    "48. rate_positive_words: Rate of positive words among non-neutral tokens\n",
    "49. rate_negative_words: Rate of negative words among non-neutral tokens\n",
    "50. avg_positive_polarity: Avg. polarity of positive words\n",
    "51. min_positive_polarity: Min. polarity of positive words\n",
    "52. max_positive_polarity: Max. polarity of positive words\n",
    "53. avg_negative_polarity: Avg. polarity of negative words\n",
    "54. min_negative_polarity: Min. polarity of negative words\n",
    "55. max_negative_polarity: Max. polarity of negative words\n",
    "56. title_subjectivity: Title subjectivity\n",
    "57. title_sentiment_polarity: Title polarity\n",
    "58. abs_title_subjectivity: Absolute subjectivity level\n",
    "59. abs_title_sentiment_polarity: Absolute polarity level\n",
    "60. shares: Number of shares (target)\n",
    "\n",
    "\n",
    "The first two columns (url and time_delta) are non-predictive and should be ignored\n",
    "\n",
    "The last column **shares** contains the value to predict.\n",
    "\n",
    "### Regression\n",
    "In the case of regression we want to predict the value of the share column.\n",
    "\n",
    "### Classification\n",
    "In the case of classification we want to predict one of two classes:\n",
    "\n",
    "* *low* -- shares < 1,400\n",
    "* *high* -- shares >= 1,400\n",
    "\n",
    "### Metrics\n",
    "\n",
    "#### Regression\n",
    "To evaluate how good we are doing on the **regression** task we will use the Root Mean Squared Error (RMSE). RMSE is given by\n",
    "\n",
    "$$\n",
    "\\sqrt{\\frac{1}{n}\\sum\\limits_{i=1}^{n}{\\Big(d_i -f_i\\Big)^2}}\n",
    "$$\n",
    "\n",
    "\n",
    "where:\n",
    "\n",
    "* $n$ is the number of test samples\n",
    "* $d_i$ is the ground truth value of the i-th sample\n",
    "* $f_i$ is the predicted value of the i-th sample\n",
    "\n",
    "\n",
    "#### Classification\n",
    "To evaluate how good we are doing on the **classification** task we will use the accuracy metrics. Accuracy is given by\n",
    "\n",
    "$$\n",
    "\\frac{TP+TN}{TP+TN+FP+FN}\n",
    "$$\n",
    "\n",
    "where:\n",
    "\n",
    "* TP is the number of *correctly* classified positive samples\n",
    "* TN is the number of *correctly* classified negative samples\n",
    "* FP is the number of *incorrectly* classified positive samples\n",
    "* FN is the number of *incorrectly* classified negative samples"
   ]
  },
  {
   "cell_type": "code",
   "execution_count": null,
   "metadata": {
    "colab": {
     "base_uri": "https://localhost:8080/"
    },
    "id": "oesd6_bYijRo",
    "outputId": "c6ab625b-1f4b-4c64-ba23-d18c20f459ee"
   },
   "outputs": [
    {
     "name": "stdout",
     "output_type": "stream",
     "text": [
      "--2023-05-15 21:27:02--  https://archive.ics.uci.edu/ml/machine-learning-databases/00332/OnlineNewsPopularity.zip\n",
      "Resolving archive.ics.uci.edu (archive.ics.uci.edu)... 128.195.10.252\n",
      "Connecting to archive.ics.uci.edu (archive.ics.uci.edu)|128.195.10.252|:443... connected.\n",
      "HTTP request sent, awaiting response... 200 OK\n",
      "Length: 7476401 (7.1M) [application/x-httpd-php]\n",
      "Saving to: ‘OnlineNewsPopularity.zip’\n",
      "\n",
      "OnlineNewsPopularit 100%[===================>]   7.13M  12.5MB/s    in 0.6s    \n",
      "\n",
      "2023-05-15 21:27:02 (12.5 MB/s) - ‘OnlineNewsPopularity.zip’ saved [7476401/7476401]\n",
      "\n"
     ]
    }
   ],
   "source": [
    "!wget https://archive.ics.uci.edu/ml/machine-learning-databases/00332/OnlineNewsPopularity.zip"
   ]
  },
  {
   "cell_type": "code",
   "execution_count": null,
   "metadata": {
    "colab": {
     "base_uri": "https://localhost:8080/"
    },
    "id": "gmad6QdZ_nFR",
    "outputId": "bc1c7580-6bae-48f7-f41a-19dee12fb275"
   },
   "outputs": [
    {
     "name": "stdout",
     "output_type": "stream",
     "text": [
      "Archive:  OnlineNewsPopularity.zip\n",
      "replace OnlineNewsPopularity/OnlineNewsPopularity.names? [y]es, [n]o, [A]ll, [N]one, [r]ename: A\n",
      "  inflating: OnlineNewsPopularity/OnlineNewsPopularity.names  \n",
      "  inflating: OnlineNewsPopularity/OnlineNewsPopularity.csv  \n"
     ]
    }
   ],
   "source": [
    "!unzip OnlineNewsPopularity.zip"
   ]
  },
  {
   "cell_type": "code",
   "execution_count": null,
   "metadata": {
    "id": "8eW4t_c6ACcm"
   },
   "outputs": [],
   "source": [
    "import pandas as pd"
   ]
  },
  {
   "cell_type": "markdown",
   "metadata": {
    "id": "yXCX_LpFedtj"
   },
   "source": [
    "Format properly the names of the columns and remove the first two columns"
   ]
  },
  {
   "cell_type": "code",
   "execution_count": null,
   "metadata": {
    "id": "1mxntjhmAH0D"
   },
   "outputs": [],
   "source": [
    "df = pd.read_csv('OnlineNewsPopularity/OnlineNewsPopularity.csv')\n",
    "df = df.rename(columns=lambda x: x.strip())\n",
    "df = df.iloc[: , 2:]"
   ]
  },
  {
   "cell_type": "code",
   "execution_count": null,
   "metadata": {
    "colab": {
     "base_uri": "https://localhost:8080/"
    },
    "id": "qCXwyljnAMmi",
    "outputId": "6a2fbbc0-24e7-403e-96cf-88df51af152e"
   },
   "outputs": [
    {
     "data": {
      "text/plain": [
       "n_tokens_title                   float64\n",
       "n_tokens_content                 float64\n",
       "n_unique_tokens                  float64\n",
       "n_non_stop_words                 float64\n",
       "n_non_stop_unique_tokens         float64\n",
       "num_hrefs                        float64\n",
       "num_self_hrefs                   float64\n",
       "num_imgs                         float64\n",
       "num_videos                       float64\n",
       "average_token_length             float64\n",
       "num_keywords                     float64\n",
       "data_channel_is_lifestyle        float64\n",
       "data_channel_is_entertainment    float64\n",
       "data_channel_is_bus              float64\n",
       "data_channel_is_socmed           float64\n",
       "data_channel_is_tech             float64\n",
       "data_channel_is_world            float64\n",
       "kw_min_min                       float64\n",
       "kw_max_min                       float64\n",
       "kw_avg_min                       float64\n",
       "kw_min_max                       float64\n",
       "kw_max_max                       float64\n",
       "kw_avg_max                       float64\n",
       "kw_min_avg                       float64\n",
       "kw_max_avg                       float64\n",
       "kw_avg_avg                       float64\n",
       "self_reference_min_shares        float64\n",
       "self_reference_max_shares        float64\n",
       "self_reference_avg_sharess       float64\n",
       "weekday_is_monday                float64\n",
       "weekday_is_tuesday               float64\n",
       "weekday_is_wednesday             float64\n",
       "weekday_is_thursday              float64\n",
       "weekday_is_friday                float64\n",
       "weekday_is_saturday              float64\n",
       "weekday_is_sunday                float64\n",
       "is_weekend                       float64\n",
       "LDA_00                           float64\n",
       "LDA_01                           float64\n",
       "LDA_02                           float64\n",
       "LDA_03                           float64\n",
       "LDA_04                           float64\n",
       "global_subjectivity              float64\n",
       "global_sentiment_polarity        float64\n",
       "global_rate_positive_words       float64\n",
       "global_rate_negative_words       float64\n",
       "rate_positive_words              float64\n",
       "rate_negative_words              float64\n",
       "avg_positive_polarity            float64\n",
       "min_positive_polarity            float64\n",
       "max_positive_polarity            float64\n",
       "avg_negative_polarity            float64\n",
       "min_negative_polarity            float64\n",
       "max_negative_polarity            float64\n",
       "title_subjectivity               float64\n",
       "title_sentiment_polarity         float64\n",
       "abs_title_subjectivity           float64\n",
       "abs_title_sentiment_polarity     float64\n",
       "shares                             int64\n",
       "dtype: object"
      ]
     },
     "execution_count": 5,
     "metadata": {},
     "output_type": "execute_result"
    }
   ],
   "source": [
    "df.dtypes"
   ]
  },
  {
   "cell_type": "markdown",
   "metadata": {
    "id": "S92LwN6D_EC1"
   },
   "source": [
    "#Manipolazione, suddivisione e normalizzazione dei dati\n",
    "I dati vengono manipolati come segue:\n",
    "In primis, vengono viene diviso il dataframe originale tra features e target (i.e. x e y). <br>\n",
    "Subito dopo, i dati in input vengono normalizzati, per migliorare le prestazioni degli algoritmi e darle il giusto peso a ogni feature. <br>\n",
    "Viene inoltre aggiunta una colonna contenente solo 1, è il termine di bias, utile per i task di regressione lineare e logistica. La colonna verrà eliminata al termine dell'esecuzione regressione logistica. <br>\n",
    "Infine, i dati vengono anche discretizzati, per permettere agli algoritmi di classificazione di elaborarli."
   ]
  },
  {
   "cell_type": "code",
   "execution_count": null,
   "metadata": {
    "id": "aAZQ-2nukpmR"
   },
   "outputs": [],
   "source": [
    "from sklearn.model_selection import train_test_split\n",
    "\n",
    "#divisione del dataset in features e target\n",
    "x=df.iloc[: , :58] #features\n",
    "y=df.iloc[: , 58:] #target\n",
    "\n",
    "#funzione di normalizzazione statistica\n",
    "def normalize_data(df):\n",
    "  norm_df=pd.DataFrame()\n",
    "  for col in df.columns:\n",
    "    media=df[col].mean()\n",
    "    devstd=df[col].std()\n",
    "    #zj=(xj-mi)/sigma\n",
    "    norm_df[col]=(df[col]-media)/devstd\n",
    "    #quest'aggiunta permette di effettuare la normalizzazione senza \n",
    "    #aver cura di rimuovere l'eventuale colonna bias, che viene giustamente\n",
    "    #ribadita così com'è anche dopo la normalizzazione\n",
    "    if devstd==0:\n",
    "      norm_df[col]=df[col]\n",
    "  return norm_df\n",
    "\n",
    "x=normalize_data(x)\n",
    "\n",
    "#inserisco una colonna di bias per la regressione lineare\n",
    "x.insert(0,'bias',[1 for i in range(x.shape[0])])\n",
    "\n",
    "#divisione del data set in train set test set\n",
    "x_train_with_bias, x_test_with_bias, y_train, y_test = train_test_split(\n",
    "    x, y, test_size=0.2\n",
    ")\n",
    "\n",
    "#rimuovo la colonna di bias dal dataset.\n",
    "x=x.iloc[: , 1:]\n",
    "x_train=x_train_with_bias.iloc[:, 1:]\n",
    "x_test=x_test_with_bias.iloc[:, 1:]\n",
    "\n",
    "#funzioni di discretizzazione\n",
    "def discretizza_dataset(df):\n",
    "  res=pd.DataFrame()\n",
    "  for col in df.columns:\n",
    "    # calcolo la mediana dei valori della colonna\n",
    "    median = df[col].median()\n",
    "    # ciclo sulle righe della colonna corrente\n",
    "    res[col]=(df[col]>=median).astype(int)\n",
    "  return res\n",
    "\n",
    "def discretizza_output(output):\n",
    "  res=output.copy()\n",
    "  #per la classificazione si richiede di distinguere due classi:\n",
    "  #i samples con shares>=1400 e quelli con shares<1400\n",
    "  threshold=1400\n",
    "  res.iloc[:,0]=(res.iloc[:,0]>=threshold).astype(int)\n",
    "  return res\n",
    "\n",
    "#dataset discretizzato\n",
    "x_train_disc=discretizza_dataset(x_train)\n",
    "x_test_disc=discretizza_dataset(x_test)\n",
    "y_train_disc=discretizza_output(y_train)\n",
    "y_test_disc=discretizza_output(y_test)"
   ]
  },
  {
   "cell_type": "markdown",
   "metadata": {
    "id": "b2zYk37ZaI0n"
   },
   "source": [
    "<h2>Creazione del validation set</h2>\n",
    "\n",
    "Un metodo efficace per trovare i migliori iperparametri di un modello è dividere il suo train set in due insiemi: uno utilizzato per l'addestramento del modello con vari iperparametri su un sottoinsieme dei dati, l'altro per verificare l'efficacia di quei valori per gli iperparametri, cioè il validation set.\n"
   ]
  },
  {
   "cell_type": "code",
   "execution_count": null,
   "metadata": {
    "id": "TfEnwpN8aobb"
   },
   "outputs": [],
   "source": [
    "#*******************VALIDATION SET*********************\n",
    "#per prima cosa, ci creiamo un validation set, con cui valutare i valori trovati\n",
    "\n",
    "x_train_set_with_bias, x_validation_set_with_bias, y_train_set, y_validation_set = train_test_split(\n",
    "    x_train_with_bias, y_train, test_size=0.25\n",
    ")\n",
    "\n",
    "#creo gli insiemi senza colonna di bias\n",
    "x_train_set=x_train_set_with_bias.iloc[:,1:]\n",
    "x_validation_set=x_validation_set_with_bias.iloc[:,1:]\n",
    "\n",
    "#e anche quelli discretizzati (per l'albero di decisione)\n",
    "x_train_set_disc=discretizza_dataset(x_train_set)\n",
    "x_validation_set_disc=discretizza_dataset(x_validation_set)\n",
    "y_train_set_disc=discretizza_output(y_train_set)\n",
    "y_validation_set_disc=discretizza_output(y_validation_set)"
   ]
  },
  {
   "cell_type": "markdown",
   "metadata": {
    "id": "E1Bq7KIYbhcy"
   },
   "source": [
    "<h2>Grid Search</h2>\n",
    "\n",
    "L'algoritmo che utilizzerò per trovare i valori degli iperparametri è la ricerca a griglia, ossia inizializzare tutti gli iperparametri con diversi possibili valori e confrontare l'efficacia di tutte le possibili combinazioni.\n",
    "\n",
    "La funzione utilizzata prende in input:\n",
    "\n",
    "\n",
    "*   Funzioni di addestramento e predizione di un modello\n",
    "*   Dizionario contente gli iperparametri come chiavi e un array di valori\n",
    "*   Train set, ground truth del train set e lo stesso per il validation set\n",
    "*   Un booleano che indichi se il task sia di regressione o meno\n",
    "\n",
    "La funzione restituisce i valori migliori per gli iperparametri forniti con il dizionario. Questa funzione può essere applicata ad ogni modello implementato.\n",
    "\n"
   ]
  },
  {
   "cell_type": "code",
   "execution_count": null,
   "metadata": {
    "id": "J2Yn-bc9b3FY"
   },
   "outputs": [],
   "source": [
    "import itertools\n",
    "\n",
    "def grid_search(train_function, predict_function, h_params, train, res, validation, validation_res, regression):\n",
    "    best_score = None\n",
    "    chosen_params = None\n",
    "    \n",
    "    # generare tutte le possibili combinazioni di iperparametri dal dizionario\n",
    "    h_params_comb = list(itertools.product(*h_params.values()))\n",
    "\n",
    "    for params in h_params_comb:\n",
    "        #l'ordine degli iperparametri è lo stesso per ogni modello:\n",
    "        # chiamare le funzioni di train e predict con l'insieme di iperparametri corrente\n",
    "        w = train_function(train, res, *params)\n",
    "\n",
    "        #poiché i le funzioni delle reti neurali restituiscono più risultati\n",
    "        #cioè pesi e bias, occorre distinguere i vari tipi di risultati\n",
    "        #per lanciare correttamente la funzione di predizione corrispondente\n",
    "        if (isinstance(w,tuple)):\n",
    "          pred = predict_function(validation, *w)\n",
    "        else:\n",
    "          pred = predict_function(validation, w)\n",
    "        # stampare i parametri per questa iterazione\n",
    "        for i, key in enumerate(h_params.keys()):\n",
    "            print(key,': ', params[i],end='; ',sep='')\n",
    "\n",
    "        #calcolare l'accuratezza o il MSE\n",
    "        if regression:\n",
    "          #preparazione della stampa del risultato ottenuto\n",
    "          print('RMSE:',end=' ')\n",
    "          score=np.sqrt(mean_squared_error(pred,validation_res))\n",
    "\n",
    "          # aggiornare il miglior punteggio e i migliori parametri se il punteggio corrente è migliore\n",
    "          if best_score is None or score < best_score:\n",
    "              best_score = score\n",
    "              chosen_params = params\n",
    "        else:\n",
    "          print('Accuracy:',end=' ')\n",
    "          score=accuracy_score(validation_res,pred)*100\n",
    "          if best_score is None or score > best_score:\n",
    "              best_score = score\n",
    "              chosen_params = params\n",
    "        print(score)            \n",
    "    return chosen_params\n",
    "    "
   ]
  },
  {
   "cell_type": "markdown",
   "metadata": {
    "id": "AvYpLqMheF1B"
   },
   "source": [
    "#Implementazione regressione lineare\n",
    "Come primo modello è implementata la Linear Regressione. Si utilizza la formula chiusa vista a lezione. <br>\n",
    "Le funzionini implementate qui sono le seguenti:\n",
    "\n",
    "\n",
    "*   Linear Regression\n",
    "*   Funzione di predizione per Linear Regression\n",
    "\n"
   ]
  },
  {
   "cell_type": "code",
   "execution_count": null,
   "metadata": {
    "id": "99A2IKBkeJGS"
   },
   "outputs": [],
   "source": [
    "from sklearn.metrics import mean_squared_error\n",
    "from sklearn.metrics import accuracy_score\n",
    "import numpy as np\n",
    "\n",
    "def linear_regression(df,res):\n",
    "  x_mat=df.values\n",
    "  y_vec=res.values\n",
    "  #c=(X^T*X)\n",
    "  c=np.dot(x_mat.T,x_mat)\n",
    "  #c=(X^T*X)^-1\n",
    "  c=np.linalg.inv(c)\n",
    "  #c=(X^T*X)^-1*X^T\n",
    "  c=np.dot(c,x_mat.T)\n",
    "  #c=(X^T*X)^-1*X^T*y\n",
    "  c=np.dot(c,y_vec)\n",
    "  return c\n",
    "\n",
    "#funzione di predizione\n",
    "def predict_lr(test,weights):\n",
    "  x_mat_test=test\n",
    "  #y'=X_test*c\n",
    "  y_pred=np.dot(x_mat_test,weights)\n",
    "  return y_pred"
   ]
  },
  {
   "cell_type": "markdown",
   "metadata": {
    "id": "4vRay6pZYCYo"
   },
   "source": [
    "<h2> Testing e Analisi del modello </h2>\n",
    "\n",
    "La formula chiusa solitamente ottiene i risultati migliori tra i migliori di tutti gli algoritmi di regressione. Tuttavia, essa risulta computazionalmente poco efficiente, in virtù del calcolo dell'inversa della matrice, almeno per dataset di dimensione elevata."
   ]
  },
  {
   "cell_type": "code",
   "execution_count": null,
   "metadata": {
    "colab": {
     "base_uri": "https://localhost:8080/"
    },
    "id": "y-0xoJQWp9tx",
    "outputId": "437e500d-ab1a-44e9-bfbc-550ddaa4cabe"
   },
   "outputs": [
    {
     "name": "stdout",
     "output_type": "stream",
     "text": [
      "Root mean squared error formula chiusa linear regression:  8198.53844334873\n"
     ]
    }
   ],
   "source": [
    "w_lr=linear_regression(x_train_with_bias,y_train)\n",
    "y_pred_lr=predict_lr(x_test_with_bias,w_lr)\n",
    "mse_lr = mean_squared_error(y_test, y_pred_lr)\n",
    "print('Root mean squared error formula chiusa linear regression: ', np.sqrt(mse_lr))"
   ]
  },
  {
   "cell_type": "markdown",
   "metadata": {
    "id": "t7Dz2vCZ_mAG"
   },
   "source": [
    "# Gradient Descent\n",
    "La seconda implementazione proposta prevede di utilizzare Gradient Descent. <br>\n",
    "Ecco quindi un'implementazione dell'algoritmo.\n",
    "Per questa task, ho deciso di fare un'implementazione un po' particolare, per certi versi forse svantaggiosa a livello computazionale, ma sicuramente più comoda. <br>\n",
    "Troviamo quindi qui le implementazioni di:\n",
    "\n",
    "\n",
    "*   Gradient Descent Total\n",
    "*   Gradient Descent\n",
    "*   Gradient Descent Lasso\n",
    "*   Gradient Descent Ridge\n",
    "*   Gradient Descent Elastic Net\n",
    "\n",
    "La prima funzione contiene un'implementazione dell'algoritmo della discesa del gradiente, con un parametro 'regularization', che permette di selezionale la regolarizzazione che si desidera applicare tra le 4 opzioni possibili (nessuna, L1, L2 o Elastic Net) <br>\n",
    "Le restanti funzioni hanno il semplice compito di richiamare la prima, inizializzandone i corrispondenti parametri.<br>\n",
    "La funzione permette inoltre di selezionare la dimensione del batch su cui applicare l'algoritmo, per poterlo agilmente utilizzare in Stochastic Gradient Descent, o semplicemente ridurne il tempo di esecuzione, applicando l'algoritmo a un sottoinsieme del Data Set."
   ]
  },
  {
   "cell_type": "code",
   "execution_count": null,
   "metadata": {
    "id": "wcToYnv6TypX"
   },
   "outputs": [],
   "source": [
    "import matplotlib.pyplot as plt\n",
    "\n",
    "def plot_rmse(mse_list):\n",
    "  x=np.arange(len(mse_list))\n",
    "  y=np.sqrt(np.array(mse_list))\n",
    "  plt.xlabel(\"Iterazioni\") \n",
    "  plt.ylabel(\"MSE\") \n",
    "  plt.plot(x,y) \n",
    "  plt.show()\n",
    "\n",
    "def gradient_descent_total(df,res,lr,regularization,lambda1,lambda2,batch,plot):\n",
    "  #se il parametro batch viene inizializzato, si applicherà GD ai primi\n",
    "  #batch samples del data set\n",
    "  df=df.iloc[:batch,:]\n",
    "  res=res.iloc[:batch,:]\n",
    "\n",
    "  #inizializzazione dei paramtri utili per l'algoritmo\n",
    "  mse_list=[]\n",
    "\n",
    "  #max_diff è la massima variazione del valore dei pesi \n",
    "  #all'interno dell'ultima iterazione \n",
    "  max_diff=1\n",
    "\n",
    "  #alpha rappresenta il learning rate che verrà utilizzato\n",
    "  #viene inizializzato al parametro, ma può anche essere scalato\n",
    "  #all'aumentare delle iterazioni per accelerare la convergenza\n",
    "  alpha=lr\n",
    "\n",
    "  #il valore di cutoff stabilisce quando si fermerà l'algoritmo\n",
    "  #cioè dopo che max_diff avrà assunto un valore minore di cutoff\n",
    "  cutoff=0.01\n",
    "\n",
    "  #si tiene traccia del numero di iterazioni\n",
    "  n_iterazioni=0\n",
    "\n",
    "  #inizializzazione del vettore dei pesi\n",
    "  w=np.random.randn(df.shape[1])\n",
    "  w=w.reshape(-1,1)\n",
    "\n",
    "  #per migliorare l'algoritmo, si evita di calcolare la trasposta a ogni iterazione\n",
    "  trasposta=df.T\n",
    "\n",
    "  #si utilizzano due soglie adeguate per garantire la convergenza dell'algoritmo\n",
    "  #l'ottenimento delle soglie inserite è stato empirico \n",
    "  while max_diff>cutoff and n_iterazioni<1000:\n",
    "\n",
    "    #si salvano i valori dell'iterazione corrente dei pesi\n",
    "    prev=w.copy()\n",
    "\n",
    "    #calcolo della funzione ipotesi h_w=X*w\n",
    "    h_w=np.dot(df,w)\n",
    "\n",
    "    #calcolo mse e aggiornamento della lista\n",
    "    mse=mean_squared_error(h_w,res)\n",
    "    mse_list.append(mse)\n",
    "\n",
    "    #aggiornamento dei pesi con regolarizzazione l1\n",
    "    #wj=wj+alpha(1/N(sum(y-h_w)xj)(+ o -)l1)\n",
    "    #la scelta tra + e - dipende dal segno di wj (derivata del valore assoluto)\n",
    "    if regularization == 1: # Lasso regularization\n",
    "      w=w+(alpha)*((1/batch)*np.dot(trasposta,(res-h_w))-lambda1*np.sign(w))\n",
    "\n",
    "    #aggiornamento dei pesi con regolarizzazione l1\n",
    "    #wj=wj+alpha(1/N(sum(y-h_w)xj)-l2wj)\n",
    "    elif regularization == 2: # Ridge regularization\n",
    "      w=w+(alpha)*((1/batch)*np.dot(trasposta,(res-h_w))-lambda2*w)\n",
    "\n",
    "    #aggiornamento dei pesi con regolarizzazione elastic net\n",
    "    #che consiste nell'applicare entrambe le regolarizzazioni\n",
    "    #wj=wj+alpha(1/N(sum(y-h_w)xj)(+ o -)l1-l2wj)\n",
    "    elif regularization == 3: # Elastic Net regularization\n",
    "      w=w+(alpha)*((1/batch)*np.dot(trasposta,(res-h_w))-lambda1*np.sign(w)-lambda2*w)\n",
    "    \n",
    "    #la funzione di aggiornament standard per gradient_descent\n",
    "    #wj=wj+alpha(1/N(sum(y-h_w)xj))\n",
    "    else:\n",
    "      w=w+(alpha/batch)*np.dot(trasposta,(res-h_w))\n",
    "\n",
    "    #aggiornamento dei valori di max_diff e n_iterazioni\n",
    "    max_diff=np.abs(w-prev).max()\n",
    "    n_iterazioni+=1\n",
    "\n",
    "  if plot:\n",
    "    #si desidera stampare la lista degli MSE per verificare che l'algoritmo converga\n",
    "    plot_rmse(mse_list)\n",
    "    \n",
    "  return w\n",
    "\n",
    "#le seguenti funzioni servono soltanto a richiamare gradient_descent_total\n",
    "#per ognuna gli unici parametri necessarie solo il dataset e i risultati dei \n",
    "#samples inseriti\n",
    "#tutti gli iperparametri sono inizializzati a dei valori che permettano di fare\n",
    "#delle valutazioni sensate\n",
    "def gradient_descent(df,res,lr=0.01,plot=False,batch=df.shape[0]):\n",
    "  return gradient_descent_total(df,res,lr,0,0,0,batch,plot)\n",
    "\n",
    "def gradient_descent_lasso(df,res,lr=0.01,lambda_value=10,plot=False,batch=df.shape[0]):\n",
    "  return gradient_descent_total(df,res,lr,1,lambda_value,0,batch,plot)\n",
    "\n",
    "def gradient_descent_ridge(df,res,lr=0.01,lambda_value=0.01,plot=False,batch=df.shape[0]):\n",
    "  return gradient_descent_total(df,res,lr,2,0,lambda_value,batch,plot)\n",
    "\n",
    "def gradient_descent_elastic_net(df,res,lr=0.01,lambda1=10,lambda2=0.01,plot=False,batch=df.shape[0]):\n",
    "  return gradient_descent_total(df,res,lr,3,lambda1,lambda2,batch,plot)"
   ]
  },
  {
   "cell_type": "markdown",
   "metadata": {
    "id": "-DQWpZE2Zdm-"
   },
   "source": [
    "<h2>Scelta degli iperparametri</h2>\n",
    "\n",
    "Qui si scelgono gli iperparametri migliori per i vari modelli.\n",
    "In particolare cerchiamo i valori degli iperparametri che minimizzino il Root Mean Squared Error. Si utilizza la funzione grid_search precedentemente definita. <br>\n",
    "Gradient descent presenta i seguenti iperparametri:\n",
    "\n",
    "*   learning rate\n",
    "*   lambda per regolarizzazione L1\n",
    "*   lambda per regolarizzazione L2\n",
    "*   entrambi i lambda per Elastic Net"
   ]
  },
  {
   "cell_type": "code",
   "execution_count": null,
   "metadata": {
    "colab": {
     "base_uri": "https://localhost:8080/"
    },
    "id": "pE4HPMWAeD9e",
    "outputId": "f1a5041a-70b4-4f6d-d496-e1eef6514180"
   },
   "outputs": [
    {
     "name": "stdout",
     "output_type": "stream",
     "text": [
      "Linear Regression: Gradient Descent\n",
      "{'Learning Rate': [0.001, 0.01, 0.1]}\n",
      "Learning Rate: 0.001; RMSE: 11565.398281546097\n",
      "Learning Rate: 0.01; RMSE: 11420.825179451404\n",
      "Learning Rate: 0.1; RMSE: 11419.485504908833\n",
      "Chosen Learning Rate: 0.1\n",
      "**************************************************\n",
      "Linear Regression: Gradient Descent with L1 Regularization\n",
      "{'Learning Rate': [0.001, 0.01, 0.1], 'L1 Regularization': [0.1, 1, 10, 100]}\n",
      "Learning Rate: 0.001; L1 Regularization: 0.1; RMSE: 11565.524339463524\n",
      "Learning Rate: 0.001; L1 Regularization: 1; RMSE: 11565.68825494437\n",
      "Learning Rate: 0.001; L1 Regularization: 10; RMSE: 11566.894649090054\n",
      "Learning Rate: 0.001; L1 Regularization: 100; RMSE: 11582.265598694741\n",
      "Learning Rate: 0.01; L1 Regularization: 0.1; RMSE: 11420.763973146422\n",
      "Learning Rate: 0.01; L1 Regularization: 1; RMSE: 11420.330888010554\n",
      "Learning Rate: 0.01; L1 Regularization: 10; RMSE: 11416.65028333701\n",
      "Learning Rate: 0.01; L1 Regularization: 100; RMSE: 11420.128111927914\n",
      "Learning Rate: 0.1; L1 Regularization: 0.1; RMSE: 11419.412572690839\n",
      "Learning Rate: 0.1; L1 Regularization: 1; RMSE: 11418.840931964623\n",
      "Learning Rate: 0.1; L1 Regularization: 10; RMSE: 11412.785154151281\n",
      "Learning Rate: 0.1; L1 Regularization: 100; RMSE: 11419.852600524677\n",
      "Chosen Learning Rate: 0.1 Chosen Lambda L1 Regularization: 10\n",
      "**************************************************\n",
      "Linear Regression: Gradient Descent with L2 Regularization\n",
      "{'Learning Rate': [0.001, 0.01, 0.1], 'L2 Regularization': [0.0001, 0.001, 0.01, 0.1]}\n",
      "Learning Rate: 0.001; L2 Regularization: 0.0001; RMSE: 11565.593314496175\n",
      "Learning Rate: 0.001; L2 Regularization: 0.001; RMSE: 11565.749813529243\n",
      "Learning Rate: 0.001; L2 Regularization: 0.01; RMSE: 11566.674410339028\n",
      "Learning Rate: 0.001; L2 Regularization: 0.1; RMSE: 11576.201007817997\n",
      "Learning Rate: 0.01; L2 Regularization: 0.0001; RMSE: 11420.794082563069\n",
      "Learning Rate: 0.01; L2 Regularization: 0.001; RMSE: 11420.724258529139\n",
      "Learning Rate: 0.01; L2 Regularization: 0.01; RMSE: 11420.051637233142\n",
      "Learning Rate: 0.01; L2 Regularization: 0.1; RMSE: 11424.834983535464\n",
      "Learning Rate: 0.1; L2 Regularization: 0.0001; RMSE: 11419.454105368035\n",
      "Learning Rate: 0.1; L2 Regularization: 0.001; RMSE: 11419.185027719615\n",
      "Learning Rate: 0.1; L2 Regularization: 0.01; RMSE: 11417.542758044963\n",
      "Learning Rate: 0.1; L2 Regularization: 0.1; RMSE: 11423.756439590077\n",
      "Chosen Learning Rate: 0.1 Chosen Lambda L2 Regularization: 0.01\n",
      "**************************************************\n",
      "Linear Regression: Gradient Descent with Elastic Net Regularization\n",
      "{'Learning Rate': [0.001, 0.01, 0.1], 'L1 Regularization': [0.1, 1, 10, 100], 'L2 Regularization': [0.0001, 0.001, 0.01, 0.1]}\n",
      "Learning Rate: 0.001; L1 Regularization: 0.1; L2 Regularization: 0.0001; RMSE: 11565.72817523573\n",
      "Learning Rate: 0.001; L1 Regularization: 0.1; L2 Regularization: 0.001; RMSE: 11565.866233447065\n",
      "Learning Rate: 0.001; L1 Regularization: 0.1; L2 Regularization: 0.01; RMSE: 11566.689242219543\n",
      "Learning Rate: 0.001; L1 Regularization: 0.1; L2 Regularization: 0.1; RMSE: 11576.233434014835\n",
      "Learning Rate: 0.001; L1 Regularization: 1; L2 Regularization: 0.0001; RMSE: 11565.844797849462\n",
      "Learning Rate: 0.001; L1 Regularization: 1; L2 Regularization: 0.001; RMSE: 11565.770496776959\n",
      "Learning Rate: 0.001; L1 Regularization: 1; L2 Regularization: 0.01; RMSE: 11566.913687755097\n",
      "Learning Rate: 0.001; L1 Regularization: 1; L2 Regularization: 0.1; RMSE: 11576.571177358675\n",
      "Learning Rate: 0.001; L1 Regularization: 10; L2 Regularization: 0.0001; RMSE: 11566.790876955236\n",
      "Learning Rate: 0.001; L1 Regularization: 10; L2 Regularization: 0.001; RMSE: 11566.792354442416\n",
      "Learning Rate: 0.001; L1 Regularization: 10; L2 Regularization: 0.01; RMSE: 11568.00130220876\n",
      "Learning Rate: 0.001; L1 Regularization: 10; L2 Regularization: 0.1; RMSE: 11577.593638572504\n",
      "Learning Rate: 0.001; L1 Regularization: 100; L2 Regularization: 0.0001; RMSE: 11582.354342531076\n",
      "Learning Rate: 0.001; L1 Regularization: 100; L2 Regularization: 0.001; RMSE: 11582.483981002504\n",
      "Learning Rate: 0.001; L1 Regularization: 100; L2 Regularization: 0.01; RMSE: 11583.51249142185\n",
      "Learning Rate: 0.001; L1 Regularization: 100; L2 Regularization: 0.1; RMSE: 11593.662920958766\n",
      "Learning Rate: 0.01; L1 Regularization: 0.1; L2 Regularization: 0.0001; RMSE: 11420.74626978932\n",
      "Learning Rate: 0.01; L1 Regularization: 0.1; L2 Regularization: 0.001; RMSE: 11420.651186048366\n",
      "Learning Rate: 0.01; L1 Regularization: 0.1; L2 Regularization: 0.01; RMSE: 11420.016032162259\n",
      "Learning Rate: 0.01; L1 Regularization: 0.1; L2 Regularization: 0.1; RMSE: 11424.81176424689\n",
      "Learning Rate: 0.01; L1 Regularization: 1; L2 Regularization: 0.0001; RMSE: 11420.306906882228\n",
      "Learning Rate: 0.01; L1 Regularization: 1; L2 Regularization: 0.001; RMSE: 11420.22598384796\n",
      "Learning Rate: 0.01; L1 Regularization: 1; L2 Regularization: 0.01; RMSE: 11419.592120528036\n",
      "Learning Rate: 0.01; L1 Regularization: 1; L2 Regularization: 0.1; RMSE: 11424.626853538954\n",
      "Learning Rate: 0.01; L1 Regularization: 10; L2 Regularization: 0.0001; RMSE: 11416.648681943187\n",
      "Learning Rate: 0.01; L1 Regularization: 10; L2 Regularization: 0.001; RMSE: 11416.596864045741\n",
      "Learning Rate: 0.01; L1 Regularization: 10; L2 Regularization: 0.01; RMSE: 11416.263966621775\n",
      "Learning Rate: 0.01; L1 Regularization: 10; L2 Regularization: 0.1; RMSE: 11423.325995411155\n",
      "Learning Rate: 0.01; L1 Regularization: 100; L2 Regularization: 0.0001; RMSE: 11420.210424058676\n",
      "Learning Rate: 0.01; L1 Regularization: 100; L2 Regularization: 0.001; RMSE: 11420.19548371265\n",
      "Learning Rate: 0.01; L1 Regularization: 100; L2 Regularization: 0.01; RMSE: 11420.51526617388\n",
      "Learning Rate: 0.01; L1 Regularization: 100; L2 Regularization: 0.1; RMSE: 11432.583066859983\n",
      "Learning Rate: 0.1; L1 Regularization: 0.1; L2 Regularization: 0.0001; RMSE: 11419.381034901171\n",
      "Learning Rate: 0.1; L1 Regularization: 0.1; L2 Regularization: 0.001; RMSE: 11419.115327987143\n",
      "Learning Rate: 0.1; L1 Regularization: 0.1; L2 Regularization: 0.01; RMSE: 11417.481922819974\n",
      "Learning Rate: 0.1; L1 Regularization: 0.1; L2 Regularization: 0.1; RMSE: 11423.731285662561\n",
      "Learning Rate: 0.1; L1 Regularization: 1; L2 Regularization: 0.0001; RMSE: 11418.811468256035\n",
      "Learning Rate: 0.1; L1 Regularization: 1; L2 Regularization: 0.001; RMSE: 11418.561518807726\n",
      "Learning Rate: 0.1; L1 Regularization: 1; L2 Regularization: 0.01; RMSE: 11416.944806491709\n",
      "Learning Rate: 0.1; L1 Regularization: 1; L2 Regularization: 0.1; RMSE: 11423.511008072994\n",
      "Learning Rate: 0.1; L1 Regularization: 10; L2 Regularization: 0.0001; RMSE: 11412.750488041442\n",
      "Learning Rate: 0.1; L1 Regularization: 10; L2 Regularization: 0.001; RMSE: 11412.630995514652\n",
      "Learning Rate: 0.1; L1 Regularization: 10; L2 Regularization: 0.01; RMSE: 11412.40143032908\n",
      "Learning Rate: 0.1; L1 Regularization: 10; L2 Regularization: 0.1; RMSE: 11422.173426258114\n",
      "Learning Rate: 0.1; L1 Regularization: 100; L2 Regularization: 0.0001; RMSE: 11420.668196501501\n",
      "Learning Rate: 0.1; L1 Regularization: 100; L2 Regularization: 0.001; RMSE: 11420.449565947903\n",
      "Learning Rate: 0.1; L1 Regularization: 100; L2 Regularization: 0.01; RMSE: 11419.352612040922\n",
      "Learning Rate: 0.1; L1 Regularization: 100; L2 Regularization: 0.1; RMSE: 11431.2456929814\n",
      "Chosen Learning Rate: 0.1 Chosen Lambda L1 Regularization: 10 Chosen Lambda L2 Regularization: 0.01\n"
     ]
    }
   ],
   "source": [
    "#******************LINEAR REGRESSION*******************\n",
    "#per l'algoritmo gradient descent\n",
    "#gli iperparametri sono: learning rate, l1 e l2 \n",
    "print('Linear Regression: Gradient Descent')\n",
    "learning_rate_values=[10**i for i in range(-3,0)]\n",
    "l1_values=[10**i for i in range(-1,3)]\n",
    "l2_values=[10**i for i in range(-4,0)]\n",
    "h_params_gd={'Learning Rate':learning_rate_values}\n",
    "print(h_params_gd)\n",
    "#calcolo del miglior learning rate\n",
    "#mediante il calcolo calcolo del minimo mse\n",
    "chosen_params=grid_search(gradient_descent,\n",
    "                          predict_lr,\n",
    "                          h_params_gd,\n",
    "                          x_train_set_with_bias,\n",
    "                          y_train_set,\n",
    "                          x_validation_set_with_bias,\n",
    "                          y_validation_set,\n",
    "                          True)\n",
    "#inizializzo gli iperparametri\n",
    "chosen_lr_gd=chosen_params[0]\n",
    "print('Chosen Learning Rate:' ,chosen_lr_gd)\n",
    "print('*'*50)\n",
    "\n",
    "print('Linear Regression: Gradient Descent with L1 Regularization')\n",
    "h_params_lasso=h_params_gd.copy()\n",
    "h_params_lasso['L1 Regularization']=l1_values\n",
    "print(h_params_lasso)\n",
    "chosen_params=grid_search(gradient_descent_lasso,\n",
    "                          predict_lr,\n",
    "                          h_params_lasso,\n",
    "                          x_train_set_with_bias,\n",
    "                          y_train_set,\n",
    "                          x_validation_set_with_bias,\n",
    "                          y_validation_set,\n",
    "                          True)\n",
    "chosen_lr_lasso,chosen_l1_lasso=chosen_params\n",
    "print('Chosen Learning Rate:' ,chosen_lr_lasso,'Chosen Lambda L1 Regularization:',chosen_l1_lasso)\n",
    "print('*'*50)\n",
    "\n",
    "print('Linear Regression: Gradient Descent with L2 Regularization')\n",
    "h_params_ridge={'Learning Rate':learning_rate_values, 'L2 Regularization':l2_values }\n",
    "print(h_params_ridge)\n",
    "chosen_params=grid_search(gradient_descent_ridge,\n",
    "                          predict_lr,\n",
    "                          h_params_ridge,\n",
    "                          x_train_set_with_bias,\n",
    "                          y_train_set,\n",
    "                          x_validation_set_with_bias,\n",
    "                          y_validation_set,\n",
    "                          True)\n",
    "chosen_lr_ridge,chosen_l2_ridge=chosen_params\n",
    "print('Chosen Learning Rate:' ,chosen_lr_ridge,'Chosen Lambda L2 Regularization:',chosen_l2_ridge)\n",
    "print('*'*50)\n",
    "print('Linear Regression: Gradient Descent with Elastic Net Regularization')\n",
    "h_params_en=h_params_lasso.copy()\n",
    "h_params_en['L2 Regularization']=l2_values\n",
    "print(h_params_en)\n",
    "chosen_params=grid_search(gradient_descent_elastic_net,\n",
    "                          predict_lr,\n",
    "                          h_params_en,\n",
    "                          x_train_set_with_bias,\n",
    "                          y_train_set,\n",
    "                          x_validation_set_with_bias,\n",
    "                          y_validation_set,\n",
    "                          True)\n",
    "chosen_lr_en,chosen_l1_en,chosen_l2_en=chosen_params\n",
    "print('Chosen Learning Rate:' ,chosen_lr_en,'Chosen Lambda L1 Regularization:',chosen_l1_en,'Chosen Lambda L2 Regularization:',chosen_l2_en)"
   ]
  },
  {
   "cell_type": "markdown",
   "metadata": {
    "id": "BYlWUM9We6uW"
   },
   "source": [
    "<h2> Testing e Analisi dei Modelli </h2>\n",
    "\n",
    "Gradient descent è una solida alternativa alla formula chiusa della regressione lineare. Come si può vedere dai risultati, l'approssimazione del gradiente presenta un RMSE molto vicino a quello della formula chiusa. <br>\n",
    "L'introduzione della regolarizzazione non fornisce grandi vantaggi per quanto riguarda le prestazioni. Tuttavia, essa torna utile per minimizzare la funzione di costo dell'ipotesi, data dalla combinazione lineare della loss MSE e di una funzione che tiene conto della dimensione dei coefficienti (pesi e bias), andandone quindi a ridurre i valori dei pesi, limitando l'overfitting. La regolarizzazione L1 tende ad azzerare i coefficienti, mentre la regolarizzazione L2 tende a ridurne la grandezza ma senza annullarli completamente. La combinazione delle due produce la regolarizzazione Elastic Net, che ha un comportamento ibrido tra i due precedentemente descritti. <br>\n",
    "I modelli di Scikit-Learn hanno un comportamento affine a quello dei modelli da me implementati."
   ]
  },
  {
   "cell_type": "code",
   "execution_count": null,
   "metadata": {
    "colab": {
     "base_uri": "https://localhost:8080/",
     "height": 1000
    },
    "id": "uLYwxqiAfWRQ",
    "outputId": "d75f4ca2-d221-4e95-c8e0-43409b8e4a20"
   },
   "outputs": [
    {
     "name": "stdout",
     "output_type": "stream",
     "text": [
      "Linear Regression with Gradient Descent\n"
     ]
    },
    {
     "data": {
      "image/png": "[encoded data removed]",
      "text/plain": [
       "<Figure size 640x480 with 1 Axes>"
      ]
     },
     "metadata": {},
     "output_type": "display_data"
    },
    {
     "name": "stdout",
     "output_type": "stream",
     "text": [
      "Root mean squared error linear regression gradient descent:  8200.650872657197\n",
      "**************************************************\n",
      "Root mean squared error linear regression (Scikit-learn):  8198.675030608216\n",
      "**************************************************\n",
      "Linear Regression with Gradient Descent with L1 Regularization\n"
     ]
    },
    {
     "data": {
      "image/png": "[encoded data removed]",
      "text/plain": [
       "<Figure size 640x480 with 1 Axes>"
      ]
     },
     "metadata": {},
     "output_type": "display_data"
    },
    {
     "name": "stdout",
     "output_type": "stream",
     "text": [
      "Root mean squared error linear regression lasso regularization:  8198.28259359638\n",
      "**************************************************\n",
      "Root mean squared error linear regression Lasso regularization (Scikit-learn):  8198.512433941738\n",
      "**************************************************\n",
      "Linear Regression with Gradient Descent with L2 Regularization\n"
     ]
    },
    {
     "data": {
      "image/png": "[encoded data removed]",
      "text/plain": [
       "<Figure size 640x480 with 1 Axes>"
      ]
     },
     "metadata": {},
     "output_type": "display_data"
    },
    {
     "name": "stdout",
     "output_type": "stream",
     "text": [
      "Root mean squared error linear regression ridge regularization:  8197.822332507963\n",
      "**************************************************\n",
      "Root mean squared error linear regression Ridge regularization (Scikit-learn):  8198.721731352527\n",
      "**************************************************\n",
      "Linear Regression with Gradient Descent with Elastic Net Regularization\n"
     ]
    },
    {
     "data": {
      "image/png": "[encoded data removed]",
      "text/plain": [
       "<Figure size 640x480 with 1 Axes>"
      ]
     },
     "metadata": {},
     "output_type": "display_data"
    },
    {
     "name": "stdout",
     "output_type": "stream",
     "text": [
      "Root mean squared error linear regression elastic net regularization:  8197.026342337173\n",
      "**************************************************\n",
      "Root mean squared error linear regression Elastic Net regularization (Scikit-learn):  8197.84562888958\n"
     ]
    }
   ],
   "source": [
    "from sklearn.linear_model import LinearRegression, Lasso, Ridge, ElasticNet\n",
    "#disattiviamo i warning di mancata convergenza dei modelli di scikit-learn\n",
    "#che in realtà mostrano risultati simili ai miei\n",
    "import warnings\n",
    "from sklearn.exceptions import ConvergenceWarning\n",
    "warnings.filterwarnings(\"ignore\", category=ConvergenceWarning)\n",
    "\n",
    "print('Linear Regression with Gradient Descent')\n",
    "w_gd=gradient_descent(x_train_with_bias,y_train,chosen_lr_gd,True)\n",
    "y_pred_gd=predict_lr(x_test_with_bias,w_gd)\n",
    "mse_gd = mean_squared_error(y_test, y_pred_gd)\n",
    "print('Root mean squared error linear regression gradient descent: ', np.sqrt(mse_gd))\n",
    "print('*'*50)\n",
    "\n",
    "#Confronto con Scikit-Learn\n",
    "# Linear Regression Scikit-Learn\n",
    "#creazione del modello (con gli stessi parametri utilizzati da me, quando possibile)\n",
    "linear_regression_model = LinearRegression()\n",
    "#addestramento del modello\n",
    "linear_regression_model.fit(x_train, y_train)\n",
    "#predizioni del modello\n",
    "y_pred_linear_regression_sklearn = linear_regression_model.predict(x_test)\n",
    "#calcolo del MSE\n",
    "mse_linear_regression_sklearn = mean_squared_error(y_test, y_pred_linear_regression_sklearn)\n",
    "#stampa delle prestazioni\n",
    "print('Root mean squared error linear regression (Scikit-learn): ', np.sqrt(mse_linear_regression_sklearn))\n",
    "print('*'*50)\n",
    "\n",
    "print('Linear Regression with Gradient Descent with L1 Regularization')\n",
    "w_lasso=gradient_descent_lasso(x_train_with_bias,y_train,chosen_lr_lasso,chosen_l1_lasso,True)\n",
    "y_pred_lasso=predict_lr(x_test_with_bias,w_lasso)\n",
    "mse_lasso = mean_squared_error(y_test, y_pred_lasso)\n",
    "print('Root mean squared error linear regression lasso regularization: ', np.sqrt(mse_lasso))\n",
    "print('*'*50)\n",
    "\n",
    "# Linear Regression with Lasso regularization Scikit-Learn\n",
    "lasso_model = Lasso(alpha=chosen_l1_lasso, max_iter=1000, tol=0.01)\n",
    "lasso_model.fit(x_train, y_train)\n",
    "y_pred_lasso_sklearn = lasso_model.predict(x_test)\n",
    "mse_lasso_sklearn = mean_squared_error(y_test, y_pred_lasso_sklearn)\n",
    "print('Root mean squared error linear regression Lasso regularization (Scikit-learn): ', np.sqrt(mse_lasso_sklearn))\n",
    "print('*'*50)\n",
    "\n",
    "print('Linear Regression with Gradient Descent with L2 Regularization')\n",
    "w_ridge=gradient_descent_ridge(x_train_with_bias,y_train,chosen_lr_ridge,chosen_l2_ridge,True)\n",
    "y_pred_ridge=predict_lr(x_test_with_bias,w_ridge)\n",
    "mse_ridge = mean_squared_error(y_test, y_pred_ridge)\n",
    "print('Root mean squared error linear regression ridge regularization: ', np.sqrt(mse_ridge))\n",
    "print('*'*50)\n",
    "\n",
    "# Linear Regression with Ridge regularization Scikit-Learn\n",
    "ridge_model = Ridge(alpha=chosen_l2_ridge, max_iter=1000, tol=0.01)\n",
    "ridge_model.fit(x_train, y_train)\n",
    "y_pred_ridge_sklearn = ridge_model.predict(x_test)\n",
    "mse_ridge_sklearn = mean_squared_error(y_test, y_pred_ridge_sklearn)\n",
    "print('Root mean squared error linear regression Ridge regularization (Scikit-learn): ', np.sqrt(mse_ridge_sklearn))\n",
    "print('*'*50)\n",
    "\n",
    "print('Linear Regression with Gradient Descent with Elastic Net Regularization')\n",
    "w_en=gradient_descent_elastic_net(x_train_with_bias,y_train,chosen_lr_en,chosen_l1_en,chosen_l2_en,True)\n",
    "y_pred_en=predict_lr(x_test_with_bias,w_en)\n",
    "mse_en = mean_squared_error(y_test, y_pred_en)\n",
    "print('Root mean squared error linear regression elastic net regularization: ', np.sqrt(mse_en))\n",
    "print('*'*50)\n",
    "\n",
    "# Linear Regression with Elastic Net regularization Scikit-Learn\n",
    "en_model = ElasticNet(alpha=chosen_l1_en+chosen_l2_en, l1_ratio=chosen_l1_en/(chosen_l1_en+chosen_l2_en), max_iter=1000, tol=0.01)\n",
    "en_model.fit(x_train, y_train)\n",
    "y_pred_en_sklearn = en_model.predict(x_test)\n",
    "mse_en_sklearn = mean_squared_error(y_test, y_pred_en_sklearn)\n",
    "print('Root mean squared error linear regression Elastic Net regularization (Scikit-learn): ', np.sqrt(mse_en_sklearn))\n",
    "\n",
    "#  Appendice\n",
    "#  Calcolo dell'l1_ratio e di alpha\n",
    "#  Linear regression with combined L1 and L2 priors as regularizer.\n",
    "#  Minimizes the objective function:\n",
    "#  1 / (2 * n_samples) * ||y - Xw||^2_2        MSE\n",
    "#  + alpha * l1_ratio * ||w||_1                L1 Regularization\n",
    "#  + 0.5 * alpha * (1 - l1_ratio) * ||w||^2_2  L2 Regularization\n",
    "#  \n",
    "#  (le costanti non sono presenti nella mia implementazione, ma quello che conta sono gli ordini di grandezza dei termini)\n",
    "#  perciò i nostri valori di l1 e l2 saranno il risultato di:\n",
    "#  alpha=l1+l2\n",
    "#  l1_ratio=l1/(l1+l2)\n",
    "#  alpha*l1_ratio=l1 che verrà moltiplicato per il termine di regolarizzazione di sckit\n",
    "#  alpha*(1-l1_ratio)=(l1+l2)*(l2/(l1+l2))=l2 che verrà moltiplicato per il corrispondente\n",
    "#                                             termine di regolarizzazione"
   ]
  },
  {
   "cell_type": "markdown",
   "metadata": {
    "id": "HQDcPzSR4H5a"
   },
   "source": [
    "<h2>Analisi del costo delle ipotesi</h2>\n",
    "\n",
    "Si definiscono le funzioni di complessità dell'ipotesi e costo dell'ipotesi definite all'interno delle slides. Queste funzioni vengono utilizzate per mostrare che gli algoritmi di gradient descent con regolarizzazione minimizzano la funzione di costo corrispodente alla regolarizzazione applicata dell'ipotesi, rispetto al Gradient Descent standard, che minimizza l'errore quadratico medio."
   ]
  },
  {
   "cell_type": "code",
   "execution_count": null,
   "metadata": {
    "colab": {
     "base_uri": "https://localhost:8080/"
    },
    "id": "6X2bbs2n4N0I",
    "outputId": "b3f5d8d0-a2b4-46f2-a35f-584b896b6671"
   },
   "outputs": [
    {
     "name": "stdout",
     "output_type": "stream",
     "text": [
      "Costo dell'ipotesi data dai pesi dell'algoritmo Gradient Descent:  67410285.8805114\n",
      "Costo dell'ipotesi data dai pesi dell'algoritmo Gradient Descent con regolarizzazione L1:  67328445.15792932\n",
      "**************************************************\n",
      "Costo dell'ipotesi data dai pesi dell'algoritmo Gradient Descent:  67457642.53771287\n",
      "Costo dell'ipotesi data dai pesi dell'algoritmo Gradient Descent con regolarizzazione L2:  67383905.70245135\n",
      "**************************************************\n",
      "Costo dell'ipotesi data dai pesi dell'algoritmo Gradient Descent:  67617253.68301101\n",
      "Costo dell'ipotesi data dai pesi dell'algoritmo Gradient Descent con regolarizzazione Elastic Net:  67466422.37777245\n"
     ]
    }
   ],
   "source": [
    "def cost(res,pred,w,regu,l):\n",
    "  return mean_squared_error(res,pred)+l*complexity(w,regu)\n",
    "\n",
    "#Definiamo anche la funzione di regolarizzazione Ln\n",
    "def complexity(w,n):\n",
    "  if n==1:\n",
    "    return np.sum(np.abs(w))\n",
    "  elif n==2:\n",
    "    return np.sum(np.square(w))\n",
    "  else:\n",
    "    return np.sum(np.power(np.abs(w),n))\n",
    "\n",
    "print('Costo dell\\'ipotesi data dai pesi dell\\'algoritmo Gradient Descent: ',cost(y_test,y_pred_gd,w_gd,1,chosen_l1_lasso))\n",
    "print('Costo dell\\'ipotesi data dai pesi dell\\'algoritmo Gradient Descent con regolarizzazione L1: ',cost(y_test,y_pred_lasso,w_lasso,1,chosen_l1_lasso))\n",
    "print('*'*50)\n",
    "\n",
    "print('Costo dell\\'ipotesi data dai pesi dell\\'algoritmo Gradient Descent: ',cost(y_test,y_pred_gd,w_gd,2,chosen_l2_ridge))\n",
    "print('Costo dell\\'ipotesi data dai pesi dell\\'algoritmo Gradient Descent con regolarizzazione L2: ',cost(y_test,y_pred_ridge,w_ridge,2,chosen_l2_ridge))\n",
    "print('*'*50)\n",
    "\n",
    "print('Costo dell\\'ipotesi data dai pesi dell\\'algoritmo Gradient Descent: ',cost(y_test,y_pred_gd,w_gd,1,chosen_l1_en)+chosen_l2_en*complexity(w_gd,2))\n",
    "print('Costo dell\\'ipotesi data dai pesi dell\\'algoritmo Gradient Descent con regolarizzazione Elastic Net: ',cost(y_test,y_pred_en,w_en,1,chosen_l1_en)+chosen_l2_en*complexity(w_en,2))\n"
   ]
  },
  {
   "cell_type": "markdown",
   "metadata": {
    "id": "2CurshU9lGQO"
   },
   "source": [
    "<h2> Classificazione Mediante Regressione Lineare</h2>\n",
    "\n",
    "L'algoritmo gradient descent e in generale la regressione lineare si possono utilizzare anche per fare classificazione, attraverso la definizione di una funzione di threshold. Quella implementata è quella vista a lezione"
   ]
  },
  {
   "cell_type": "code",
   "execution_count": null,
   "metadata": {
    "id": "NOuCAivG-VAr"
   },
   "outputs": [],
   "source": [
    "def plot_acc(acc_list):\n",
    "  x=np.arange(len(acc_list))\n",
    "  y=np.array(acc_list)*100\n",
    "  plt.xlabel(\"Iterazioni\") \n",
    "  plt.ylabel(\"Accuracy\") \n",
    "  plt.plot(x,y) \n",
    "  plt.show()\n",
    "\n",
    "#implementazione della funzione di threshold, che divide l'input in due classi\n",
    "#quelli con valore>=value e quelli minori\n",
    "def threshold(res,value):\n",
    "  binary_output=np.copy(res)\n",
    "  binary_output[binary_output >= value] = 1\n",
    "  binary_output[binary_output < value] = 0\n",
    "  return binary_output\n",
    "\n",
    "#la funzione di classificazione mediante gradient descent è identica a quella \n",
    "#utilizzata per regressione, con alcune modifiche minimali\n",
    "def gradient_descent_total_classification(df,res,lr,regularization,lambda1,lambda2,batch,plot):\n",
    "  acc_list=[]\n",
    "\n",
    "  df=df.iloc[:batch,:]\n",
    "  res=res.iloc[:batch,:]\n",
    "\n",
    "  max_diff=1\n",
    "  cutoff=0.0001\n",
    "  n_iterazioni=0\n",
    "\n",
    "  w=np.random.randn(df.shape[1])\n",
    "  w=w.reshape(-1,1)\n",
    "\n",
    "  trasposta=df.T\n",
    "\n",
    "  while max_diff>cutoff and n_iterazioni<1000:\n",
    "    #learning rate adattativo: diminuisce al susseguirsi delle iterazioni\n",
    "    #utile per la convergenza nei task di classificazione \n",
    "    alpha=lr/(1000+n_iterazioni)\n",
    "\n",
    "    prev=w.copy()\n",
    "\n",
    "    #calcolo della funzione ipotesi con la threshold, come richiesto nelle slides\n",
    "    h_w=threshold(np.dot(df,w),0)\n",
    "\n",
    "    acc=accuracy_score(res,h_w)\n",
    "    acc_list.append(acc)\n",
    "\n",
    "    if regularization == 1: # Lasso regularization\n",
    "      w=w+(alpha)*((1/batch)*np.dot(trasposta,(res-h_w))-lambda1*np.sign(w))\n",
    "    elif regularization == 2: # Ridge regularization\n",
    "      w=w+(alpha)*((1/batch)*np.dot(trasposta,(res-h_w))-lambda2*w)\n",
    "    elif regularization == 3: # Elastic Net regularization\n",
    "      w=w+(alpha)*((1/batch)*np.dot(trasposta,(res-h_w))-lambda1*np.sign(w)-lambda2*w)\n",
    "    else:\n",
    "      w=w+(alpha/batch)*np.dot(trasposta,(res-h_w))\n",
    "    max_diff=np.abs(w-prev).max()\n",
    "    n_iterazioni+=1\n",
    "  if plot:\n",
    "    plot_acc(acc_list)\n",
    "  return w\n",
    "\n",
    "def predict_cl_lr(test,weights):\n",
    "  return threshold(predict_lr(test,weights),0)\n",
    "\n",
    "def gradient_descent_classification(df,res,lr=1000,plot=False,batch=df.shape[0]):\n",
    "  return gradient_descent_total_classification(df,res,lr,0,0,0,batch,plot)\n",
    "\n",
    "def gradient_descent_lasso_classification(df,res,lr=1000,lambda_value=100,plot=False,batch=df.shape[0]):\n",
    "  return gradient_descent_total_classification(df,res,lr,1,lambda_value,0,batch,plot)\n",
    "\n",
    "def gradient_descent_ridge_classification(df,res,lr=1000,lambda_value=1,plot=False,batch=df.shape[0]):\n",
    "  return gradient_descent_total_classification(df,res,lr,2,0,lambda_value,batch,plot)\n",
    "\n",
    "def gradient_descent_elastic_net_classification(df,res,lr=1000,lambda1=100,lambda2=0.1,plot=False,batch=df.shape[0]):\n",
    "  return gradient_descent_total_classification(df,res,lr,3,lambda1,lambda2,batch,plot)"
   ]
  },
  {
   "cell_type": "markdown",
   "metadata": {
    "id": "AotME4qji7iQ"
   },
   "source": [
    "<h2>Scelta degli iperparametri</h2>\n",
    "\n",
    "Qui si scelgono gli iperparametri migliori per i vari modelli.\n",
    "In particolare cerchiamo i valori degli iperparametri che massimizzino l'accuratezza. Si utilizza la funzione grid_search precedentemente definita. <br>\n",
    "La classificazione con regressione lineare mediante gradient descent presenta i seguenti iperparametri:\n",
    "\n",
    "*   learning rate\n",
    "*   lambda per regolarizzazione L1\n",
    "*   lambda per regolarizzazione L2\n",
    "*   entrambi i lambda per Elastic Net"
   ]
  },
  {
   "cell_type": "code",
   "execution_count": null,
   "metadata": {
    "colab": {
     "base_uri": "https://localhost:8080/"
    },
    "id": "m2bwRo6mkMKV",
    "outputId": "37841506-a42d-42a3-afe5-d1918c02a1bb"
   },
   "outputs": [
    {
     "name": "stdout",
     "output_type": "stream",
     "text": [
      "Linear Regression Classification: Gradient Descent\n",
      "{'Learning Rate': [10, 100, 1000]}\n",
      "Learning Rate: 10; Accuracy: 54.62227266994577\n",
      "Learning Rate: 100; Accuracy: 57.29600201790894\n",
      "Learning Rate: 1000; Accuracy: 52.42779669567411\n",
      "Chosen Learning Rate: 100\n",
      "**************************************************\n",
      "Linear Regression Classification: Gradient Descent with L1 Regularization\n",
      "{'Learning Rate': [10, 100, 1000], 'L1 Regularization': [0.0001, 0.001, 0.01, 0.1]}\n",
      "Learning Rate: 10; L1 Regularization: 0.0001; Accuracy: 53.26018413419094\n",
      "Learning Rate: 10; L1 Regularization: 0.001; Accuracy: 52.88182620759238\n",
      "Learning Rate: 10; L1 Regularization: 0.01; Accuracy: 55.69428679530836\n",
      "Learning Rate: 10; L1 Regularization: 0.1; Accuracy: 45.768697187539416\n",
      "Learning Rate: 100; L1 Regularization: 0.0001; Accuracy: 55.996973136587215\n",
      "Learning Rate: 100; L1 Regularization: 0.001; Accuracy: 57.01853953840333\n",
      "Learning Rate: 100; L1 Regularization: 0.01; Accuracy: 54.11779543448102\n",
      "Learning Rate: 100; L1 Regularization: 0.1; Accuracy: 55.9213015512675\n",
      "Learning Rate: 1000; L1 Regularization: 0.0001; Accuracy: 52.389960903014256\n",
      "Learning Rate: 1000; L1 Regularization: 0.001; Accuracy: 56.589733888258294\n",
      "Learning Rate: 1000; L1 Regularization: 0.01; Accuracy: 56.28704754697944\n",
      "Learning Rate: 1000; L1 Regularization: 0.1; Accuracy: 56.23659982343297\n",
      "Chosen Learning Rate: 100 Chosen Lambda L1 Regularization: 0.001\n",
      "**************************************************\n",
      "Linear Regression Classification: Gradient Descent with L2 Regularization\n",
      "{'Learning Rate': [10, 100, 1000], 'L2 Regularization': [0.0001, 0.001, 0.01, 0.1]}\n",
      "Learning Rate: 10; L2 Regularization: 0.0001; Accuracy: 54.79883970235843\n",
      "Learning Rate: 10; L2 Regularization: 0.001; Accuracy: 55.5807794173288\n",
      "Learning Rate: 10; L2 Regularization: 0.01; Accuracy: 54.571824946399296\n",
      "Learning Rate: 10; L2 Regularization: 0.1; Accuracy: 57.61130029007441\n",
      "Learning Rate: 100; L2 Regularization: 0.0001; Accuracy: 58.22928490351873\n",
      "Learning Rate: 100; L2 Regularization: 0.001; Accuracy: 57.82570311514693\n",
      "Learning Rate: 100; L2 Regularization: 0.01; Accuracy: 56.75368898978434\n",
      "Learning Rate: 100; L2 Regularization: 0.1; Accuracy: 51.91070752932274\n",
      "Learning Rate: 1000; L2 Regularization: 0.0001; Accuracy: 60.47420860133686\n",
      "Learning Rate: 1000; L2 Regularization: 0.001; Accuracy: 52.755706898726196\n",
      "Learning Rate: 1000; L2 Regularization: 0.01; Accuracy: 57.23294236347585\n",
      "Learning Rate: 1000; L2 Regularization: 0.1; Accuracy: 52.024214907302316\n",
      "Chosen Learning Rate: 1000 Chosen Lambda L2 Regularization: 0.0001\n",
      "**************************************************\n",
      "Linear Regression Classification: Gradient Descent with Elastic Net Regularization\n",
      "{'Learning Rate': [10, 100, 1000], 'L1 Regularization': [0.0001, 0.001, 0.01, 0.1], 'L2 Regularization': [0.0001, 0.001, 0.01, 0.1]}\n",
      "Learning Rate: 10; L1 Regularization: 0.0001; L2 Regularization: 0.0001; Accuracy: 53.7016017152226\n",
      "Learning Rate: 10; L1 Regularization: 0.0001; L2 Regularization: 0.001; Accuracy: 54.97540673477109\n",
      "Learning Rate: 10; L1 Regularization: 0.0001; L2 Regularization: 0.01; Accuracy: 57.52301677386807\n",
      "Learning Rate: 10; L1 Regularization: 0.0001; L2 Regularization: 0.1; Accuracy: 54.60966073905915\n",
      "Learning Rate: 10; L1 Regularization: 0.001; L2 Regularization: 0.0001; Accuracy: 51.771976289569935\n",
      "Learning Rate: 10; L1 Regularization: 0.001; L2 Regularization: 0.001; Accuracy: 56.2618236852062\n",
      "Learning Rate: 10; L1 Regularization: 0.001; L2 Regularization: 0.01; Accuracy: 48.90906797830748\n",
      "Learning Rate: 10; L1 Regularization: 0.001; L2 Regularization: 0.1; Accuracy: 55.3159288687098\n",
      "Learning Rate: 10; L1 Regularization: 0.01; L2 Regularization: 0.0001; Accuracy: 52.76831882961282\n",
      "Learning Rate: 10; L1 Regularization: 0.01; L2 Regularization: 0.001; Accuracy: 48.757724807668055\n",
      "Learning Rate: 10; L1 Regularization: 0.01; L2 Regularization: 0.01; Accuracy: 56.29965947786606\n",
      "Learning Rate: 10; L1 Regularization: 0.01; L2 Regularization: 0.1; Accuracy: 57.422121326775134\n",
      "Learning Rate: 10; L1 Regularization: 0.1; L2 Regularization: 0.0001; Accuracy: 53.9033926094085\n",
      "Learning Rate: 10; L1 Regularization: 0.1; L2 Regularization: 0.001; Accuracy: 53.045781309118425\n",
      "Learning Rate: 10; L1 Regularization: 0.1; L2 Regularization: 0.01; Accuracy: 56.8671963677639\n",
      "Learning Rate: 10; L1 Regularization: 0.1; L2 Regularization: 0.1; Accuracy: 55.820406104174545\n",
      "Learning Rate: 100; L1 Regularization: 0.0001; L2 Regularization: 0.0001; Accuracy: 58.63286669189053\n",
      "Learning Rate: 100; L1 Regularization: 0.0001; L2 Regularization: 0.001; Accuracy: 59.7553285407996\n",
      "Learning Rate: 100; L1 Regularization: 0.0001; L2 Regularization: 0.01; Accuracy: 56.24921175431958\n",
      "Learning Rate: 100; L1 Regularization: 0.0001; L2 Regularization: 0.1; Accuracy: 57.182494639929374\n",
      "Learning Rate: 100; L1 Regularization: 0.001; L2 Regularization: 0.0001; Accuracy: 54.42048177575987\n",
      "Learning Rate: 100; L1 Regularization: 0.001; L2 Regularization: 0.001; Accuracy: 59.26346323622147\n",
      "Learning Rate: 100; L1 Regularization: 0.001; L2 Regularization: 0.01; Accuracy: 52.97010972379871\n",
      "Learning Rate: 100; L1 Regularization: 0.001; L2 Regularization: 0.1; Accuracy: 52.011602976415695\n",
      "Learning Rate: 100; L1 Regularization: 0.01; L2 Regularization: 0.0001; Accuracy: 54.206078950687356\n",
      "Learning Rate: 100; L1 Regularization: 0.01; L2 Regularization: 0.001; Accuracy: 56.728465128011095\n",
      "Learning Rate: 100; L1 Regularization: 0.01; L2 Regularization: 0.01; Accuracy: 55.984361205700594\n",
      "Learning Rate: 100; L1 Regularization: 0.01; L2 Regularization: 0.1; Accuracy: 56.60234581914491\n",
      "Learning Rate: 100; L1 Regularization: 0.1; L2 Regularization: 0.0001; Accuracy: 56.85458443687729\n",
      "Learning Rate: 100; L1 Regularization: 0.1; L2 Regularization: 0.001; Accuracy: 54.88712321856476\n",
      "Learning Rate: 100; L1 Regularization: 0.1; L2 Regularization: 0.01; Accuracy: 55.87085382772102\n",
      "Learning Rate: 100; L1 Regularization: 0.1; L2 Regularization: 0.1; Accuracy: 56.62756968091814\n",
      "Learning Rate: 1000; L1 Regularization: 0.0001; L2 Regularization: 0.0001; Accuracy: 60.27241770715096\n",
      "Learning Rate: 1000; L1 Regularization: 0.0001; L2 Regularization: 0.001; Accuracy: 52.94488586202548\n",
      "Learning Rate: 1000; L1 Regularization: 0.0001; L2 Regularization: 0.01; Accuracy: 51.98637911464245\n",
      "Learning Rate: 1000; L1 Regularization: 0.0001; L2 Regularization: 0.1; Accuracy: 58.4815235212511\n",
      "Learning Rate: 1000; L1 Regularization: 0.001; L2 Regularization: 0.0001; Accuracy: 56.514062302938584\n",
      "Learning Rate: 1000; L1 Regularization: 0.001; L2 Regularization: 0.001; Accuracy: 52.98272165468533\n",
      "Learning Rate: 1000; L1 Regularization: 0.001; L2 Regularization: 0.01; Accuracy: 57.69958380628074\n",
      "Learning Rate: 1000; L1 Regularization: 0.001; L2 Regularization: 0.1; Accuracy: 52.465632488333966\n",
      "Learning Rate: 1000; L1 Regularization: 0.01; L2 Regularization: 0.0001; Accuracy: 52.65481145163324\n",
      "Learning Rate: 1000; L1 Regularization: 0.01; L2 Regularization: 0.001; Accuracy: 56.42577878673225\n",
      "Learning Rate: 1000; L1 Regularization: 0.01; L2 Regularization: 0.01; Accuracy: 55.60600327910203\n",
      "Learning Rate: 1000; L1 Regularization: 0.01; L2 Regularization: 0.1; Accuracy: 56.09786858368017\n",
      "Learning Rate: 1000; L1 Regularization: 0.1; L2 Regularization: 0.0001; Accuracy: 49.67839576239122\n",
      "Learning Rate: 1000; L1 Regularization: 0.1; L2 Regularization: 0.001; Accuracy: 50.30899230672215\n",
      "Learning Rate: 1000; L1 Regularization: 0.1; L2 Regularization: 0.01; Accuracy: 51.2801109849918\n",
      "Learning Rate: 1000; L1 Regularization: 0.1; L2 Regularization: 0.1; Accuracy: 55.06369025097742\n",
      "Chosen Learning Rate: 1000 Chosen Lambda L1 Regularization: 0.0001 Chosen Lambda L2 Regularization: 0.0001\n"
     ]
    }
   ],
   "source": [
    "#**********LINEAR REGRESSION CLASSIFICATION************\n",
    "#ripetiamo l'intera procedura con il fine di massimizzare l'accuratezza\n",
    "\n",
    "print('Linear Regression Classification: Gradient Descent')\n",
    "learning_rate_values=[10**i for i in range(1,4)]\n",
    "l1_values=[10**i for i in range(-4,0)]\n",
    "l2_values=[10**i for i in range(-4,0)]\n",
    "h_params_gd={'Learning Rate':learning_rate_values}\n",
    "print(h_params_gd)\n",
    "#calcolo del miglior learning rate\n",
    "#mediante il calcolo calcolo del minimo mse\n",
    "chosen_params=grid_search(gradient_descent_classification,\n",
    "                          predict_cl_lr,\n",
    "                          h_params_gd,\n",
    "                          x_train_set_with_bias,\n",
    "                          y_train_set_disc,\n",
    "                          x_validation_set_with_bias,\n",
    "                          y_validation_set_disc,\n",
    "                          False)\n",
    "#inizializzo gli iperparametri\n",
    "chosen_lr_gd_cl=chosen_params[0]\n",
    "print('Chosen Learning Rate:' ,chosen_lr_gd_cl)\n",
    "print('*'*50)\n",
    "\n",
    "print('Linear Regression Classification: Gradient Descent with L1 Regularization')\n",
    "h_params_lasso=h_params_gd.copy()\n",
    "h_params_lasso['L1 Regularization']=l1_values\n",
    "print(h_params_lasso)\n",
    "chosen_params=grid_search(gradient_descent_lasso_classification,\n",
    "                          predict_cl_lr,\n",
    "                          h_params_lasso,\n",
    "                          x_train_set_with_bias,\n",
    "                          y_train_set_disc,\n",
    "                          x_validation_set_with_bias,\n",
    "                          y_validation_set_disc,\n",
    "                          False)\n",
    "chosen_lr_lasso_cl,chosen_l1_lasso_cl=chosen_params\n",
    "print('Chosen Learning Rate:' ,chosen_lr_lasso_cl,'Chosen Lambda L1 Regularization:',chosen_l1_lasso_cl)\n",
    "print('*'*50)\n",
    "\n",
    "print('Linear Regression Classification: Gradient Descent with L2 Regularization')\n",
    "h_params_ridge={'Learning Rate':learning_rate_values, 'L2 Regularization':l2_values }\n",
    "print(h_params_ridge)\n",
    "chosen_params=grid_search(gradient_descent_ridge_classification,\n",
    "                          predict_cl_lr,\n",
    "                          h_params_ridge,\n",
    "                          x_train_set_with_bias,\n",
    "                          y_train_set_disc,\n",
    "                          x_validation_set_with_bias,\n",
    "                          y_validation_set_disc,\n",
    "                          False)\n",
    "chosen_lr_ridge_cl,chosen_l2_ridge_cl=chosen_params\n",
    "print('Chosen Learning Rate:' ,chosen_lr_ridge_cl,'Chosen Lambda L2 Regularization:',chosen_l2_ridge_cl)\n",
    "print('*'*50)\n",
    "\n",
    "print('Linear Regression Classification: Gradient Descent with Elastic Net Regularization')\n",
    "h_params_en=h_params_lasso.copy()\n",
    "h_params_en['L2 Regularization']=l2_values\n",
    "print(h_params_en)\n",
    "chosen_params=grid_search(gradient_descent_elastic_net_classification,\n",
    "                          predict_cl_lr,\n",
    "                          h_params_en,\n",
    "                          x_train_set_with_bias,\n",
    "                          y_train_set_disc,\n",
    "                          x_validation_set_with_bias,\n",
    "                          y_validation_set_disc,\n",
    "                          False)\n",
    "chosen_lr_en_cl,chosen_l1_en_cl,chosen_l2_en_cl=chosen_params\n",
    "print('Chosen Learning Rate:' ,chosen_lr_en_cl,'Chosen Lambda L1 Regularization:',chosen_l1_en_cl,'Chosen Lambda L2 Regularization:',chosen_l2_en_cl)"
   ]
  },
  {
   "cell_type": "markdown",
   "metadata": {
    "id": "OlOOqVwRkqJx"
   },
   "source": [
    "<h2>Testing e Analisi dei Modelli</h2>\n",
    "\n",
    "La classificazione mediante regressione lineare, utilizzando la funzione di threshold presentata a lezione, presenta alcune criticità. Il modello, difatti, è suscettibile a grandi oscillazioni, nonostante il learning rate adattativo utilizzato, e anche con un learning rate pari a 1000/(1000+n), dove n è il numero di iterazioni, suggerito nelle slides, risulta inaffidabile. <br>\n",
    "Dai grafici mi è sembrato di evincere che neppure utilizzando la regolarizzazione si facilita la convergenza del modello. Spesso l'accuratezza raggiunta è fortemente dipendente dai valori iniziali dei pesi. A volte, inoltre, il termine di regolarizzazione introduce ulteriori oscillazioni. <br>\n",
    "In conclusione, per la classificazione del dataset si sconsiglia di affidarsi alla classificazione mediante regressione lineare, in quanto, come vedremo, ha prestazioni decisamente peggiori rispetto a quelli presentati successivamente. <br>\n",
    "L'implementazione di Scikit-learn ha una convergenza migliore in virtù di un miglior algoritmo per il learning rate adattativo (learning rate diviso per 5 quando la loss scende per più iterazioni)"
   ]
  },
  {
   "cell_type": "code",
   "execution_count": null,
   "metadata": {
    "colab": {
     "base_uri": "https://localhost:8080/",
     "height": 1000
    },
    "id": "hVXK13y9kx8U",
    "outputId": "876ea539-9cbb-42a4-c36f-665610c99efc"
   },
   "outputs": [
    {
     "name": "stdout",
     "output_type": "stream",
     "text": [
      "Classification using Linear Regression with Gradient Descent\n"
     ]
    },
    {
     "data": {
      "image/png": "[encoded data removed]",
      "text/plain": [
       "<Figure size 640x480 with 1 Axes>"
      ]
     },
     "metadata": {},
     "output_type": "display_data"
    },
    {
     "name": "stdout",
     "output_type": "stream",
     "text": [
      "Accuracy Linear regression classification :  59.09950813469542\n",
      "**************************************************\n",
      "Accuracy SGDClassifier with squared loss (Scikit-learn):  56.61495775003152\n",
      "**************************************************\n",
      "Classification using Linear Regression with Gradient Descent with L1 Regularization\n"
     ]
    },
    {
     "data": {
      "image/png": "[encoded data removed]",
      "text/plain": [
       "<Figure size 640x480 with 1 Axes>"
      ]
     },
     "metadata": {},
     "output_type": "display_data"
    },
    {
     "name": "stdout",
     "output_type": "stream",
     "text": [
      "Accuracy Lasso linear regression classification:  53.941228402068354\n",
      "**************************************************\n",
      "Accuracy SGDClassifier L1 regularization (Scikit-learn):  55.35376466136965\n",
      "**************************************************\n",
      "Classification using Linear Regression with Gradient Descent with L2 Regularization\n"
     ]
    },
    {
     "data": {
      "image/png": "[encoded data removed]",
      "text/plain": [
       "<Figure size 640x480 with 1 Axes>"
      ]
     },
     "metadata": {},
     "output_type": "display_data"
    },
    {
     "name": "stdout",
     "output_type": "stream",
     "text": [
      "Accuracy Ridge linear regression classification:  52.55391600454029\n",
      "**************************************************\n",
      "Accuracy SGDClassifier with L2 regularization (Scikit-learn):  56.728465128011095\n",
      "**************************************************\n",
      "Classification using Linear Regression with Gradient Descent with Elastic Net Regularization\n"
     ]
    },
    {
     "data": {
      "image/png": "[encoded data removed]",
      "text/plain": [
       "<Figure size 640x480 with 1 Axes>"
      ]
     },
     "metadata": {},
     "output_type": "display_data"
    },
    {
     "name": "stdout",
     "output_type": "stream",
     "text": [
      "Accuracy Elastic Net linear regression classification:  55.845629965947786\n",
      "**************************************************\n",
      "Accuracy SGDClassifier with Elastic Net regularization (Scikit-learn):  53.38630344305714\n"
     ]
    }
   ],
   "source": [
    "\n",
    "print('Classification using Linear Regression with Gradient Descent')\n",
    "w_gd_cl=gradient_descent_classification(x_train_with_bias,y_train_disc,chosen_lr_gd_cl,True)\n",
    "y_pred_gd_cl=predict_cl_lr(x_test_with_bias,w_gd_cl)\n",
    "acc_gd = accuracy_score(y_test_disc, y_pred_gd_cl)\n",
    "print('Accuracy Linear regression classification : ', acc_gd*100)\n",
    "print('*'*50)\n",
    "\n",
    "#Confronto con Scikit-Learn\n",
    "from sklearn.linear_model import SGDClassifier\n",
    "# SGDClassifier with squared loss\n",
    "sgd_sklearn = SGDClassifier(loss='perceptron', learning_rate='adaptive', eta0=(chosen_lr_gd_cl/1000), alpha=0.0, max_iter=1000, tol=1e-4)\n",
    "sgd_sklearn.fit(x_train, y_train_disc.values.ravel())\n",
    "y_pred_sgd_sklearn = sgd_sklearn.predict(x_test)\n",
    "acc_sgd_sklearn = accuracy_score(y_test_disc, y_pred_sgd_sklearn)\n",
    "print('Accuracy SGDClassifier with squared loss (Scikit-learn): ', acc_sgd_sklearn*100)\n",
    "print('*'*50)\n",
    "\n",
    "print('Classification using Linear Regression with Gradient Descent with L1 Regularization')\n",
    "w_lasso_cl=gradient_descent_lasso_classification(x_train_with_bias,y_train_disc,chosen_lr_lasso_cl,chosen_l1_lasso_cl,True)\n",
    "y_pred_lasso_cl=predict_cl_lr(x_test_with_bias,w_lasso_cl)\n",
    "acc_lasso = accuracy_score(y_test_disc, y_pred_lasso_cl)\n",
    "print('Accuracy Lasso linear regression classification: ', acc_lasso*100)\n",
    "print('*'*50)\n",
    "\n",
    "# SGDClassifier with squared loss and L1 regularization\n",
    "sgd_lasso_sklearn = SGDClassifier(loss='perceptron', learning_rate='adaptive', eta0=(chosen_lr_lasso_cl/1000), penalty='l1', alpha=chosen_l1_lasso_cl, max_iter=1000, tol=1e-4)\n",
    "sgd_lasso_sklearn.fit(x_train, y_train_disc.values.ravel())\n",
    "y_pred_lasso_sgd_sklearn = sgd_lasso_sklearn.predict(x_test)\n",
    "acc_lasso_sgd_sklearn = accuracy_score(y_test_disc, y_pred_lasso_sgd_sklearn)\n",
    "print('Accuracy SGDClassifier L1 regularization (Scikit-learn): ', acc_lasso_sgd_sklearn*100)\n",
    "print('*'*50)\n",
    "\n",
    "print('Classification using Linear Regression with Gradient Descent with L2 Regularization')\n",
    "w_ridge_cl=gradient_descent_ridge_classification(x_train_with_bias,y_train_disc,chosen_lr_ridge_cl,chosen_l2_ridge_cl,True)\n",
    "y_pred_ridge_cl=predict_cl_lr(x_test_with_bias,w_ridge_cl)\n",
    "acc_ridge = accuracy_score(y_test_disc, y_pred_ridge_cl)\n",
    "print('Accuracy Ridge linear regression classification: ', acc_ridge*100)\n",
    "print('*'*50)\n",
    "\n",
    "# SGDClassifier with squared loss and L2 regularization\n",
    "sgd_ridge_sklearn = SGDClassifier(loss='perceptron', learning_rate='adaptive', eta0=(chosen_lr_ridge_cl/1000), penalty='l2', alpha=chosen_l2_ridge_cl, max_iter=1000, tol=1e-4)\n",
    "sgd_ridge_sklearn.fit(x_train, y_train_disc.values.ravel())\n",
    "y_pred_ridge_sgd_sklearn = sgd_ridge_sklearn.predict(x_test)\n",
    "acc_ridge_sgd_sklearn = accuracy_score(y_test_disc, y_pred_ridge_sgd_sklearn)\n",
    "print('Accuracy SGDClassifier with L2 regularization (Scikit-learn): ', acc_ridge_sgd_sklearn*100)\n",
    "print('*'*50)\n",
    "\n",
    "print('Classification using Linear Regression with Gradient Descent with Elastic Net Regularization')\n",
    "w_en_cl=gradient_descent_elastic_net_classification(x_train_with_bias,y_train_disc,chosen_lr_en_cl,chosen_l1_en_cl,chosen_l2_en_cl,True)\n",
    "y_pred_en_cl=predict_cl_lr(x_test_with_bias,w_en_cl)\n",
    "acc_en = accuracy_score(y_test_disc, y_pred_en_cl)\n",
    "print('Accuracy Elastic Net linear regression classification: ', acc_en*100)\n",
    "print('*'*50)\n",
    "\n",
    "# SGDClassifier with squared loss and Elastic Net regularization\n",
    "sgd_en_sklearn = SGDClassifier(loss='perceptron', learning_rate='adaptive', eta0=(chosen_lr_en_cl/1000), penalty='elasticnet', alpha=chosen_l1_en_cl+chosen_l2_en_cl, l1_ratio=chosen_l1_en_cl/(chosen_l1_en_cl+chosen_l2_en_cl), max_iter=1000, tol=1e-4)\n",
    "sgd_en_sklearn.fit(x_train, y_train_disc.values.ravel())\n",
    "y_pred_en_sgd_sklearn = sgd_en_sklearn.predict(x_test)\n",
    "acc_en_sgd_sklearn = accuracy_score(y_test_disc, y_pred_en_sgd_sklearn)\n",
    "print('Accuracy SGDClassifier with Elastic Net regularization (Scikit-learn): ', acc_en_sgd_sklearn*100)"
   ]
  },
  {
   "cell_type": "markdown",
   "metadata": {
    "id": "yezqDFP5NbLc"
   },
   "source": [
    "#Implementazione Logistic Regression\n",
    "La regressione logistica è un modello di classificazione migliore di quello utilizzato in combinazione con gradient descent per utilizzare la regressione lineare come classificatore.\n",
    "La sua implementazione è simile al gradient descent, con l'introduzione della funzione logistica per portare i valori nel range [0,1]. <br>\n",
    "Nell'algoritmo è presente la possibilità di inserire la regolarizzazione L2, per migliorare la qualità delle predizioni. Anche qui, l'algoritmo offre la possibilità di inserire il numero di sample su cui testarlo."
   ]
  },
  {
   "cell_type": "code",
   "execution_count": null,
   "metadata": {
    "id": "ltOQNhVyNe4v"
   },
   "outputs": [],
   "source": [
    "def sigmoid(z):\n",
    "  #valori per evitare l'overflow della funzione e successivo return di NaN\n",
    "  z=np.clip(z,-700,700)\n",
    "  return 1/(1+np.exp(-z))\n",
    "\n",
    "def logistic_regression(df, res, lr=1000, l2=0.1, plot=False, batch=df.shape[0]):\n",
    "  #inizializzazione della lista per plottare\n",
    "  acc_list=[]\n",
    "  #selezione del numero di samples desiderato\n",
    "  df=df.iloc[:batch,:]\n",
    "  res=res.iloc[:batch,:]\n",
    "  #inizializzazione del vettore dei pesi\n",
    "  w=np.random.randn(df.shape[1])\n",
    "  w=w.reshape(-1,1)\n",
    "  #inizializzazione delle condizioni di stop\n",
    "  n_iterazioni=0\n",
    "  max_diff=1\n",
    "  #le condizioni di stop rimangono quelle del gradient descent\n",
    "  while max_diff>0.0001 and n_iterazioni<1000:\n",
    "    #anche qui viene utilizzato un learning rate adattativo\n",
    "    alpha=lr/(1000+n_iterazioni)\n",
    "    prev=w.copy()\n",
    "    #calcolo della funzione ipotesi mediante la funzione logistica\n",
    "    h_w=sigmoid(np.dot(df,w))\n",
    "    \n",
    "    #calcolo dell'accuracy per aggiungerla alla lista\n",
    "    acc=accuracy_score(res,threshold(h_w,0.5))\n",
    "    acc_list.append(acc)\n",
    "    \n",
    "    #aggiornamento dei pesi utilizzando come funzione\n",
    "    #di loss la binary cross entropy\n",
    "    w=w+alpha*((1/batch)*np.dot(df.T,(res-h_w))-l2*w)\n",
    "    #aggiornamento delle variabili per le condizioni di stop\n",
    "    n_iterazioni+=1\n",
    "    max_diff=np.abs(w-prev).max()\n",
    "  if plot:\n",
    "    plot_acc(acc_list)\n",
    "  return w\n",
    "\n",
    "def predict_logistic(test,w):\n",
    "  return threshold(sigmoid(np.dot(test,w)),0.5)"
   ]
  },
  {
   "cell_type": "markdown",
   "metadata": {
    "id": "wgkg64gOoXQH"
   },
   "source": [
    "<h2> Scelta degli iperparametri </h2>\n",
    "\n",
    "Anche per la logistic regression il nostro obiettivo è massimizzare l'accuratezza, in quanto l'algoritmo è di classificazione.\n",
    "\n",
    "La Regressione Logistica presenta i seguenti iperparametri:\n",
    "\n",
    "*   learning rate\n",
    "*   lambda per la regolarizzazione L2\n",
    "\n"
   ]
  },
  {
   "cell_type": "code",
   "execution_count": null,
   "metadata": {
    "colab": {
     "base_uri": "https://localhost:8080/"
    },
    "id": "SH_XL2R5ovY_",
    "outputId": "2ce7104e-2e7a-4f21-a7ee-a05be576b597"
   },
   "outputs": [
    {
     "name": "stdout",
     "output_type": "stream",
     "text": [
      "Logistic Regression Classification: Gradient Descent with L2 Regularization\n",
      "{'Learning Rate': [10, 100, 1000], 'L2 Regularization': [0.0001, 0.001, 0.01, 0.1]}\n",
      "Learning Rate: 10; L2 Regularization: 0.0001; Accuracy: 52.667423382519864\n",
      "Learning Rate: 10; L2 Regularization: 0.001; Accuracy: 53.31063185773742\n",
      "Learning Rate: 10; L2 Regularization: 0.01; Accuracy: 52.957497792912086\n",
      "Learning Rate: 10; L2 Regularization: 0.1; Accuracy: 53.033169378231804\n",
      "Learning Rate: 100; L2 Regularization: 0.0001; Accuracy: 62.504729474082474\n",
      "Learning Rate: 100; L2 Regularization: 0.001; Accuracy: 61.21831252364737\n",
      "Learning Rate: 100; L2 Regularization: 0.01; Accuracy: 64.78748896456047\n",
      "Learning Rate: 100; L2 Regularization: 0.1; Accuracy: 64.52263841594149\n",
      "Learning Rate: 1000; L2 Regularization: 0.0001; Accuracy: 65.36763778534494\n",
      "Learning Rate: 1000; L2 Regularization: 0.001; Accuracy: 65.44330937066465\n",
      "Learning Rate: 1000; L2 Regularization: 0.01; Accuracy: 65.06495144406608\n",
      "Learning Rate: 1000; L2 Regularization: 0.1; Accuracy: 64.38390717618867\n",
      "Chosen Learning Rate: 1000 Chosen Lambda L2 Regularization: 0.001\n"
     ]
    }
   ],
   "source": [
    "print('Logistic Regression Classification: Gradient Descent with L2 Regularization')\n",
    "learning_rate_values=[10**i for i in range(1,4)]\n",
    "l2_values=[10**i for i in range(-4,0)]\n",
    "h_params_logistic={'Learning Rate':learning_rate_values, 'L2 Regularization':l2_values }\n",
    "print(h_params_logistic)\n",
    "chosen_params=grid_search(logistic_regression,\n",
    "                          predict_logistic,\n",
    "                          h_params_logistic,\n",
    "                          x_train_set_with_bias,\n",
    "                          y_train_set_disc,\n",
    "                          x_validation_set_with_bias,\n",
    "                          y_validation_set_disc,\n",
    "                          False)\n",
    "chosen_lr_logistic,chosen_l2_logistic=chosen_params\n",
    "print('Chosen Learning Rate:' ,chosen_lr_logistic,'Chosen Lambda L2 Regularization:',chosen_l2_logistic)"
   ]
  },
  {
   "cell_type": "markdown",
   "metadata": {
    "id": "tnH1kfTiovqJ"
   },
   "source": [
    "<h2>Testing e Analisi del Modello</h2>\n",
    "\n",
    "La regressione logistica è sicuramente uno dei modelli predittivi più efficaci per la classificazione. Essa viene utilizzata sia per i task di classificazione binaria, come in questo caso, che per quelli di classificazione con più classi. <br>\n",
    "Le sue prestazioni, con l'introduzione della regolarizzazione L2, sono forse le migliori tra tutti i task di classificazione per il dataset corrente (anche se a volte la classificazione con reti neurali risulta migliore). Sicuramente, rispetto ad una rete neurale, la regressione logistica è più rapida ed efficiente, presenta meno iperparametri e ha prestazioni affini, se non migliori.\n",
    "<br>\n",
    "Il modello di Scikit-Learn ha un algoritmo di ottimizzazione più complesso e converge tendenzialmente meglio, anche se non di molto.  "
   ]
  },
  {
   "cell_type": "code",
   "execution_count": null,
   "metadata": {
    "colab": {
     "base_uri": "https://localhost:8080/",
     "height": 501
    },
    "id": "jk-YtB5Go4N3",
    "outputId": "39d94041-587a-4390-9b1a-40c10e118120"
   },
   "outputs": [
    {
     "data": {
      "image/png": "[encoded data removed]",
      "text/plain": [
       "<Figure size 640x480 with 1 Axes>"
      ]
     },
     "metadata": {},
     "output_type": "display_data"
    },
    {
     "name": "stdout",
     "output_type": "stream",
     "text": [
      "Accuracy Logistic regression classification:  65.19107075293228\n",
      "**************************************************\n",
      "Accuracy Logistic regression classification (Scikit-learn): 65.2793542691386\n"
     ]
    }
   ],
   "source": [
    "w_logistic=logistic_regression(x_train_with_bias,y_train_disc,chosen_lr_logistic,chosen_l2_logistic,True)\n",
    "y_pred_logistic=predict_logistic(x_test_with_bias,w_logistic)\n",
    "acc_logistic = accuracy_score(y_test_disc, y_pred_logistic)\n",
    "print('Accuracy Logistic regression classification: ', acc_logistic*100)\n",
    "print(50*'*')\n",
    "\n",
    "#Confronto con Scikit-Learn\n",
    "from sklearn.linear_model import LogisticRegression\n",
    "#C=Inverse of regularization strength\n",
    "#Sag è l'algoritmo di ottimizzazione più simile al gradient descent presente nella libreria\n",
    "#Stochastic Average Gradient, che in realtà è più potente\n",
    "#perché può essere utilizzato anche nella classificazione multiclasse\n",
    "logreg_model = LogisticRegression(penalty='l2', C=1/chosen_l2_logistic, solver='sag', tol=0.0001, max_iter=1000)\n",
    "logreg_model.fit(x_train, y_train_disc.values.ravel())\n",
    "y_pred_logistic_sklearn = logreg_model.predict(x_test)\n",
    "acc_logistic_sklearn = accuracy_score(y_test_disc, y_pred_logistic_sklearn)\n",
    "print('Accuracy Logistic regression classification (Scikit-learn):', acc_logistic_sklearn*100)\n"
   ]
  },
  {
   "cell_type": "markdown",
   "metadata": {
    "id": "DFaZMutJccoh"
   },
   "source": [
    "#Implementazione K-Nearest-Neighbors\n",
    "Il modello K-Nearest-Neighbors può essere utilizzato per entrambi i tasks di classificazione e regressione. L'algoritmo trova per ogni sample i K campioni del train_set più vicini e restituisce il valore più frequente per la classificazione, la media per la regressione.\n",
    "\n",
    "Le funzioni implementate sono le seguenti:\n",
    "\n",
    "\n",
    "*   KNN\n",
    "*   KNN Mean\n",
    "*   KNN Majority Value\n",
    "*   KNN Predict\n",
    "*   KNN Regression\n",
    "*   KNN Classification\n",
    "\n",
    "Qui l'impostazione del codice torna ad essere simile a quella utilizzata per gradient descent: è sufficiente invocare una delle ultime due funzioni, passando come parametri K, il train set e il test set, per ottenere direttamente il risultato. <br>\n",
    "Queste funzioni infatti richiamano la predict, andando automaticamente a settare la il parametro corrispondente al task che si desidera eseguire. La predict calcola i KNN per ogni sample e restituisce il risultato richiesto, attraverso una chiamata a majority value (nel caso di classificazione) o mean (per la regressione)\n",
    "\n"
   ]
  },
  {
   "cell_type": "code",
   "execution_count": null,
   "metadata": {
    "id": "EN3yi_1ocp0e"
   },
   "outputs": [],
   "source": [
    "from scipy.spatial.distance import cdist\n",
    "\n",
    "#calcola gli indici dei k elementi più vicini secondo la distanza euclidea\n",
    "def KNN(k,df,sample):\n",
    "  #calcolo le distanze del sample in input da tutti gli altri\n",
    "  distances = cdist(df, sample.values.reshape(1,-1),metric='euclidean')\n",
    "  #prendo gli indici corrispondenti agli elementi ordinati (in ordine crescente)\n",
    "  indices=np.argsort(distances,axis=0)\n",
    "  #ritorno gli indici dei knn\n",
    "  return indices[:k]\n",
    "\n",
    "#calcola la media tra i k più vicini trovati\n",
    "def KNN_mean(k,res,knn):\n",
    "  ret=0\n",
    "  for i in range(k):\n",
    "    ret+=res.iloc[knn[i,0],0]\n",
    "  return ret/k\n",
    "\n",
    "#calcola il valore più frequente per i k più vicini trovati\n",
    "def KNN_majority_value(k,res,knn):\n",
    "  #print(res)\n",
    "  ret=0\n",
    "  for i in range(k):\n",
    "    ret+=res.iloc[knn[i,0],0]\n",
    "  #print(ret)\n",
    "  if ret>(k/2):\n",
    "    return 1\n",
    "  return 0  \n",
    "\n",
    "#funzione di predizione\n",
    "def KNN_predict(k,test,train,res,regression):\n",
    "  y_pred=np.empty(test.shape[0])\n",
    "\n",
    "  for index in range(test.shape[0]):\n",
    "    #calcolo i KNN\n",
    "    knn=KNN(k,train,test.iloc[index,:])\n",
    "    if regression==True:\n",
    "      #per i task di regressione calcolo la media\n",
    "      y_pred[index]=(KNN_mean(k,res,knn))\n",
    "    else:\n",
    "      #per i task di classificazione calcolo il valore più frequente\n",
    "      y_pred[index]=(KNN_majority_value(k,res,knn))\n",
    "  return y_pred\n",
    "\n",
    "def KNN_regression(k,test,train,res):\n",
    "  return KNN_predict(k,test,train,res,True)\n",
    "\n",
    "def KNN_classification(k,test,train,res):\n",
    "  return KNN_predict(k,test,train,res,False)"
   ]
  },
  {
   "cell_type": "markdown",
   "metadata": {
    "id": "cZbzCxL1s3GC"
   },
   "source": [
    "<h2> Scelta degli iperparametri </h2>\n",
    "\n",
    "In virtù delle differenze implementative, non può essere applicata la funzione grid search. Tuttavia, il modello contiene un solo iperparametro, perciò consideriamo il comportamento del modello in entrambi i task di regressione e moltiplicazione al variare di K, cioè il numero di vicini selezionato.\n"
   ]
  },
  {
   "cell_type": "code",
   "execution_count": null,
   "metadata": {
    "colab": {
     "base_uri": "https://localhost:8080/",
     "height": 1000
    },
    "id": "8JY5c63FtgmM",
    "outputId": "4d1aac54-608b-4c1b-8ecc-5ad4da8e84e8"
   },
   "outputs": [
    {
     "name": "stdout",
     "output_type": "stream",
     "text": [
      "KNN: Regression and Classification\n",
      "KNN accuracy:  57.82570311514693 K:  1\n",
      "KNN Root mean squared error:  17022.44469208948 K:  1\n",
      "KNN accuracy:  59.46525413040737 K:  3\n",
      "KNN Root mean squared error:  13179.193476656894 K:  3\n",
      "KNN accuracy:  60.92823811325514 K:  5\n",
      "KNN Root mean squared error:  12651.948082231045 K:  5\n",
      "KNN accuracy:  63.55151973767184 K:  17\n",
      "KNN Root mean squared error:  11767.99434365161 K:  17\n",
      "KNN accuracy:  64.35868331441543 K:  127\n",
      "KNN Root mean squared error:  11464.470802399625 K:  127\n",
      "KNN accuracy:  64.09383276579645 K:  513\n",
      "KNN Root mean squared error:  11433.59116730785 K:  513\n",
      "KNN accuracy:  63.65241518476479 K:  1025\n",
      "KNN Root mean squared error:  11431.593423535214 K:  1025\n",
      "**************************************************\n"
     ]
    },
    {
     "data": {
      "image/png": "[encoded data removed]",
      "text/plain": [
       "<Figure size 640x480 with 1 Axes>"
      ]
     },
     "metadata": {},
     "output_type": "display_data"
    },
    {
     "name": "stdout",
     "output_type": "stream",
     "text": [
      "Scelto per classificazione con KNN K:  127\n",
      "**************************************************\n"
     ]
    },
    {
     "data": {
      "image/png": "[encoded data removed]",
      "text/plain": [
       "<Figure size 640x480 with 1 Axes>"
      ]
     },
     "metadata": {},
     "output_type": "display_data"
    },
    {
     "name": "stdout",
     "output_type": "stream",
     "text": [
      "Scelto per regressione con KNN K:  1025\n"
     ]
    }
   ],
   "source": [
    "#*****************K NEAREST NEIGHBORS******************\n",
    "#l'unico iperparametro del modello è il numero di vicini k\n",
    "print('KNN: Regression and Classification')\n",
    "\n",
    "#inizializzazione delle variabili che conterranno i valori finali di k\n",
    "k_reg=0\n",
    "k_cl=0\n",
    "\n",
    "#inizializzazione dei valori assegnati a k, cercando di coprire diversi\n",
    "#ordini di grandezza differenti\n",
    "k_values=[1,3,5,17,127,513,1025]\n",
    "acc_values=[]\n",
    "mse_values=[]\n",
    "\n",
    "max_acc=0\n",
    "min_loss=None\n",
    "for k in k_values:\n",
    "  #calcolo dell'accuratezza per il valore di k corrente\n",
    "  y_pred=KNN_classification(k,x_validation_set,x_train_set,y_train_set_disc)\n",
    "  acc = accuracy_score(y_validation_set_disc, y_pred)\n",
    "  print('KNN accuracy: ', acc*100,'K: ',k)\n",
    "  \n",
    "  #per printare il grafico\n",
    "  acc_values.append(acc)\n",
    "\n",
    "  #aggiorno il valore di k_cl se ho un nuovo valore massimo per l'accuratezza\n",
    "  if acc>max_acc:\n",
    "    max_acc=acc\n",
    "    k_cl=k\n",
    "\n",
    "  #analogamente calcolo il MSE per il valore di k corrente\n",
    "  y_pred=KNN_regression(k,x_validation_set,x_train_set,y_train_set)\n",
    "  mse = mean_squared_error(y_validation_set, y_pred)\n",
    "  mse_values.append(mse)\n",
    "  print('KNN Root mean squared error: ', np.sqrt(mse),'K: ',k)\n",
    "\n",
    "  #aggiorno il valore di k_reg solo se il valore della loss per il k\n",
    "  #corrente è minore del minimo registrato\n",
    "  if min_loss is None or mse<min_loss:\n",
    "    min_loss=mse\n",
    "    k_reg=k\n",
    "\n",
    "print(50*'*')\n",
    "#grafico che mostra l'evoluzione dell'accuratezza al variare di k\n",
    "x=np.array(k_values)\n",
    "y=np.array(acc_values)*100\n",
    "plt.xlabel(\"K\") \n",
    "plt.ylabel(\"Accuracy\") \n",
    "plt.plot(x,y) \n",
    "plt.show()\n",
    "print('Scelto per classificazione con KNN K: ',k_cl)\n",
    "\n",
    "#grafico che mostra l'evoluzione del Mean Squared Error al variare di k\n",
    "print(50*'*')\n",
    "y=np.sqrt(np.array(mse_values))\n",
    "plt.ylabel(\"RMSE\") \n",
    "plt.plot(x,y) \n",
    "plt.show()\n",
    "print('Scelto per regressione con KNN K: ',k_reg)"
   ]
  },
  {
   "cell_type": "markdown",
   "metadata": {
    "id": "jVa4sVhitg9i"
   },
   "source": [
    "<h2>Testing e Analisi del Modello</h2>\n",
    "\n",
    "In primis è interessante notare la somiglianza tra la curva di apprendimento del KNN (ottenuta comunque da valori discreti) e quella degli altri modelli predittivi. <br>\n",
    "Esso è uno dei modelli più semplici da implementare ed evidentemente, ma evidentemente non uno dei più efficaci. L'algoritmo di K Nearest Neighbors è banale e a mio parere rappresenta come chiunque, non sapendo nulla di machine learning, implementerebbe un algoritmo predittivo. Tuttavia, questo algoritmo non è un vero e proprio modello predittivo: a mio parere sarebbe più corretto dire che approssima sulla base dei dati inseriti in input, ma non cerca di minimizzare una funzione di loss o approssimarne il gradiente.<br>\n",
    "Oltre alla semplicità, uno dei punti a favore è a mio parere dato dalle prestazioni dell'algoritmo, che sul dataset in questione fornisce un'accuratezza non eccessivamente distante dalla regressione logistica, ma preseta un RMSE superiore a quello delle predizioni della regressione lineare. Perciò, nessuno dei valori migliori appartiene a questo algoritmo.<br>\n",
    "Va anche considerato che è un algoritmo computazionalmente molto impegnativo: richiede di calcolare le distanze di ogni test da tutti i sample del train set. <br>\n",
    "In definitiva, si consiglia di utilizzare KNN principalmente per farsi un'idea della somiglianza tra i samples forniti in input e sulla loro distribuzione, pur avendo strumenti molto più efficaci per questo scopo. Come algoritmo predittivo, le sue prestazioni possono anche risultare soddisfacenti, ma il modello non è una delle scelte più frequenti né per i task di classificazione né per quelli di regressione. \n",
    "<br> I modelli di Scikit-learn ottengono gli stessi risultati."
   ]
  },
  {
   "cell_type": "code",
   "execution_count": null,
   "metadata": {
    "colab": {
     "base_uri": "https://localhost:8080/"
    },
    "id": "aEEycZoLupjH",
    "outputId": "ceb54d77-c410-4a45-ea05-89505b965026"
   },
   "outputs": [
    {
     "name": "stdout",
     "output_type": "stream",
     "text": [
      "Regressione con KNN\n",
      "Root mean squared error KNN:  8213.772779098992\n",
      "**************************************************\n",
      "Root mean squared error KNN (Scikit-learn):  8213.772779098992\n",
      "**************************************************\n",
      "Classificazione con KNN\n",
      "Accuracy KNN classification:  64.34607138352881\n",
      "**************************************************\n",
      "Accuracy KNN classification (Scikit-learn):  64.34607138352881\n"
     ]
    }
   ],
   "source": [
    "print('Regressione con KNN')\n",
    "y_pred_knn=KNN_regression(k_reg,x_test,x_train,y_train)\n",
    "mse_knn = mean_squared_error(y_test, y_pred_knn)\n",
    "print('Root mean squared error KNN: ', np.sqrt(mse_knn))\n",
    "print('*'*50)\n",
    "\n",
    "#Confronto con Scikit-learn\n",
    "from sklearn.neighbors import KNeighborsRegressor\n",
    "knn_model = KNeighborsRegressor(n_neighbors=k_reg)\n",
    "knn_model.fit(x_train, y_train)\n",
    "y_pred_knn_sklearn = knn_model.predict(x_test)\n",
    "mse_knn_sklearn = mean_squared_error(y_test, y_pred_knn_sklearn)\n",
    "print('Root mean squared error KNN (Scikit-learn): ', np.sqrt(mse_knn_sklearn))\n",
    "print('*'*50)\n",
    "\n",
    "print('Classificazione con KNN')\n",
    "y_pred_knn_cl=KNN_classification(k_cl,x_test,x_train,y_train_disc)\n",
    "acc_knn = accuracy_score(y_test_disc, y_pred_knn_cl)\n",
    "print('Accuracy KNN classification: ', acc_knn*100)\n",
    "print('*'*50)\n",
    "\n",
    "#Confronto con Scikit-learn\n",
    "from sklearn.neighbors import KNeighborsClassifier\n",
    "knn_model = KNeighborsClassifier(n_neighbors=k_cl)\n",
    "knn_model.fit(x_train, y_train_disc.values.ravel())\n",
    "y_pred_knn_sklearn = knn_model.predict(x_test)\n",
    "acc_knn_sklearn = accuracy_score(y_test_disc, y_pred_knn_sklearn)\n",
    "print(\"Accuracy KNN classification (Scikit-learn): \", acc_knn_sklearn*100)\n"
   ]
  },
  {
   "cell_type": "markdown",
   "metadata": {
    "id": "j8N6VbLFd9qz"
   },
   "source": [
    "#Implementazione Albero di decisione\n",
    "\n",
    "Implementazione della classe DecisionTree e della classe Branch. La prima contiene un campo, utilizzabile per l'attributo scelto per lo split in quel passo, e una lista di figli. Ogni figlio è un ogetto di classe Branch, con label per contenere il valore dell'attributo dell'insieme delle parti e il sottoalbero corrispondente."
   ]
  },
  {
   "cell_type": "code",
   "execution_count": null,
   "metadata": {
    "id": "xQq2U1jexbF5"
   },
   "outputs": [],
   "source": [
    "class DecisionTree:\n",
    "  #costruttore del nodo dell'albero\n",
    "  def __init__(self,attr):\n",
    "      #l'attributo splittato o il valore predetto nei nodi foglia\n",
    "      self.attr=attr\n",
    "      #lista di figli\n",
    "      self.branches=[]\n",
    "  #funzione che aggiunge un figlio\n",
    "  def aggiungiFiglio(self,branch):\n",
    "      self.branches.append(branch)\n",
    "  #funzione di stampa dell'albero\n",
    "  def printTree(self, depth=0):\n",
    "    #stampa dell'ultimo nodo (con il valore predetto)\n",
    "    if not self.branches:\n",
    "        print(\"| \"*depth, end=\"\")\n",
    "        print(\"--> \", self.attr)\n",
    "    else:\n",
    "        #stampa del percorso all'interno dell'albero, con l'oprzione\n",
    "        #per stampare anche gli attributi dei vari split\n",
    "        for branch in self.branches:\n",
    "            #print(\"| \"*depth, self.attr,\" \", end=\"\")\n",
    "            print(\"| \"*depth, end=\"\")\n",
    "            #stampa del valore dell'attributo dello split corrente\n",
    "            print(branch.label, end=\"\")\n",
    "            if branch.subtree.branches:\n",
    "                print()\n",
    "            #chiamata ricorsiva per stampare il prossimo livello dell'albero\n",
    "            branch.subtree.printTree(depth + 1)\n",
    "  #funzione che calcola l'altezza dell'albero\n",
    "  def height(self):\n",
    "    #caso base\n",
    "    if not self.branches:\n",
    "      return 0\n",
    "    else:\n",
    "      h=0\n",
    "      max=0\n",
    "      for branch in self.branches:\n",
    "        #chiamata ricorsiva per calcolare l'altezza del sottoalbero \n",
    "        h=branch.subtree.height()\n",
    "        #si sceglie ovviamente l'altezza del sottoalbero più alto\n",
    "        if h>max:\n",
    "          max=h\n",
    "      return 1+max\n",
    "     \n",
    "class Branch:\n",
    "  def __init__(self,label,subtree):\n",
    "      #il valore dell'attributo splittato (0 o 1)\n",
    "      self.label=label\n",
    "      #sottoalbero corrispondente\n",
    "      self.subtree=subtree"
   ]
  },
  {
   "cell_type": "markdown",
   "metadata": {
    "id": "gI4VVNj6eqkl"
   },
   "source": [
    "Definizione delle funzioni utilizzate nell'algoritmo learn_decision_tree.\n",
    "Vengono definite e implementate le funzioni:\n",
    "\n",
    "\n",
    "*   Entropia\n",
    "*   Remainder\n",
    "*   Guadagno\n",
    "*   Importance\n",
    "*   Plurality Value\n",
    "\n"
   ]
  },
  {
   "cell_type": "code",
   "execution_count": null,
   "metadata": {
    "id": "fRyOBhOqOMb1"
   },
   "outputs": [],
   "source": [
    "#definizione della funzione entropia come fornita in classe\n",
    "import math\n",
    "def entropy(df, target):\n",
    "  if (len(df[target].unique())==1):\n",
    "    # l'attributo contiene sempre lo stesso valore del target,\n",
    "    # dando un contributo nullo all'incertezza\n",
    "    return 0\n",
    "  sum=df[target].sum()\n",
    "  p=sum/(df.shape[0])\n",
    "  #viene applicata la formula del calcolo dell'entropia con p esiti positivi \n",
    "  #e p+n esiti negativi, dove p è la somma di tutti i valori della colonna \n",
    "  #target nella variabile sum, mentre p+n è il numero di righe della tabella\n",
    "  return -p*math.log2(p)-(1-p)*math.log2(1-p)\n",
    "\n",
    "#definizione della funzione remainder come fornita in classe\n",
    "def remainder(df,col,target):\n",
    "  rem=0\n",
    "  #partiziono il dataset a seconda del valore della colonna corrente\n",
    "  part=df.groupby(col)\n",
    "  for value,group in part:\n",
    "    #applico la formula del calcolo del remainder\n",
    "    rem+=(group.shape[0]/df.shape[0])*entropy(group,target)    \n",
    "  return rem\n",
    "\n",
    "#definizione della funzione guadagno come fornita in classe\n",
    "def gain(df,a,target):\n",
    "  return entropy(df,target)-remainder(df,a,target)\n",
    "\n",
    "#definizione della funzione importance, la quale si limita ad identificare \n",
    "#l'attributo con il massimo guadagno all'interno di un dataframe, tra\n",
    "#quelli contenuti in un insieme (insieme degli attributi ancora non splittati)\n",
    "def importance(df,target,attributes):\n",
    "  max=0\n",
    "  chosen=''\n",
    "  for column_name in attributes:\n",
    "    #calcolo il guadagno di ogni attributo\n",
    "    g=gain(df,column_name,target)\n",
    "    #seleziono l'attributo a guadagno massimo\n",
    "    if g>max:\n",
    "      max=g\n",
    "      chosen=column_name\n",
    "  return chosen\n",
    "\n",
    "#definizione della funzione plurality_value, che identifica all'interno\n",
    "#di un dataframe il valore più presente per l'attributo target\n",
    "def plurality_value(df,target):\n",
    "  #partiziono il dataset in base al valore dell'attributo target\n",
    "  part=df.groupby(target)\n",
    "  max=0\n",
    "  for value,group in part:\n",
    "    #prendo il valore più presente\n",
    "    if group.shape[0]>max:\n",
    "      ret=value\n",
    "      max=group.shape[0]\n",
    "  return DecisionTree(ret)"
   ]
  },
  {
   "cell_type": "markdown",
   "metadata": {
    "id": "CSQei8z_1gOt"
   },
   "source": [
    "Definizione della funzione Learn-Decision-Tree.\n",
    "La funzione presenta tre parametri:\n",
    "\n",
    "*   Dataset dell'iterazione corrente\n",
    "*   Insieme degli attributi dell'iterazione corrente\n",
    "*   Dataset della precedente iterazione (None alla prima)\n",
    "\n",
    "Segue la definizione della funzioni di predizione. Una esegue semplicemente l'altra iterativamente, mentre quella che effettua effettivamente le predizioni segue il percorso dell'albero corrispondente ai propri valori per poi restituire la label (0,1) presente nella foglia in cui si è giunti"
   ]
  },
  {
   "cell_type": "code",
   "execution_count": null,
   "metadata": {
    "id": "2pI7W5vP1gnC"
   },
   "outputs": [],
   "source": [
    "def learn_decision_tree(examples,attributes,target,parent_examples,h_limit):\n",
    "  #caso base: non ho più samples da elaborare\n",
    "  if examples.empty:\n",
    "    return plurality_value(parent_examples,target)\n",
    "  #caso base: non ho più attributi\n",
    "  #punto di uscita dalla funzione anche in caso di raggiungimento del limite\n",
    "  #di altezza\n",
    "  if not attributes or (h_limit!=None and h_limit<0): \n",
    "    return plurality_value(examples,target)\n",
    "  #caso base: tutti i samples hanno lo stesso valore per il target\n",
    "  if (len(examples[target].unique())==1):\n",
    "    v=examples[target].iloc[0]\n",
    "    return DecisionTree(v)\n",
    "  else:\n",
    "    attr=importance(examples,target,attributes)\n",
    "    if attr=='':\n",
    "      #nessun attributo ha un guadagno positivo, non ha senso splittare oltre\n",
    "      return plurality_value(examples,target)\n",
    "    #partiziono il dataset in base al valore dell'attributo splittato\n",
    "    part=examples.groupby(attr)\n",
    "    #creo il sottoalbero corrispondente allo split\n",
    "    tree=DecisionTree(attr)\n",
    "    for value,group in part:\n",
    "      #rimuovo l'attributo su cui ho splittato dagli attributi su cui\n",
    "      #può splittare il sottoalbero corrente\n",
    "      new_attr=attributes-{attr}\n",
    "      #calcolo il sottoalbero corrente (ricorsivamente)\n",
    "      subtree=learn_decision_tree(group,new_attr,target,examples,h_limit-1)\n",
    "      #popolo il nodo con il sottoalbero corrente\n",
    "      tree.aggiungiFiglio(Branch(value,subtree))\n",
    "    return tree"
   ]
  },
  {
   "cell_type": "markdown",
   "metadata": {
    "id": "VzgyXuPTkTXg"
   },
   "source": [
    "Ora implementiamo le funzioni utili ad effettuare le predizioni"
   ]
  },
  {
   "cell_type": "code",
   "execution_count": null,
   "metadata": {
    "id": "eEQ25zVYkYWi"
   },
   "outputs": [],
   "source": [
    "#la funzione predict esplora ricorsivamente l'albero, a seconda del valore\n",
    "#in corrispondenza dell'attributo contenuto nell'albero prende il ramo\n",
    "#corrispondente, fino ad arrivare a una foglia, in tal caso il valore \n",
    "#dell'attributo dell'albero è proprio l'output desiderato\n",
    "def predict_tree(sample,tree):\n",
    "  #caso base: il nodo non contiene effettivamente un attributo di split\n",
    "  #ma il valore da ritornare\n",
    "  if tree.attr==0 or tree.attr==1:\n",
    "      return tree.attr\n",
    "  else:\n",
    "    #ogni nodo dell'albero ha 1 o 2 figli per i possibili valori dell'attributo\n",
    "    #su cui ha splittato \n",
    "    index=int(sample.loc[tree.attr])\n",
    "    #se c'è un valore solo viene preso quello\n",
    "    if len(tree.branches)==1:\n",
    "      index=0\n",
    "    #viene preso il sottoalbero corrispondente a quel valore \n",
    "    new_tree=tree.branches[index].subtree\n",
    "    #si richiama ricorsivamente la funzione\n",
    "    return predict_tree(sample,new_tree)\n",
    "\n",
    "#esegue predict su ogni riga del dataframe (cioè su ogni test)\n",
    "def predictAll(df,tree):\n",
    "  ret=[]\n",
    "  for index,row in df.iterrows():\n",
    "    ret.append(predict_tree(row,tree))\n",
    "  return ret\n",
    "\n",
    "#PS: la funzione learn_decision_tree, in passato utilizzata per creare\n",
    "#l'albero, è l'unica a presentare parametri d'invocazione decisamente\n",
    "#diversi. Aggiungo una funzione più assimilabile alle altre che renda\n",
    "#la chiamata più semplice e intuitiva\n",
    "def learn_decision_tree_prepare(df,res,h_limit=None):\n",
    "  target=res.columns[0]\n",
    "  train=pd.concat([df, res],axis=1)\n",
    "  return learn_decision_tree(train,set(df.columns)-{target},target,None,h_limit)"
   ]
  },
  {
   "cell_type": "markdown",
   "metadata": {
    "id": "r_YNwJBB2zkp"
   },
   "source": [
    "<h2> Scelta degli iperparametri </h2>\n",
    "\n",
    "L'unico iperparametro presente all'interno del Decision Tree Classifier è il limite di altezza. L'albero viene infatti limitato in altezza per evitare che vada in overfitting, apprendendo perfettamente i samples del train set senza però riuscire a generalizzare bene le informazioni su samples mai visti. <br>\n",
    "Per quanto qui sia utilizzabile la grid search, utilizzerò un algoritmo differente, che consiste nell'aumentare la profondità dell'albero finché l'accuratezza non decresce per tre volte consecutive. Questo avviene in quanto la curva di apprendimento di un albero di classificazione in funzione della profondità (o del numero di nodi) ha una forma ad U, cioè l'accuratezza diminuisce in virtù dell'overfitting all'aumentare della profondità dell'albero.\n"
   ]
  },
  {
   "cell_type": "code",
   "execution_count": null,
   "metadata": {
    "colab": {
     "base_uri": "https://localhost:8080/",
     "height": 644
    },
    "id": "epoSGReJ4UK8",
    "outputId": "e4cacf7d-684d-4aba-f463-098a9ef5cb7e"
   },
   "outputs": [
    {
     "name": "stdout",
     "output_type": "stream",
     "text": [
      "Decision Tree Classifier\n",
      "Limit:  0 Decision Tree accuracy: 59.41480640686089\n",
      "Limit:  1 Decision Tree accuracy: 60.5624921175432\n",
      "Limit:  2 Decision Tree accuracy: 60.99129776768824\n",
      "Limit:  3 Decision Tree accuracy: 60.713835288182615\n",
      "Limit:  4 Decision Tree accuracy: 61.508386934039606\n",
      "Limit:  5 Decision Tree accuracy: 61.39487955606003\n",
      "Limit:  6 Decision Tree accuracy: 61.88674486063817\n",
      "Limit:  7 Decision Tree accuracy: 61.7101778282255\n",
      "Limit:  8 Decision Tree accuracy: 60.63816370286291\n"
     ]
    },
    {
     "data": {
      "image/png": "[encoded data removed]",
      "text/plain": [
       "<Figure size 640x480 with 1 Axes>"
      ]
     },
     "metadata": {},
     "output_type": "display_data"
    },
    {
     "name": "stdout",
     "output_type": "stream",
     "text": [
      "Scelto albero di altezza:  6\n"
     ]
    }
   ],
   "source": [
    "#**************DECISION TREE CLASSIFIER****************\n",
    "#l'unico iperparametro da scegliere per il decision tree classifier\n",
    "#è la profondità dell'albero (o l'altezza, dipende dal punto di vista)\n",
    "print('Decision Tree Classifier')\n",
    "\n",
    "acc_prec=0\n",
    "acc_prec_prec=0\n",
    "acc_prec_prec_prec=0\n",
    "chosen_height=0\n",
    "acc_values=[]\n",
    "max_acc=0\n",
    "\n",
    "#la scelta dell'altezza per l'albero di decisione è concettualmente diversa\n",
    "#dal tuning degli altri iperparametri\n",
    "#A ogni passo:\n",
    "for h in range(x_train_set_disc.shape[1]): \n",
    "  #calcolo l'albero alto al più h\n",
    "  tree=learn_decision_tree_prepare(x_train_set_disc,y_train_set_disc,h)\n",
    "  #calcolo le predizioni dell'albero di decisione\n",
    "  y_pred=predictAll(x_validation_set_disc,tree)\n",
    "  #e l'accuratezza di quest'ultime\n",
    "  acc=accuracy_score(y_validation_set_disc, y_pred)\n",
    "  acc_values.append(acc)\n",
    "  #salvo l'accuratezza massima e il limite di altezza migliore\n",
    "  if acc>max_acc:\n",
    "    chosen_height=h \n",
    "    max_acc=acc\n",
    "  #qualora il valore dell'accuratezza decrescesse due volte consecutivamente\n",
    "  #possiamo considerarci alla destra del limite migliore di altezza nella\n",
    "  #curva ad U della funzione (che presenta), sulle ascisse il limite di altezza\n",
    "  #e sulle ordinate l'accuratezza dell'albero alto x.\n",
    "  #Perciò l'accuratezza continuerà a decrescere a causa dell'overfitting\n",
    "  #del modello e non avrà senso calcolare alberi ancora più alti\n",
    "  if acc_prec > acc and acc_prec_prec>acc_prec and acc_prec_prec_prec>acc_prec_prec:\n",
    "    break\n",
    "  #aggiornamento delle accuratezze precedenti\n",
    "  acc_prec_prec_prec=acc_prec_prec\n",
    "  acc_prec_prec=acc_prec\n",
    "  acc_prec=acc\n",
    "  #stampa dell'accuratezza dell'albero con limite di altezza h\n",
    "  print(\"Limit: \",h,\"Decision Tree accuracy:\",acc*100)\n",
    "\n",
    "plot_acc(acc_values)\n",
    "#stampa del limite di altezza scelto\n",
    "print('Scelto albero di altezza: ',chosen_height)"
   ]
  },
  {
   "cell_type": "markdown",
   "metadata": {
    "id": "s1MeqDYiqwi5"
   },
   "source": [
    "<h2> Testing e Analisi del Modello </h2>\n",
    "\n",
    "Infine costruitamo l'albero di decisione utilizzado la funzione learn_decision_tree e testiamone le prestazioni. <br>\n",
    "L'albero di decisione è forse il modello più concettualmente differente rispetto a tutti gli altri qui implementati. Difatti, al contrario degli altri, utilizza una funzione di guadagno per scegliere a ogni iterazione quale attributo esplorare per aumentare la profondità dell'albero.<br>\n",
    "La complessità computazionale aumenta all'aumentare del numero di nodi, pertanto si è scelto di trovare l'altezza ottimale per l'albero interrompendo la ricerca all'arrivo inesorabile dell'overfitting. <br>\n",
    "La stampa del grafico cerca di evidenziare la forma a U dell'accuratezza calcolata in funzione del limite di profondità inserito per l'albero. <br>\n",
    "Il modello non è chiaramente il classificatore migliore per questo dataset, ma, in un'implementazione più complessa, che utilizzi più alberi di decisione e aggiunga randomicità, le prestazioni potrebbero migliorare sensibilmente.\n",
    "<br> Il modello di Scikit-learn ha un comportamento affine alla mia implementazione."
   ]
  },
  {
   "cell_type": "code",
   "execution_count": null,
   "metadata": {
    "colab": {
     "base_uri": "https://localhost:8080/"
    },
    "id": "vxahacUa522a",
    "outputId": "ec6b8b19-7da6-4ad5-c0bb-02d35d69f050"
   },
   "outputs": [
    {
     "name": "stdout",
     "output_type": "stream",
     "text": [
      "Accuracy Decision Tree Classification:  61.00390969857485\n",
      "**************************************************\n",
      "Accuracy Decision Tree Classification (Scikit-learn): 61.20570059276075\n"
     ]
    }
   ],
   "source": [
    "tree=learn_decision_tree_prepare(x_train_disc,y_train_disc,chosen_height)\n",
    "y_pred_tree=predictAll(x_test_disc,tree)\n",
    "acc_tree=accuracy_score(y_test_disc, y_pred_tree)\n",
    "print('Accuracy Decision Tree Classification: ', acc_tree*100)\n",
    "print('*'*50)\n",
    "\n",
    "#Confronto con Scikit-learn\n",
    "from sklearn.tree import DecisionTreeClassifier\n",
    "#ho notato che l'implementazione di scikit conta la profondità a partire da 1\n",
    "dtc_model = DecisionTreeClassifier(max_depth=chosen_height+1)\n",
    "dtc_model.fit(x_train_disc, y_train_disc)\n",
    "y_pred_tree_sklearn = dtc_model.predict(x_test_disc)\n",
    "acc_tree_sklearn= accuracy_score(y_pred_tree_sklearn, y_test_disc)\n",
    "print('Accuracy Decision Tree Classification (Scikit-learn):', acc_tree_sklearn*100)"
   ]
  },
  {
   "cell_type": "markdown",
   "metadata": {
    "id": "AwWjuYeg3pei"
   },
   "source": [
    "#Neural Networks\n",
    "L'ultimo modello implementato è una rete neurale con un livello nascosto contente K neuroni. La funzione di non linearità utilizzata è il sigmoide, mentre l'algoritmo utilizzato per aggiornare i pesi tra i livelli è gradient descent; è inoltre presente la regolarizzazione L2 per migliorare le prestazioni dell'algoritmo.\n",
    "Sono implementate le funzioni: \n",
    "\n",
    "*   Forward Propagation\n",
    "*   Back Propagation\n",
    "*   Neural Network Train\n",
    "*   Predict Neural Network\n",
    "\n",
    "La rete neurale è in realtà programmata per avere N nascosti livelli nascosti, completamente connessi, ognuno con K neuroni. Poiché non era richiesto ed è stato fatto solamente per mia curiosità personale, non sono inseriti test e il parametro N è automaticamente settato a 1.\n",
    "\n"
   ]
  },
  {
   "cell_type": "code",
   "execution_count": null,
   "metadata": {
    "id": "CB8gPgzrl5gs"
   },
   "outputs": [],
   "source": [
    "def forward_propagation(df,weights,biases):\n",
    "  #inizializzazione degli output della forward propagation\n",
    "  #che saranno gli input del successivo passo di back propagation\n",
    "\n",
    "  #viene inserito l'input stesso come primo elemento\n",
    "  outputs=[df]\n",
    "\n",
    "  for i in range(len(weights)-1):\n",
    "\n",
    "    #ad ogni passo per ogni j del livello i+1\n",
    "    #aj=sigmoid(sum|i(wij*ai)+bj)\n",
    "    #applico il bias a ogni input, perciò lo rendo una matrice Nxk\n",
    "    b_i_mat=np.tile(biases[i], (outputs[i].shape[0], 1))\n",
    "    output=sigmoid(np.dot(outputs[i],weights[i])+b_i_mat)\n",
    "    outputs.append(output)\n",
    "\n",
    "  #all'ultimo livello y_pred=sum|i(wi->last*ai)+b_last\n",
    "  #non viene applicata la non linearità\n",
    "  #poiché la regressione richiede valori continui e non in (0,1)\n",
    "  b_last_mat=np.tile(biases[-1], (outputs[-1].shape[0], 1))\n",
    "  output=np.dot(outputs[-1],weights[-1])+b_last_mat\n",
    "  outputs.append(output)\n",
    "  \n",
    "  return outputs\n",
    "  \n",
    "def back_propagation(res,weights,biases,outputs,lr,l2):\n",
    "  \n",
    "  #inizializzazione dell'iperparametro alpha\n",
    "  alpha=lr\n",
    "\n",
    "  #il passo di backpropagation si svolge a ritroso e l'errore dei\n",
    "  #livelli successivi è utilizzato per aggiornare i pesi dei precedenti\n",
    "  #bisogna perciò aggiornare i pesi al contrario\n",
    "  for i in reversed(range(len(weights))):\n",
    "    \n",
    "    y_pred=outputs[i+1]\n",
    "    a_mat=outputs[i]\n",
    "    \n",
    "    #si applica la formula deltaj=-(dpj-ypj)fj'\n",
    "    #dove la derivata della funzione di non linearità è assente\n",
    "    #difatti all'ultimo livello essa non viene applicata\n",
    "    if i==len(weights)-1:\n",
    "      delta=(res-y_pred).values\n",
    "\n",
    "    else:\n",
    "      #calcolo della derivata della non linearità a livello i\n",
    "      sigm_der=y_pred*(1-y_pred)\n",
    "      #si calcola deltaj=fj'sum|k(wjk*deltak) per ogni j a livello i\n",
    "      delta = np.dot(delta,weights[i+1].T) * sigm_der\n",
    "    \n",
    "    #aggiornamento pei pesi mediante batched gradient descent con \n",
    "    #regolarizzazione l2\n",
    "    weights[i]+=(alpha)*((1/a_mat.shape[0])*np.dot(a_mat.T,delta)-l2*weights[i])\n",
    "    #poiché la derivata della loss rispetto al bias è costante e pari a\n",
    "    #dE/db=delta. Utilizzando come funzione di costo MSE, si calcola \n",
    "    #la derivata come la media del delta sugli N samples \n",
    "    #(utilizzando quindi sempre batched gradient descent)\n",
    "    delta_sum=np.sum(delta,axis=0)\n",
    "    delta_sum=delta_sum.reshape(1,-1)\n",
    "    biases[i]+=(alpha)*((1/a_mat.shape[0])*delta_sum -l2*biases[i])\n",
    "    \n",
    "  return weights,biases\n",
    "\n",
    "def neural_network_train(df,res,k=5,lr=0.001,l2=0.01,num_epochs=200,plot=False,num_hidden_levels=1):\n",
    "  #inizializzazione lista per plottare\n",
    "  mse_list=[]\n",
    "  #print(k)\n",
    "  #creazione di un array di matrici di pesi, una per ogni livello e un array di bias \n",
    "  w=[]\n",
    "  b=[]\n",
    "  #matrice dei pesi dai nodi di input a quelli nascosti\n",
    "  w.append(np.random.randn(df.shape[1],k))\n",
    "  #vettore di bias del primo livello nascosto\n",
    "  b.append(np.random.randn(1,k))\n",
    "  #creazione di N-1 ulteriori livelli nascosti di k nodi completamente connessi\n",
    "  for i in range(num_hidden_levels-1):\n",
    "    w.append(np.random.randn(k,k))\n",
    "    b.append(np.random.randn(1,k))\n",
    "  \n",
    "  #matrice dei pesi dai nodi nascosti a quello di output (vettore in questo caso)\n",
    "  w.append(np.random.randn(k).reshape(-1,1))\n",
    "  #vettore di bias dell'ultimo livello (in questo caso è un numero puro, \n",
    "  #poiché si predice solamente una feature). L'implementazione potrebbe\n",
    "  #funzionare anche volendo prevedere più features\n",
    "  b.append(np.random.randn(1).reshape(-1,1))\n",
    "  \n",
    "  #algoritmo di apprendimento della rete neurale\n",
    "  for i in range(num_epochs):\n",
    "    outputs=forward_propagation(df,w,b)\n",
    "    w,b=back_propagation(res,w,b,outputs,lr,l2)\n",
    "    mse=mean_squared_error(res,outputs[-1])\n",
    "    mse_list.append(mse)\n",
    "  if plot:\n",
    "    plot_rmse(mse_list)\n",
    "\n",
    "  return w,b\n",
    "\n",
    "#funzione di predizione per la rete neurale\n",
    "#restituisce l'ultimo elemento del vettore degli output\n",
    "def predict_nn(test,w,b): \n",
    "  return forward_propagation(test,w,b)[-1]"
   ]
  },
  {
   "cell_type": "markdown",
   "metadata": {
    "id": "XcxVlS6AUF32"
   },
   "source": [
    "Per la classificazione mediante reti neurali, sono state implementate le stesse funzioni. Questa volta, però, la non linearità viene applicata ad ogni livello. Ne consegue che anche il calcolo del delta all'ultimo livello presenta la derivata del sigmoide. <br>\n",
    "Utilizzando la funzione di loss BCE, però, parte della derivata della loss si semplifica all'ultimo livello con la derivata del sigmoide, eliminandola di fatto dal calcolo. <br>\n",
    "Avevo all'inizio erroneamente implementato la classificazione usando come loss il MSE. La rete presenta gravi cali nella crescita del gradiente in momenti dell'addestramento imprevedibili e risulta di fatto instabile. Ho lasciato l'implementazione originale come alternativa, ma d'ora in poi userò solo la funzione che usa la BCE."
   ]
  },
  {
   "cell_type": "code",
   "execution_count": null,
   "metadata": {
    "id": "gyr8cSUfyItv"
   },
   "outputs": [],
   "source": [
    "#si semplifica la forward propagation che non presenta differenze\n",
    "#di trattamento per l'ultimo output\n",
    "def forward_propagation_cl(df,weights,biases):\n",
    "  outputs=[df]\n",
    "  for i in range(len(weights)):\n",
    "    b_i_mat=np.tile(biases[i], (outputs[i].shape[0], 1))\n",
    "    output=sigmoid(np.dot(outputs[i],weights[i])+b_i_mat)\n",
    "    outputs.append(output)\n",
    "  return outputs\n",
    "  \n",
    "def back_propagation_cl(res,weights,biases,outputs,lr,l2):\n",
    "  alpha=lr\n",
    "  for i in reversed(range(len(weights))):\n",
    "    y_pred=outputs[i+1]\n",
    "    x_mat=outputs[i]\n",
    "    sigm_der=y_pred*(1-y_pred)\n",
    "    if i==len(weights)-1:\n",
    "      #questa volta anche il delta dell'ultimo livello \n",
    "      #si calcola mediante la derivata del sigmoide\n",
    "      delta=(res-y_pred).values*sigm_der\n",
    "    else:\n",
    "      delta = np.dot(delta,weights[i+1].T) * sigm_der\n",
    "    weights[i]+=(alpha)*((1/x_mat.shape[0])*np.dot(x_mat.T,delta)-l2*weights[i])\n",
    "    delta_sum=np.sum(delta,axis=0)\n",
    "    delta_sum=delta_sum.reshape(1,-1)\n",
    "    biases[i]+=(alpha)*((1/x_mat.shape[0])*delta_sum -l2*biases[i])\n",
    "  return weights,biases\n",
    "\n",
    "def back_propagation_bce(res,weights,biases,outputs,lr,l2):\n",
    "  alpha=lr\n",
    "  for i in reversed(range(len(weights))):\n",
    "    y_pred=outputs[i+1]\n",
    "    x_mat=outputs[i]\n",
    "    sigm_der=y_pred*(1-y_pred)\n",
    "    if i==len(weights)-1:\n",
    "      #qui si utilizza come funzione di loss la Binary Cross Entropy\n",
    "      #la derivata della loss BCE=-ylogp-(1-y)log(1-p)\n",
    "      #è pari a (y-p)/(p(1-p)) dove il denominatore è la derivata della \n",
    "      #non linearità (con cui si semplifica)\n",
    "      delta=(res-y_pred).values\n",
    "    else:\n",
    "      delta = np.dot(delta,weights[i+1].T) * sigm_der\n",
    "    weights[i]+=(alpha)*((1/x_mat.shape[0])*np.dot(x_mat.T,delta)-l2*weights[i])\n",
    "    delta_sum=np.sum(delta,axis=0)\n",
    "    delta_sum=delta_sum.reshape(1,-1)\n",
    "    biases[i]+=(alpha)*((1/x_mat.shape[0])*delta_sum -l2*biases[i])\n",
    "  return weights,biases\n",
    "\n",
    "def neural_network_train_bce(df,res,k=5,lr=0.1,l2=0.0001,num_epochs=200,plot=False,num_hidden_levels=1):\n",
    "  acc_list=[]\n",
    "  w=[]\n",
    "  b=[]\n",
    "  w.append(np.random.randn(df.shape[1],k))\n",
    "  b.append(np.random.randn(1,k))\n",
    "  for i in range(num_hidden_levels-1):\n",
    "    w.append(np.random.randn(k,k))\n",
    "    b.append(np.random.randn(1,k))\n",
    "  w.append(np.random.randn(k).reshape(-1,1))\n",
    "  b.append(np.random.randn(1).reshape(-1,1))\n",
    "  for i in range(num_epochs):\n",
    "    outputs=forward_propagation_cl(df,w,b)\n",
    "    w,b=back_propagation_bce(res,w,b,outputs,lr,l2)\n",
    "    acc=accuracy_score(threshold(outputs[-1],0.5),res)\n",
    "    acc_list.append(acc)\n",
    "  if plot:\n",
    "    plot_acc(acc_list)\n",
    "  return w,b\n",
    "\n",
    "def neural_network_train_cl(df,res,k=5,lr=0.1,l2=0.0001,num_epochs=200,plot=False,num_hidden_levels=1):\n",
    "  acc_list=[]\n",
    "  w=[]\n",
    "  b=[]\n",
    "  w.append(np.random.randn(df.shape[1],k))\n",
    "  b.append(np.random.randn(1,k))\n",
    "  for i in range(num_hidden_levels-1):\n",
    "    w.append(np.random.randn(k,k))\n",
    "    b.append(np.random.randn(1,k))\n",
    "  w.append(np.random.randn(k).reshape(-1,1))\n",
    "  b.append(np.random.randn(1).reshape(-1,1))\n",
    "  for i in range(num_epochs):\n",
    "    outputs=forward_propagation_cl(df,w,b)\n",
    "    w,b=back_propagation_cl(res,w,b,outputs,lr,l2)\n",
    "    acc=accuracy_score(threshold(outputs[-1],0.5),res)\n",
    "    acc_list.append(acc)\n",
    "  if plot:\n",
    "    plot_acc(acc_list)\n",
    "  return w,b\n",
    "\n",
    "def predict_nn_cl(test,w,b): \n",
    "  #la funzione di predizione è la stessa della logistic regression\n",
    "  return threshold(forward_propagation_cl(test,w,b)[-1],0.5)\n"
   ]
  },
  {
   "cell_type": "markdown",
   "metadata": {
    "id": "Ha_Qn96rF7Zl"
   },
   "source": [
    "<h2>Scelta degli iperparametri</h2>\n",
    "\n",
    "L'implementazione della rete neurale, infine, ha i seguenti iperparametri:\n",
    "\n",
    "\n",
    "*   K: numero di nodi dell'hidden level\n",
    "*   learning rate\n",
    "*   lambda della regolarizzazione L2"
   ]
  },
  {
   "cell_type": "code",
   "execution_count": null,
   "metadata": {
    "colab": {
     "base_uri": "https://localhost:8080/"
    },
    "id": "13-sc56QHHGY",
    "outputId": "8de2947a-c345-4f27-aadb-30aeb610f5d3"
   },
   "outputs": [
    {
     "name": "stdout",
     "output_type": "stream",
     "text": [
      "Neural Network Regression\n",
      "{'Hidden Nodes': [1, 5, 10, 50, 100], 'Learning Rate': [0.001, 0.01, 0.1], 'L2 Regularization': [0.0001, 0.001, 0.01, 0.1]}\n",
      "Hidden Nodes: 1; Learning Rate: 0.001; L2 Regularization: 0.0001; RMSE: 11703.386135736368\n",
      "Hidden Nodes: 1; Learning Rate: 0.001; L2 Regularization: 0.001; RMSE: 11704.364425393529\n",
      "Hidden Nodes: 1; Learning Rate: 0.001; L2 Regularization: 0.01; RMSE: 11706.36945697954\n",
      "Hidden Nodes: 1; Learning Rate: 0.001; L2 Regularization: 0.1; RMSE: 11706.350378504381\n",
      "Hidden Nodes: 1; Learning Rate: 0.01; L2 Regularization: 0.0001; RMSE: 11436.784570780292\n",
      "Hidden Nodes: 1; Learning Rate: 0.01; L2 Regularization: 0.001; RMSE: 11456.766069389716\n",
      "Hidden Nodes: 1; Learning Rate: 0.01; L2 Regularization: 0.01; RMSE: 11448.569922521348\n",
      "Hidden Nodes: 1; Learning Rate: 0.01; L2 Regularization: 0.1; RMSE: 11458.867683971584\n",
      "Hidden Nodes: 1; Learning Rate: 0.1; L2 Regularization: 0.0001; RMSE: 11449.392005093825\n",
      "Hidden Nodes: 1; Learning Rate: 0.1; L2 Regularization: 0.001; RMSE: 11474.604808979095\n",
      "Hidden Nodes: 1; Learning Rate: 0.1; L2 Regularization: 0.01; RMSE: 11461.012068772397\n",
      "Hidden Nodes: 1; Learning Rate: 0.1; L2 Regularization: 0.1; RMSE: 11437.06535737284\n",
      "Hidden Nodes: 5; Learning Rate: 0.001; L2 Regularization: 0.0001; RMSE: 11523.55877342012\n",
      "Hidden Nodes: 5; Learning Rate: 0.001; L2 Regularization: 0.001; RMSE: 11526.14348357036\n",
      "Hidden Nodes: 5; Learning Rate: 0.001; L2 Regularization: 0.01; RMSE: 11522.074121879798\n",
      "Hidden Nodes: 5; Learning Rate: 0.001; L2 Regularization: 0.1; RMSE: 11524.171074463471\n",
      "Hidden Nodes: 5; Learning Rate: 0.01; L2 Regularization: 0.0001; RMSE: 11416.068666955949\n",
      "Hidden Nodes: 5; Learning Rate: 0.01; L2 Regularization: 0.001; RMSE: 11423.457845719142\n",
      "Hidden Nodes: 5; Learning Rate: 0.01; L2 Regularization: 0.01; RMSE: 11431.24632958318\n",
      "Hidden Nodes: 5; Learning Rate: 0.01; L2 Regularization: 0.1; RMSE: 11425.677757344609\n",
      "Hidden Nodes: 5; Learning Rate: 0.1; L2 Regularization: 0.0001; RMSE: 11443.51850377569\n",
      "Hidden Nodes: 5; Learning Rate: 0.1; L2 Regularization: 0.001; RMSE: 11437.736630340527\n",
      "Hidden Nodes: 5; Learning Rate: 0.1; L2 Regularization: 0.01; RMSE: 11451.759134499283\n",
      "Hidden Nodes: 5; Learning Rate: 0.1; L2 Regularization: 0.1; RMSE: 11431.241060053306\n",
      "Hidden Nodes: 10; Learning Rate: 0.001; L2 Regularization: 0.0001; RMSE: 11452.579097453823\n",
      "Hidden Nodes: 10; Learning Rate: 0.001; L2 Regularization: 0.001; RMSE: 11453.93600313615\n",
      "Hidden Nodes: 10; Learning Rate: 0.001; L2 Regularization: 0.01; RMSE: 11456.176207415503\n",
      "Hidden Nodes: 10; Learning Rate: 0.001; L2 Regularization: 0.1; RMSE: 11454.15742201547\n",
      "Hidden Nodes: 10; Learning Rate: 0.01; L2 Regularization: 0.0001; RMSE: 11435.288321199962\n",
      "Hidden Nodes: 10; Learning Rate: 0.01; L2 Regularization: 0.001; RMSE: 11420.936031435987\n",
      "Hidden Nodes: 10; Learning Rate: 0.01; L2 Regularization: 0.01; RMSE: 11413.930246385966\n",
      "Hidden Nodes: 10; Learning Rate: 0.01; L2 Regularization: 0.1; RMSE: 11414.996538741263\n",
      "Hidden Nodes: 10; Learning Rate: 0.1; L2 Regularization: 0.0001; RMSE: 11448.041147113485\n",
      "Hidden Nodes: 10; Learning Rate: 0.1; L2 Regularization: 0.001; RMSE: 11451.88113987207\n",
      "Hidden Nodes: 10; Learning Rate: 0.1; L2 Regularization: 0.01; RMSE: 11455.154689824669\n",
      "Hidden Nodes: 10; Learning Rate: 0.1; L2 Regularization: 0.1; RMSE: 11429.538706118941\n",
      "Hidden Nodes: 50; Learning Rate: 0.001; L2 Regularization: 0.0001; RMSE: 11395.593329487616\n",
      "Hidden Nodes: 50; Learning Rate: 0.001; L2 Regularization: 0.001; RMSE: 11397.496592147465\n",
      "Hidden Nodes: 50; Learning Rate: 0.001; L2 Regularization: 0.01; RMSE: 11397.724761287742\n",
      "Hidden Nodes: 50; Learning Rate: 0.001; L2 Regularization: 0.1; RMSE: 11391.953844804884\n",
      "Hidden Nodes: 50; Learning Rate: 0.01; L2 Regularization: 0.0001; RMSE: 11410.315266121524\n",
      "Hidden Nodes: 50; Learning Rate: 0.01; L2 Regularization: 0.001; RMSE: 11419.347402024618\n",
      "Hidden Nodes: 50; Learning Rate: 0.01; L2 Regularization: 0.01; RMSE: 11421.730543161935\n",
      "Hidden Nodes: 50; Learning Rate: 0.01; L2 Regularization: 0.1; RMSE: 11414.940149483751\n",
      "Hidden Nodes: 50; Learning Rate: 0.1; L2 Regularization: 0.0001; RMSE: 97109.11603163612\n",
      "Hidden Nodes: 50; Learning Rate: 0.1; L2 Regularization: 0.001; RMSE: 31643.93086053525\n",
      "Hidden Nodes: 50; Learning Rate: 0.1; L2 Regularization: 0.01; RMSE: 13122.631462761863\n",
      "Hidden Nodes: 50; Learning Rate: 0.1; L2 Regularization: 0.1; RMSE: 907951.038392979\n",
      "Hidden Nodes: 100; Learning Rate: 0.001; L2 Regularization: 0.0001; RMSE: 11398.951483194758\n",
      "Hidden Nodes: 100; Learning Rate: 0.001; L2 Regularization: 0.001; RMSE: 11400.27979869234\n",
      "Hidden Nodes: 100; Learning Rate: 0.001; L2 Regularization: 0.01; RMSE: 11400.33972958291\n",
      "Hidden Nodes: 100; Learning Rate: 0.001; L2 Regularization: 0.1; RMSE: 11398.303270895698\n",
      "Hidden Nodes: 100; Learning Rate: 0.01; L2 Regularization: 0.0001; RMSE: 11405.969144530369\n",
      "Hidden Nodes: 100; Learning Rate: 0.01; L2 Regularization: 0.001; RMSE: 11419.74740418768\n",
      "Hidden Nodes: 100; Learning Rate: 0.01; L2 Regularization: 0.01; RMSE: 11414.69037109207\n",
      "Hidden Nodes: 100; Learning Rate: 0.01; L2 Regularization: 0.1; RMSE: 11413.916176890993\n",
      "Hidden Nodes: 100; Learning Rate: 0.1; L2 Regularization: 0.0001; RMSE: 1.1359095822453383e+52\n",
      "Hidden Nodes: 100; Learning Rate: 0.1; L2 Regularization: 0.001; RMSE: 7.240125308837509e+51\n",
      "Hidden Nodes: 100; Learning Rate: 0.1; L2 Regularization: 0.01; RMSE: 2.2095741498110206e+53\n",
      "Hidden Nodes: 100; Learning Rate: 0.1; L2 Regularization: 0.1; RMSE: 9.121818791792408e+46\n",
      "Chosen Hidden Level Size: 50 Chosen Learning Rate: 0.001 Chosen Lambda L2 Regularization: 0.1\n"
     ]
    }
   ],
   "source": [
    "print('Neural Network Regression')\n",
    "k_values=[1,5,10,50,100]\n",
    "learning_rate_values=[10**i for i in range(-3,0)]\n",
    "l2_values=[10**i for i in range(-4,0)]\n",
    "h_params_nn={'Hidden Nodes':k_values,'Learning Rate':learning_rate_values, 'L2 Regularization':l2_values }\n",
    "print(h_params_nn)\n",
    "chosen_params=grid_search(neural_network_train,\n",
    "                          predict_nn,\n",
    "                          h_params_nn,\n",
    "                          x_train_set,\n",
    "                          y_train_set,\n",
    "                          x_validation_set,\n",
    "                          y_validation_set,\n",
    "                          True)\n",
    "chosen_k_nn,chosen_lr_nn,chosen_l2_nn=chosen_params\n",
    "print('Chosen Hidden Level Size:',chosen_k_nn,'Chosen Learning Rate:' ,chosen_lr_nn,'Chosen Lambda L2 Regularization:',chosen_l2_nn)"
   ]
  },
  {
   "cell_type": "code",
   "execution_count": null,
   "metadata": {
    "colab": {
     "base_uri": "https://localhost:8080/"
    },
    "id": "CUD2bztnMPVx",
    "outputId": "40b48286-94cb-48f2-e969-3d0bb7be60cd"
   },
   "outputs": [
    {
     "name": "stdout",
     "output_type": "stream",
     "text": [
      "Neural Network Classifier\n",
      "{'Hidden Nodes': [1, 5, 10, 50, 100], 'Learning Rate': [0.01, 0.1, 1], 'L2 Regularization': [0.001, 0.01, 0.1, 1]}\n",
      "Hidden Nodes: 1; Learning Rate: 0.01; L2 Regularization: 0.001; Accuracy: 49.88018665657712\n",
      "Hidden Nodes: 1; Learning Rate: 0.01; L2 Regularization: 0.01; Accuracy: 49.07302307983352\n",
      "Hidden Nodes: 1; Learning Rate: 0.01; L2 Regularization: 0.1; Accuracy: 52.88182620759238\n",
      "Hidden Nodes: 1; Learning Rate: 0.01; L2 Regularization: 1; Accuracy: 52.88182620759238\n",
      "Hidden Nodes: 1; Learning Rate: 0.1; L2 Regularization: 0.001; Accuracy: 52.71787110606634\n",
      "Hidden Nodes: 1; Learning Rate: 0.1; L2 Regularization: 0.01; Accuracy: 52.88182620759238\n",
      "Hidden Nodes: 1; Learning Rate: 0.1; L2 Regularization: 0.1; Accuracy: 52.88182620759238\n",
      "Hidden Nodes: 1; Learning Rate: 0.1; L2 Regularization: 1; Accuracy: 52.88182620759238\n",
      "Hidden Nodes: 1; Learning Rate: 1; L2 Regularization: 0.001; Accuracy: 60.54988018665658\n",
      "Hidden Nodes: 1; Learning Rate: 1; L2 Regularization: 0.01; Accuracy: 64.38390717618867\n",
      "Hidden Nodes: 1; Learning Rate: 1; L2 Regularization: 0.1; Accuracy: 52.88182620759238\n",
      "Hidden Nodes: 1; Learning Rate: 1; L2 Regularization: 1; Accuracy: 52.88182620759238\n",
      "Hidden Nodes: 5; Learning Rate: 0.01; L2 Regularization: 0.001; Accuracy: 54.924959011224615\n",
      "Hidden Nodes: 5; Learning Rate: 0.01; L2 Regularization: 0.01; Accuracy: 50.08197755076302\n",
      "Hidden Nodes: 5; Learning Rate: 0.01; L2 Regularization: 0.1; Accuracy: 57.32122587968218\n",
      "Hidden Nodes: 5; Learning Rate: 0.01; L2 Regularization: 1; Accuracy: 50.43511161558835\n",
      "Hidden Nodes: 5; Learning Rate: 0.1; L2 Regularization: 0.001; Accuracy: 54.924959011224615\n",
      "Hidden Nodes: 5; Learning Rate: 0.1; L2 Regularization: 0.01; Accuracy: 56.81674864421743\n",
      "Hidden Nodes: 5; Learning Rate: 0.1; L2 Regularization: 0.1; Accuracy: 53.87816874763526\n",
      "Hidden Nodes: 5; Learning Rate: 0.1; L2 Regularization: 1; Accuracy: 52.88182620759238\n",
      "Hidden Nodes: 5; Learning Rate: 1; L2 Regularization: 0.001; Accuracy: 62.63084878294867\n",
      "Hidden Nodes: 5; Learning Rate: 1; L2 Regularization: 0.01; Accuracy: 64.57308613948796\n",
      "Hidden Nodes: 5; Learning Rate: 1; L2 Regularization: 0.1; Accuracy: 52.88182620759238\n",
      "Hidden Nodes: 5; Learning Rate: 1; L2 Regularization: 1; Accuracy: 52.88182620759238\n",
      "Hidden Nodes: 10; Learning Rate: 0.01; L2 Regularization: 0.001; Accuracy: 54.168243158027494\n",
      "Hidden Nodes: 10; Learning Rate: 0.01; L2 Regularization: 0.01; Accuracy: 47.332576617480136\n",
      "Hidden Nodes: 10; Learning Rate: 0.01; L2 Regularization: 0.1; Accuracy: 52.09988649262202\n",
      "Hidden Nodes: 10; Learning Rate: 0.01; L2 Regularization: 1; Accuracy: 52.213393870601585\n",
      "Hidden Nodes: 10; Learning Rate: 0.1; L2 Regularization: 0.001; Accuracy: 54.193467019800735\n",
      "Hidden Nodes: 10; Learning Rate: 0.1; L2 Regularization: 0.01; Accuracy: 52.932273931138866\n",
      "Hidden Nodes: 10; Learning Rate: 0.1; L2 Regularization: 0.1; Accuracy: 54.82406356413166\n",
      "Hidden Nodes: 10; Learning Rate: 0.1; L2 Regularization: 1; Accuracy: 52.88182620759238\n",
      "Hidden Nodes: 10; Learning Rate: 1; L2 Regularization: 0.001; Accuracy: 62.10114768571068\n",
      "Hidden Nodes: 10; Learning Rate: 1; L2 Regularization: 0.01; Accuracy: 64.61092193214782\n",
      "Hidden Nodes: 10; Learning Rate: 1; L2 Regularization: 0.1; Accuracy: 52.88182620759238\n",
      "Hidden Nodes: 10; Learning Rate: 1; L2 Regularization: 1; Accuracy: 52.88182620759238\n",
      "Hidden Nodes: 50; Learning Rate: 0.01; L2 Regularization: 0.001; Accuracy: 45.23899609030143\n",
      "Hidden Nodes: 50; Learning Rate: 0.01; L2 Regularization: 0.01; Accuracy: 51.73414049691007\n",
      "Hidden Nodes: 50; Learning Rate: 0.01; L2 Regularization: 0.1; Accuracy: 48.85862025476101\n",
      "Hidden Nodes: 50; Learning Rate: 0.01; L2 Regularization: 1; Accuracy: 51.05309622903267\n",
      "Hidden Nodes: 50; Learning Rate: 0.1; L2 Regularization: 0.001; Accuracy: 57.66174801362089\n",
      "Hidden Nodes: 50; Learning Rate: 0.1; L2 Regularization: 0.01; Accuracy: 58.708538277210245\n",
      "Hidden Nodes: 50; Learning Rate: 0.1; L2 Regularization: 0.1; Accuracy: 62.403834026989536\n",
      "Hidden Nodes: 50; Learning Rate: 0.1; L2 Regularization: 1; Accuracy: 52.88182620759238\n",
      "Hidden Nodes: 50; Learning Rate: 1; L2 Regularization: 0.001; Accuracy: 53.61331819901627\n",
      "Hidden Nodes: 50; Learning Rate: 1; L2 Regularization: 0.01; Accuracy: 52.41518476478749\n",
      "Hidden Nodes: 50; Learning Rate: 1; L2 Regularization: 0.1; Accuracy: 47.11817379240762\n",
      "Hidden Nodes: 50; Learning Rate: 1; L2 Regularization: 1; Accuracy: 52.88182620759238\n",
      "Hidden Nodes: 100; Learning Rate: 0.01; L2 Regularization: 0.001; Accuracy: 49.89279858746374\n",
      "Hidden Nodes: 100; Learning Rate: 0.01; L2 Regularization: 0.01; Accuracy: 50.54861899356792\n",
      "Hidden Nodes: 100; Learning Rate: 0.01; L2 Regularization: 0.1; Accuracy: 52.42779669567411\n",
      "Hidden Nodes: 100; Learning Rate: 0.01; L2 Regularization: 1; Accuracy: 53.285407995964185\n",
      "Hidden Nodes: 100; Learning Rate: 0.1; L2 Regularization: 0.001; Accuracy: 58.20406104174549\n",
      "Hidden Nodes: 100; Learning Rate: 0.1; L2 Regularization: 0.01; Accuracy: 58.771597931643335\n",
      "Hidden Nodes: 100; Learning Rate: 0.1; L2 Regularization: 0.1; Accuracy: 63.942489595157014\n",
      "Hidden Nodes: 100; Learning Rate: 0.1; L2 Regularization: 1; Accuracy: 52.88182620759238\n",
      "Hidden Nodes: 100; Learning Rate: 1; L2 Regularization: 0.001; Accuracy: 56.526674233825204\n",
      "Hidden Nodes: 100; Learning Rate: 1; L2 Regularization: 0.01; Accuracy: 53.298019926850806\n",
      "Hidden Nodes: 100; Learning Rate: 1; L2 Regularization: 0.1; Accuracy: 47.11817379240762\n",
      "Hidden Nodes: 100; Learning Rate: 1; L2 Regularization: 1; Accuracy: 47.11817379240762\n",
      "Chosen Hidden Level Size: 10 Chosen Learning Rate: 1 Chosen Lambda L2 Regularization: 0.01\n"
     ]
    }
   ],
   "source": [
    "print('Neural Network Classifier')\n",
    "k_values=[1,5,10,50,100]\n",
    "learning_rate_values=[10**i for i in range(-2,1)]\n",
    "l2_values=[10**i for i in range(-3,1)]\n",
    "h_params_nn_cl={'Hidden Nodes':k_values,'Learning Rate':learning_rate_values, 'L2 Regularization':l2_values }\n",
    "print(h_params_nn_cl)\n",
    "chosen_params=grid_search(neural_network_train_bce,\n",
    "                          predict_nn_cl,\n",
    "                          h_params_nn_cl,\n",
    "                          x_train_set,\n",
    "                          y_train_set_disc,\n",
    "                          x_validation_set,\n",
    "                          y_validation_set_disc,\n",
    "                          False)\n",
    "chosen_k_nn_cl,chosen_lr_nn_cl,chosen_l2_nn_cl=chosen_params\n",
    "print('Chosen Hidden Level Size:',chosen_k_nn_cl,'Chosen Learning Rate:' ,chosen_lr_nn_cl,'Chosen Lambda L2 Regularization:',chosen_l2_nn_cl)"
   ]
  },
  {
   "cell_type": "markdown",
   "metadata": {
    "id": "WDr2adtcHaVs"
   },
   "source": [
    "<h2>Testing e Analisi dei Modelli</h2>\n",
    "\n",
    "Le reti neurali sono il modello più complesso dell'homework, in particolare a livello computazionale. Infatti, un elevato numero di nodi nascosti allunga di molto i tempi d'esecuzione, che schizzerebbero ulteriormente qualora si utilizzi una rete con più livelli nascosti ricchi di neuroni.<br>\n",
    "Il modello è particolarmente efficace sia nei task di regressione, dove raggiunge un RMSE inferiore rispetto alla regressione lineare (finora il miglior modello a livello di prestazioni per questo task), che di classificazione, dove raggiunge un'accuratezza non dissimile da quella della regressione logistica. <br>\n",
    "Tuttavia, tale complessità non fornisce miglioramenti sensazionali in termini di prestazione, tali che possano giustificare l'uso di questo modello. Di conseguenza, si suggerisce di adoperare un modello più semplice, o altrimenti aumentare la profondità della rete, magari cambiando la funzione di attivazione o l'inizializzazione dei pesi per limitare il problema del gradiente che tende ad azzerarsi (vanishing gradient).\n",
    "<br> Il modello di Scikit-learn per la regressione ha prestazioni peggiori, a parità di iperparametri e algoritmo utilizzati. Quello di classificazione ha invece prestazioni leggermente migliori della mia implementazione. "
   ]
  },
  {
   "cell_type": "code",
   "execution_count": null,
   "metadata": {
    "colab": {
     "base_uri": "https://localhost:8080/",
     "height": 1000
    },
    "id": "Z9P8j_tSHghK",
    "outputId": "3561b8c4-119f-4e8f-ef22-31e1e852d2d1"
   },
   "outputs": [
    {
     "name": "stdout",
     "output_type": "stream",
     "text": [
      "Regressione con reti neurali\n"
     ]
    },
    {
     "data": {
      "image/png": "[encoded data removed]",
      "text/plain": [
       "<Figure size 640x480 with 1 Axes>"
      ]
     },
     "metadata": {},
     "output_type": "display_data"
    },
    {
     "name": "stdout",
     "output_type": "stream",
     "text": [
      "Root mean square error neural network: 8169.386722660189\n",
      "**************************************************\n",
      "Root mean square error neural network (Scikit-learn): 8217.041132871344\n",
      "**************************************************\n",
      "Classificazione con reti neurali\n"
     ]
    },
    {
     "data": {
      "image/png": "[encoded data removed]",
      "text/plain": [
       "<Figure size 640x480 with 1 Axes>"
      ]
     },
     "metadata": {},
     "output_type": "display_data"
    },
    {
     "name": "stdout",
     "output_type": "stream",
     "text": [
      "Accuracy Neural Network classification:  64.86316054988018\n",
      "**************************************************\n",
      "Accuracy Neural Network classification (Scikit-learn):  64.95144406608652\n"
     ]
    }
   ],
   "source": [
    "print('Regressione con reti neurali')\n",
    "w_nn,b_nn=neural_network_train(x_train,y_train,chosen_k_nn,chosen_lr_nn,chosen_l2_nn,plot=True,num_epochs=1000)\n",
    "y_pred_nn=predict_nn(x_test,w_nn,b_nn)\n",
    "mse_nn = mean_squared_error(y_test, y_pred_nn)\n",
    "print(\"Root mean square error neural network:\",np.sqrt(mse_nn))\n",
    "print('*'*50)\n",
    "\n",
    "# Confronto con Scikit-learn\n",
    "from sklearn.neural_network import MLPRegressor, MLPClassifier\n",
    "mlp_regressor = MLPRegressor(activation='logistic', hidden_layer_sizes=(chosen_k_nn,), max_iter=1000, alpha=chosen_l2_nn, solver='sgd', learning_rate_init=chosen_lr_nn)\n",
    "mlp_regressor.fit(x_train, y_train.values.ravel())\n",
    "y_pred_nn_sklearn = mlp_regressor.predict(x_test)\n",
    "mse_nn_sklearn = mean_squared_error(y_test, y_pred_nn_sklearn)\n",
    "print(\"Root mean square error neural network (Scikit-learn):\", np.sqrt(mse_nn_sklearn))\n",
    "print('*'*50)\n",
    "\n",
    "print('Classificazione con reti neurali')\n",
    "w_nn_cl,b_nn_cl=neural_network_train_bce(x_train,y_train_disc,chosen_k_nn_cl,chosen_lr_nn_cl,chosen_l2_nn_cl,plot=True,num_epochs=1000)\n",
    "y_pred_nn_cl=predict_nn_cl(x_test,w_nn_cl,b_nn_cl)\n",
    "acc_nn = accuracy_score(y_test_disc, y_pred_nn_cl)\n",
    "print('Accuracy Neural Network classification: ', acc_nn*100)\n",
    "print('*'*50)\n",
    "\n",
    "# Confronto con Scikit-learn\n",
    "mlp_classifier = MLPClassifier(activation='logistic', hidden_layer_sizes=(chosen_k_nn_cl,), max_iter=1000, alpha=chosen_l2_nn_cl, solver='sgd', learning_rate_init=chosen_lr_nn_cl)\n",
    "mlp_classifier.fit(x_train, y_train_disc.values.ravel())\n",
    "y_pred_nn_cl_sklearn = mlp_classifier.predict(x_test)\n",
    "acc_nn_sklearn = accuracy_score(y_test_disc, y_pred_nn_cl_sklearn)\n",
    "print('Accuracy Neural Network classification (Scikit-learn): ', acc_nn_sklearn*100)\n"
   ]
  },
  {
   "cell_type": "markdown",
   "metadata": {
    "id": "HTkhmqvNhMpy"
   },
   "source": [
    "#Analisi e confronto dei modelli\n",
    "\n",
    "<h2>Regressione</h2>\n",
    "\n",
    "Confrontiamo le prestazioni dei modelli di regressione, utilizzando come metrica il Root Mean Squared Error. <br>\n",
    "Come già affermato nell'analisi dei singoli modelli, la regressione lineare e la rete neurale sono i modelli che conferiscono il minimo RMSE. La rete neurale riesce ad avere predizioni migliori della regressione lineare, ma la complessità computazionale è di gran lunga maggiore. La regolarizzazione, utilizzata nella regressione lineare e nella rete neurale, permette ai modelli di avere predizioni migliori e modelli con costi inferiori, quindi riducendo l'overfitting e la complessità di calcolo di questi modelli. KNN invece risulta meno preciso e più computazionalmente complesso.\n"
   ]
  },
  {
   "cell_type": "code",
   "execution_count": null,
   "metadata": {
    "colab": {
     "base_uri": "https://localhost:8080/",
     "height": 473
    },
    "id": "SErA26CFvxAW",
    "outputId": "242bb9cd-7b90-41db-87cc-ab7d0c236066"
   },
   "outputs": [
    {
     "data": {
      "image/png": "[encoded data removed]",
      "text/plain": [
       "<Figure size 3000x1100 with 1 Axes>"
      ]
     },
     "metadata": {},
     "output_type": "display_data"
    }
   ],
   "source": [
    "data=[{'Linear Regression':np.sqrt(mse_lr), \\\n",
    "       'Gradient Descent LR':np.sqrt(mse_gd), \\\n",
    "       'GD Lasso Regularization LR':np.sqrt(mse_lasso), \\\n",
    "       'GD Ridge Regularization LR':np.sqrt(mse_ridge), \\\n",
    "       'GD Elastic Net Regularization LR':np.sqrt(mse_en), \\\n",
    "       'KNN Regression':np.sqrt(mse_knn), \\\n",
    "       'Neural Network Regression':np.sqrt(mse_nn) \\\n",
    "       }]\n",
    "hist_df = pd.DataFrame(data,index=['Root Mean Squared Error'])\n",
    "plt.figure(figsize=(30,11))\n",
    "plt.title('Results')\n",
    "plt.ylabel('RMSE')\n",
    "plt.xlabel('Modelli')\n",
    "colors = ['blue', 'green', 'red', 'yellow', 'orange', 'lime', 'chocolate']\n",
    "plt.bar(hist_df.columns.to_numpy(),hist_df.values[0],color=colors)\n",
    "for i in range(hist_df.shape[1]):\n",
    "    rmse=hist_df.values[0][i]\n",
    "    plt.text(i, rmse-0.1, str(round(rmse,2)), ha='center', fontsize=24)\n",
    "plt.show()"
   ]
  },
  {
   "cell_type": "markdown",
   "metadata": {
    "id": "0kQra5sXhgVP"
   },
   "source": [
    "<h2>Classificazione</h2>\n",
    "\n",
    "Confrontiamo le prestazioni dei modelli di classificazione, utilizzando come metrica l'accuratezza.<br>\n",
    "Come già precedentemente affermato, la regressione lineare, nonostante l'introduzione della regolarizzazione, si dimostra insufficiente a classificare il dataset, essendo soggetta a grandi oscillazione che ne impediscono la convergenza. KNN e l'albero di decisione ottengono invece un'accuratezza migliore dei modelli appena menzionati e vanno tenuti in considerazione. Gli alberi, in particolare, si possono combinare in vari modi per ottenere modelli ancora più precisi e l'accuratezza delle loro predizioni è un dato che va tenuto in grande considerazione per questi algoritmi. Infine, la rete neurale e la regressione logistica sono i modelli migliori per la classificazione del dataset. Per questi modelli vale lo stesso discorso precedentemente fatto per il task di regressione, tuttavia, questa volta, la regressione logistica, oltre ad essere più efficiente a livello computazionale, risulta anche più accurata e quindi è a mio parere da preferire. \n"
   ]
  },
  {
   "cell_type": "code",
   "execution_count": null,
   "metadata": {
    "colab": {
     "base_uri": "https://localhost:8080/",
     "height": 423
    },
    "id": "_5nSTn3TumFf",
    "outputId": "2a0c631a-e015-4e2a-dba9-5f2491a0049a"
   },
   "outputs": [
    {
     "data": {
      "image/png": "[encoded data removed]",
      "text/plain": [
       "<Figure size 3400x1100 with 1 Axes>"
      ]
     },
     "metadata": {},
     "output_type": "display_data"
    }
   ],
   "source": [
    "data=[{'Gradient Descent LR Classification':acc_gd*100, \\\n",
    "       'GD Lasso Regularization LR Classification':acc_lasso*100, \\\n",
    "       'GD Ridge Regularization LR Classification':acc_ridge*100, \\\n",
    "       'GD Elastic Net Regularization LR Classification':acc_en*100, \\\n",
    "       'Logistic Regression':acc_logistic*100, \\\n",
    "       'Decistion Tree Classification':acc_tree*100, \\\n",
    "       'KNN Classification':acc_knn*100, \\\n",
    "       'Neural Network Classification':acc_nn*100 \\\n",
    "       }]\n",
    "hist_df = pd.DataFrame(data,index=['Root Mean Squared Error'])\n",
    "plt.figure(figsize=(34,11))\n",
    "plt.title('Results')\n",
    "plt.ylabel('Accuracy')\n",
    "plt.xlabel('Modelli')\n",
    "colors = ['blue', 'green', 'red', 'yellow', 'orange', 'lime', 'chocolate','grey']\n",
    "plt.bar(hist_df.columns.to_numpy(),hist_df.values[0],color=colors)\n",
    "for i in range(hist_df.shape[1]):\n",
    "    rmse=hist_df.values[0][i]\n",
    "    plt.text(i, rmse-0.1, str(round(rmse,2)), ha='center', fontsize=24)\n",
    "plt.show()"
   ]
  }
 ],
 "metadata": {
  "colab": {
   "provenance": []
  },
  "kernelspec": {
   "display_name": "Python 3 (ipykernel)",
   "language": "python",
   "name": "python3"
  },
  "language_info": {
   "codemirror_mode": {
    "name": "ipython",
    "version": 3
   },
   "file_extension": ".py",
   "mimetype": "text/x-python",
   "name": "python",
   "nbconvert_exporter": "python",
   "pygments_lexer": "ipython3",
   "version": "3.9.13"
  }
 },
 "nbformat": 4,
 "nbformat_minor": 1
}
