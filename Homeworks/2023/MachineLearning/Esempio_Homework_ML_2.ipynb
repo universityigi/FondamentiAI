{
 "cells": [
  {
   "cell_type": "markdown",
   "metadata": {
    "id": "OVLN5Hbq10ZF"
   },
   "source": [
    "\n",
    "# INFORMAZIONI PRINCIPALI\n"
   ]
  },
  {
   "cell_type": "markdown",
   "metadata": {
    "id": "TspH1wJmAkdk"
   },
   "source": [
    "For the homeworks we are going to use the \"[Online News Popularity Data Set](https://archive.ics.uci.edu/ml/datasets/Online+News+Popularity#)\"\n",
    "\n",
    "The dataset can be used both for regression and classification tasks.\n",
    "\n",
    "#### Source:\n",
    "\n",
    "Kelwin Fernandes INESC TEC, Porto, Portugal/Universidade do Porto, Portugal.\n",
    "Pedro Vinagre ALGORITMI Research Centre, Universidade do Minho, Portugal\n",
    "Paulo Cortez ALGORITMI Research Centre, Universidade do Minho, Portugal\n",
    "Pedro Sernadela Universidade de Aveiro\n",
    "\n",
    "#### Data Set Information:\n",
    "\n",
    "* The articles were published by Mashable (www.mashable.com) and their content as the rights to reproduce it belongs to them. Hence, this dataset does not share the original content but some statistics associated with it. The original content be publicly accessed and retrieved using the provided urls.\n",
    "* Acquisition date: January 8, 2015\n",
    "* The estimated relative performance values were estimated by the authors using a Random Forest classifier and a rolling windows as assessment method. See their article for more details on how the relative performance values were set.\n",
    "\n",
    "Attribute Information:\n",
    "\n",
    "Number of Attributes: 61 (58 predictive attributes, 2 non-predictive, 1 goal field)\n",
    "\n",
    "Attribute Information:\n",
    "0. url: URL of the article (non-predictive)\n",
    "1. timedelta: Days between the article publication and the dataset acquisition (non-predictive)\n",
    "2. n_tokens_title: Number of words in the title\n",
    "3. n_tokens_content: Number of words in the content\n",
    "4. n_unique_tokens: Rate of unique words in the content\n",
    "5. n_non_stop_words: Rate of non-stop words in the content\n",
    "6. n_non_stop_unique_tokens: Rate of unique non-stop words in the content\n",
    "7. num_hrefs: Number of links\n",
    "8. num_self_hrefs: Number of links to other articles published by Mashable\n",
    "9. num_imgs: Number of images\n",
    "10. num_videos: Number of videos\n",
    "11. average_token_length: Average length of the words in the content\n",
    "12. num_keywords: Number of keywords in the metadata\n",
    "13. data_channel_is_lifestyle: Is data channel 'Lifestyle'?\n",
    "14. data_channel_is_entertainment: Is data channel 'Entertainment'?\n",
    "15. data_channel_is_bus: Is data channel 'Business'?\n",
    "16. data_channel_is_socmed: Is data channel 'Social Media'?\n",
    "17. data_channel_is_tech: Is data channel 'Tech'?\n",
    "18. data_channel_is_world: Is data channel 'World'?\n",
    "19. kw_min_min: Worst keyword (min. shares)\n",
    "20. kw_max_min: Worst keyword (max. shares)\n",
    "21. kw_avg_min: Worst keyword (avg. shares)\n",
    "22. kw_min_max: Best keyword (min. shares)\n",
    "23. kw_max_max: Best keyword (max. shares)\n",
    "24. kw_avg_max: Best keyword (avg. shares)\n",
    "25. kw_min_avg: Avg. keyword (min. shares)\n",
    "26. kw_max_avg: Avg. keyword (max. shares)\n",
    "27. kw_avg_avg: Avg. keyword (avg. shares)\n",
    "28. self_reference_min_shares: Min. shares of referenced articles in Mashable\n",
    "29. self_reference_max_shares: Max. shares of referenced articles in Mashable\n",
    "30. self_reference_avg_sharess: Avg. shares of referenced articles in Mashable\n",
    "31. weekday_is_monday: Was the article published on a Monday?\n",
    "32. weekday_is_tuesday: Was the article published on a Tuesday?\n",
    "33. weekday_is_wednesday: Was the article published on a Wednesday?\n",
    "34. weekday_is_thursday: Was the article published on a Thursday?\n",
    "35. weekday_is_friday: Was the article published on a Friday?\n",
    "36. weekday_is_saturday: Was the article published on a Saturday?\n",
    "37. weekday_is_sunday: Was the article published on a Sunday?\n",
    "38. is_weekend: Was the article published on the weekend?\n",
    "39. LDA_00: Closeness to LDA topic 0\n",
    "40. LDA_01: Closeness to LDA topic 1\n",
    "41. LDA_02: Closeness to LDA topic 2\n",
    "42. LDA_03: Closeness to LDA topic 3\n",
    "43. LDA_04: Closeness to LDA topic 4\n",
    "44. global_subjectivity: Text subjectivity\n",
    "45. global_sentiment_polarity: Text sentiment polarity\n",
    "46. global_rate_positive_words: Rate of positive words in the content\n",
    "47. global_rate_negative_words: Rate of negative words in the content\n",
    "48. rate_positive_words: Rate of positive words among non-neutral tokens\n",
    "49. rate_negative_words: Rate of negative words among non-neutral tokens\n",
    "50. avg_positive_polarity: Avg. polarity of positive words\n",
    "51. min_positive_polarity: Min. polarity of positive words\n",
    "52. max_positive_polarity: Max. polarity of positive words\n",
    "53. avg_negative_polarity: Avg. polarity of negative words\n",
    "54. min_negative_polarity: Min. polarity of negative words\n",
    "55. max_negative_polarity: Max. polarity of negative words\n",
    "56. title_subjectivity: Title subjectivity\n",
    "57. title_sentiment_polarity: Title polarity\n",
    "58. abs_title_subjectivity: Absolute subjectivity level\n",
    "59. abs_title_sentiment_polarity: Absolute polarity level\n",
    "60. shares: Number of shares (target)\n",
    "\n",
    "\n",
    "The first two columns (url and time_delta) are non-predictive and should be ignored\n",
    "\n",
    "The last column **shares** contains the value to predict.\n",
    "\n",
    "### Regression\n",
    "In the case of regression we want to predict the value of the share column.\n",
    "\n",
    "### Classification\n",
    "In the case of classification we want to predict one of two classes:\n",
    "\n",
    "* *low* -- shares < 1,400\n",
    "* *high* -- shares >= 1,400\n",
    "\n",
    "### Metrics\n",
    "\n",
    "#### Regression\n",
    "To evaluate how good we are doing on the **regression** task we will use the Root Mean Squared Error (RMSE). RMSE is given by\n",
    "\n",
    "$$\n",
    "\\sqrt{\\frac{1}{n}\\sum\\limits_{i=1}^{n}{\\Big(d_i -f_i\\Big)^2}}\n",
    "$$\n",
    "\n",
    "\n",
    "where:\n",
    "\n",
    "* $n$ is the number of test samples\n",
    "* $d_i$ is the ground truth value of the i-th sample\n",
    "* $f_i$ is the predicted value of the i-th sample\n",
    "\n",
    "\n",
    "#### Classification\n",
    "To evaluate how good we are doing on the **classification** task we will use the accuracy metrics. Accuracy is given by\n",
    "\n",
    "$$\n",
    "\\frac{TP+TN}{TP+TN+FP+FN}\n",
    "$$\n",
    "\n",
    "where:\n",
    "\n",
    "* TP is the number of *correctly* classified positive samples\n",
    "* TN is the number of *correctly* classified negative samples\n",
    "* FP is the number of *incorrectly* classified positive samples\n",
    "* FN is the number of *incorrectly* classified negative samples"
   ]
  },
  {
   "cell_type": "markdown",
   "metadata": {
    "id": "xpXs0niB19M6"
   },
   "source": [
    "#INTRODUZIONE AL DATASET"
   ]
  },
  {
   "cell_type": "code",
   "execution_count": null,
   "metadata": {
    "colab": {
     "base_uri": "https://localhost:8080/"
    },
    "id": "oesd6_bYijRo",
    "outputId": "b71b292d-7e74-4f9e-e50a-befae7d53138"
   },
   "outputs": [
    {
     "name": "stdout",
     "output_type": "stream",
     "text": [
      "--2023-05-30 08:54:47--  https://archive.ics.uci.edu/ml/machine-learning-databases/00332/OnlineNewsPopularity.zip\n",
      "Resolving archive.ics.uci.edu (archive.ics.uci.edu)... 128.195.10.252\n",
      "Connecting to archive.ics.uci.edu (archive.ics.uci.edu)|128.195.10.252|:443... connected.\n",
      "HTTP request sent, awaiting response... 200 OK\n",
      "Length: 7476401 (7.1M) [application/x-httpd-php]\n",
      "Saving to: ‘OnlineNewsPopularity.zip’\n",
      "\n",
      "OnlineNewsPopularit 100%[===================>]   7.13M  16.0MB/s    in 0.4s    \n",
      "\n",
      "2023-05-30 08:54:47 (16.0 MB/s) - ‘OnlineNewsPopularity.zip’ saved [7476401/7476401]\n",
      "\n"
     ]
    }
   ],
   "source": [
    "!wget https://archive.ics.uci.edu/ml/machine-learning-databases/00332/OnlineNewsPopularity.zip"
   ]
  },
  {
   "cell_type": "code",
   "execution_count": null,
   "metadata": {
    "colab": {
     "base_uri": "https://localhost:8080/"
    },
    "id": "gmad6QdZ_nFR",
    "outputId": "5a1e4255-23e5-452a-eeb0-173e2bb5450c"
   },
   "outputs": [
    {
     "name": "stdout",
     "output_type": "stream",
     "text": [
      "Archive:  OnlineNewsPopularity.zip\n",
      "replace OnlineNewsPopularity/OnlineNewsPopularity.names? [y]es, [n]o, [A]ll, [N]one, [r]ename: "
     ]
    }
   ],
   "source": [
    "!unzip OnlineNewsPopularity.zip"
   ]
  },
  {
   "cell_type": "code",
   "execution_count": null,
   "metadata": {
    "id": "8eW4t_c6ACcm"
   },
   "outputs": [],
   "source": [
    "import pandas as pd"
   ]
  },
  {
   "cell_type": "markdown",
   "metadata": {
    "id": "yXCX_LpFedtj"
   },
   "source": [
    "Format properly the names of the columns and remove the first two columns"
   ]
  },
  {
   "cell_type": "code",
   "execution_count": null,
   "metadata": {
    "id": "1mxntjhmAH0D"
   },
   "outputs": [],
   "source": [
    "df = pd.read_csv('OnlineNewsPopularity/OnlineNewsPopularity.csv')\n",
    "df = df.rename(columns=lambda x: x.strip())\n",
    "df = df.iloc[: , 2:]"
   ]
  },
  {
   "cell_type": "code",
   "execution_count": null,
   "metadata": {
    "colab": {
     "base_uri": "https://localhost:8080/"
    },
    "id": "qCXwyljnAMmi",
    "outputId": "e072d4c1-9a9d-4b24-cb98-f8de52919dec"
   },
   "outputs": [
    {
     "data": {
      "text/plain": [
       "n_tokens_title                   float64\n",
       "n_tokens_content                 float64\n",
       "n_unique_tokens                  float64\n",
       "n_non_stop_words                 float64\n",
       "n_non_stop_unique_tokens         float64\n",
       "num_hrefs                        float64\n",
       "num_self_hrefs                   float64\n",
       "num_imgs                         float64\n",
       "num_videos                       float64\n",
       "average_token_length             float64\n",
       "num_keywords                     float64\n",
       "data_channel_is_lifestyle        float64\n",
       "data_channel_is_entertainment    float64\n",
       "data_channel_is_bus              float64\n",
       "data_channel_is_socmed           float64\n",
       "data_channel_is_tech             float64\n",
       "data_channel_is_world            float64\n",
       "kw_min_min                       float64\n",
       "kw_max_min                       float64\n",
       "kw_avg_min                       float64\n",
       "kw_min_max                       float64\n",
       "kw_max_max                       float64\n",
       "kw_avg_max                       float64\n",
       "kw_min_avg                       float64\n",
       "kw_max_avg                       float64\n",
       "kw_avg_avg                       float64\n",
       "self_reference_min_shares        float64\n",
       "self_reference_max_shares        float64\n",
       "self_reference_avg_sharess       float64\n",
       "weekday_is_monday                float64\n",
       "weekday_is_tuesday               float64\n",
       "weekday_is_wednesday             float64\n",
       "weekday_is_thursday              float64\n",
       "weekday_is_friday                float64\n",
       "weekday_is_saturday              float64\n",
       "weekday_is_sunday                float64\n",
       "is_weekend                       float64\n",
       "LDA_00                           float64\n",
       "LDA_01                           float64\n",
       "LDA_02                           float64\n",
       "LDA_03                           float64\n",
       "LDA_04                           float64\n",
       "global_subjectivity              float64\n",
       "global_sentiment_polarity        float64\n",
       "global_rate_positive_words       float64\n",
       "global_rate_negative_words       float64\n",
       "rate_positive_words              float64\n",
       "rate_negative_words              float64\n",
       "avg_positive_polarity            float64\n",
       "min_positive_polarity            float64\n",
       "max_positive_polarity            float64\n",
       "avg_negative_polarity            float64\n",
       "min_negative_polarity            float64\n",
       "max_negative_polarity            float64\n",
       "title_subjectivity               float64\n",
       "title_sentiment_polarity         float64\n",
       "abs_title_subjectivity           float64\n",
       "abs_title_sentiment_polarity     float64\n",
       "shares                             int64\n",
       "dtype: object"
      ]
     },
     "execution_count": 6,
     "metadata": {},
     "output_type": "execute_result"
    }
   ],
   "source": [
    "df.dtypes"
   ]
  },
  {
   "cell_type": "markdown",
   "metadata": {
    "id": "mu_rxzq0f2gV"
   },
   "source": [
    "## Let's plot some of the columns"
   ]
  },
  {
   "cell_type": "code",
   "execution_count": null,
   "metadata": {
    "colab": {
     "base_uri": "https://localhost:8080/",
     "height": 1000
    },
    "id": "VbFlnYRjAXlk",
    "outputId": "5651161e-6dc4-4218-b45d-fdda5cce19f3"
   },
   "outputs": [
    {
     "data": {
      "image/png": "[encoded data removed]",
      "text/plain": [
       "<Figure size 2000x2000 with 6 Axes>"
      ]
     },
     "metadata": {},
     "output_type": "display_data"
    }
   ],
   "source": [
    "import matplotlib.pyplot as plt\n",
    "import seaborn as sns\n",
    "\n",
    "columns_to_plot = [\n",
    "    'num_videos',\n",
    "    'num_imgs',\n",
    "    'num_keywords',\n",
    "    'data_channel_is_world',\n",
    "    'rate_negative_words',\n",
    "    'self_reference_avg_sharess',\n",
    "]\n",
    "\n",
    "fig, ax = plt.subplots(len(columns_to_plot), 1, figsize=(20, 20))\n",
    "\n",
    "for i, column in enumerate(columns_to_plot, 0):\n",
    "  ax[i].hist(df[column])\n",
    "  ax[i].title.set_text(column)\n",
    "\n",
    "plt.show()"
   ]
  },
  {
   "cell_type": "markdown",
   "metadata": {
    "id": "xpKCl9k2D7st"
   },
   "source": [
    "# OPERAZIONI PRELIMINARI SUL DATASET"
   ]
  },
  {
   "cell_type": "code",
   "execution_count": null,
   "metadata": {
    "id": "zY85QdqQbF9a"
   },
   "outputs": [],
   "source": [
    "import numpy as np\n",
    "\n",
    "mediane = df.apply(pd.Series.median)\n",
    "\n",
    "# Inizializza il nuovo dataframe\n",
    "new_df = pd.DataFrame(columns=df.columns)\n",
    "\n",
    "# Assegna i valori 0 o 1 alle colonne del nuovo dataframe\n",
    "for colonna in df.columns:\n",
    "    new_df[colonna] = df[colonna].apply(lambda x: 1 if x >= mediane[colonna] else 0)\n",
    "\n",
    "from sklearn.model_selection import train_test_split\n",
    "\n",
    "import warnings\n",
    "warnings.filterwarnings('ignore')\n",
    "\n"
   ]
  },
  {
   "cell_type": "code",
   "execution_count": null,
   "metadata": {
    "id": "45Sa72a1u-A-"
   },
   "outputs": [],
   "source": [
    "# Dividi il dataset in un set di addestramento e un set di test\n",
    "\n",
    "#Split sul dataset normale\n",
    "X, y = df.drop('shares', axis=1).values, df[\"shares\"].values\n",
    "X_train, X_test, y_train, y_test = train_test_split(X, y, test_size=0.7, random_state=42)\n",
    "\n",
    "#Creo un subset da 1000 elementi del dataset\n",
    "X_1000, y_1000 = df.head(1000).drop('shares', axis=1).values, df[\"shares\"].head(1000).values\n",
    "X_train_1000, X_test_1000, y_train_1000, y_test_1000 = train_test_split(X, y, test_size=0.7, random_state=42)\n",
    "\n",
    "#Split sul dataset discretizzato\n",
    "X_new, y_new = new_df.drop('shares', axis=1).values, new_df[\"shares\"].values\n",
    "X_train_new, X_test_new, y_train_new, y_test_new = train_test_split(X_new, y_new, test_size=0.7, random_state=42)\n",
    "\n",
    "#Creo un subset da 1000 elementi del dataset\n",
    "X_new_10000, y_new_10000 = new_df.head(10000).drop('shares', axis=1).values, new_df[\"shares\"].head(10000).values\n",
    "X_train_new_10000, X_test_new_10000, y_train_new_10000, y_test_new_10000 = train_test_split(X, y, test_size=0.7, random_state=42)\n"
   ]
  },
  {
   "cell_type": "code",
   "execution_count": null,
   "metadata": {
    "id": "-9kOw1F9o9jX"
   },
   "outputs": [],
   "source": [
    "#Serviranno per la valutazione delle prestazioni\n",
    "from timeit import default_timer as timer\n",
    "import statistics"
   ]
  },
  {
   "cell_type": "markdown",
   "metadata": {
    "id": "44l2aHOjECca"
   },
   "source": [
    "# DECISION TREE\n"
   ]
  },
  {
   "cell_type": "markdown",
   "metadata": {
    "id": "2rg-KxLdPd4i"
   },
   "source": [
    ">Questo è un'implementazione di base di un albero decisionale per task di classificazione che utilizza l'entropia e l'information gain come criteri di divisione"
   ]
  },
  {
   "cell_type": "code",
   "execution_count": null,
   "metadata": {
    "id": "SKTrC1VTlk9G"
   },
   "outputs": [],
   "source": [
    "#implementazione del decision tree\n",
    "from collections import Counter\n",
    "class Node:\n",
    "    def __init__(self, feature=None, threshold=None, left=None, right=None,*,value=None):\n",
    "        self.feature = feature\n",
    "        self.threshold = threshold\n",
    "        self.left = left\n",
    "        self.right = right\n",
    "        self.value = value\n",
    "\n",
    "    def is_leaf_node(self):\n",
    "        return self.value is not None\n",
    "\n",
    "\n",
    "class DecisionTree:\n",
    "    def __init__(self, max_depth=15):\n",
    "        self.max_depth=max_depth\n",
    "        self.root=None\n",
    "\n",
    "    def fit(self, X, y):\n",
    "        self.n_features = X.shape[1] #Il numero di features corrisponde al numero di colonne di X\n",
    "        self.root = self._grow_tree(X, y) #Assegno la radice facendo iniziare il processo di costruzione dell'albero\n",
    "\n",
    "    #Metodo utilizzato per costruire l'albero ricorsivamente, alla prima chiamata il valore di depth è 0,\n",
    "    #Le chiamate successive incrementeranno questo valore di 1\n",
    "    def _grow_tree(self, X, y, depth=0):\n",
    "\n",
    "        n_samples, n_feats = X.shape  #samples = righe, features = colonne\n",
    "        n_labels = len(np.unique(y))  #numero di etichette\n",
    "\n",
    "        #Controllo: se ho raggiunto la profondità massima o se ho solo una etichetta ritorno il nodo\n",
    "        #Altrimenti proseguo\n",
    "        if (depth>=self.max_depth or n_labels==1):\n",
    "            leaf_value = self._most_common_label(y)\n",
    "            return Node(value=leaf_value)\n",
    "\n",
    "        #rappresenta gli indici delle caratteristiche selezionate casualmente con np.random.choice() per\n",
    "        #la suddivisione dell'albero decisionale\n",
    "        feat_idxs = np.random.choice(n_feats, self.n_features, replace=False)\n",
    "\n",
    "        #Calcolo l'indice della caratteristica migliore (best_feature) e\n",
    "        #il threshold corrispondente (best_thresh) per ottenere il miglior information gain.\n",
    "        best_feature, best_thresh = self._best_split(X, y, feat_idxs)\n",
    "\n",
    "        #Creo i nodi figli\n",
    "        left_idxs, right_idxs = self._split(X[:, best_feature], best_thresh)\n",
    "        left = self._grow_tree(X[left_idxs, :], y[left_idxs], depth+1)\n",
    "        right = self._grow_tree(X[right_idxs, :], y[right_idxs], depth+1)\n",
    "        return Node(best_feature, best_thresh, left, right)\n",
    "\n",
    "    #calcola il miglior split per le caratteristiche selezionate, confrontando l'information gain per diverse suddivisioni dei dati\n",
    "    def _best_split(self, X, y, feat_idxs):\n",
    "        best_gain = -1\n",
    "        split_idx, split_threshold = None, None\n",
    "\n",
    "        for feat_idx in feat_idxs:\n",
    "            X_column = X[:, feat_idx]\n",
    "            thresholds = np.unique(X_column)\n",
    "\n",
    "            for thr in thresholds:\n",
    "                #Calcolo l'information gain sulla base di ogni threshold per stabilire il migliore\n",
    "                gain = self._information_gain(y, X_column, thr)\n",
    "\n",
    "                #Ogni volta che trovo un information gain migliore aggiorno i valori di best_gain e del threshold\n",
    "                if gain > best_gain:\n",
    "                    best_gain = gain\n",
    "                    split_idx = feat_idx\n",
    "                    split_threshold = thr\n",
    "\n",
    "        return split_idx, split_threshold\n",
    "\n",
    "\n",
    "    def _information_gain(self, y, X_column, threshold):\n",
    "        #Entropia del genitore\n",
    "        parent_entropy = self._entropy(y)\n",
    "        #Creo i figli\n",
    "        left_idxs, right_idxs = self._split(X_column, threshold)\n",
    "\n",
    "        if len(left_idxs) == 0 or len(right_idxs) == 0:\n",
    "            return 0\n",
    "\n",
    "        #Calcolo l'entropia media pesata dei figli\n",
    "        n = len(y)\n",
    "        n_l, n_r = len(left_idxs), len(right_idxs)\n",
    "        e_l, e_r = self._entropy(y[left_idxs]), self._entropy(y[right_idxs])\n",
    "        child_entropy = (n_l/n) * e_l + (n_r/n) * e_r\n",
    "\n",
    "        #Calcolo l'information gain\n",
    "        information_gain = parent_entropy - child_entropy\n",
    "        return information_gain\n",
    "\n",
    "    def _split(self, X_column, split_thresh):\n",
    "        #Splitto sulla base del threshold\n",
    "        left_idxs = np.argwhere(X_column <= split_thresh).flatten()\n",
    "        right_idxs = np.argwhere(X_column > split_thresh).flatten()\n",
    "        return left_idxs, right_idxs\n",
    "\n",
    "    def _entropy(self, y):\n",
    "        #Calcolo dell'entropia\n",
    "        hist = np.bincount(y)\n",
    "        ps = hist / len(y)\n",
    "        return -np.sum([p * np.log(p) for p in ps if p>0])\n",
    "\n",
    "    #Restituisce l'etichetta più comune\n",
    "    def _most_common_label(self, y):\n",
    "        counter = Counter(y)\n",
    "        label = counter.most_common(1)\n",
    "        if label:\n",
    "          value = label[0][0]\n",
    "          return value\n",
    "        else:\n",
    "          return 0\n",
    "\n",
    "    def predict(self, X):\n",
    "        return np.array([self._traverse_tree(x, self.root) for x in X])\n",
    "\n",
    "    #Metodo per attraversare l'albero e restituire la previsione per un dato input\n",
    "    def _traverse_tree(self, x, node):\n",
    "        if node.is_leaf_node():\n",
    "            return node.value\n",
    "\n",
    "        if x[node.feature] <= node.threshold:\n",
    "            return self._traverse_tree(x, node.left)\n",
    "        return self._traverse_tree(x, node.right)"
   ]
  },
  {
   "cell_type": "markdown",
   "metadata": {
    "id": "SrpO7edEXwvT"
   },
   "source": [
    "Costruisco Decision Trees con profondità diverse per trovare il modello con la migliore accuracy"
   ]
  },
  {
   "cell_type": "code",
   "execution_count": null,
   "metadata": {
    "colab": {
     "base_uri": "https://localhost:8080/"
    },
    "id": "ZRx8Ninl4Vgr",
    "outputId": "818534de-1a8a-4924-f62a-4e0d1f866ede"
   },
   "outputs": [
    {
     "name": "stdout",
     "output_type": "stream",
     "text": [
      "Punteggio di accuratezza dell'albero con profondità 5 :  63.96886598681129 %, tempo:  139.30777396999838 secondi\n",
      "Punteggio di accuratezza dell'albero con profondità 6 :  63.35627544953335 %, tempo:  158.85908182599815 secondi\n",
      "Punteggio di accuratezza dell'albero con profondità 7 :  63.33105113329249 %, tempo:  178.2914485500005 secondi\n",
      "Punteggio di accuratezza dell'albero con profondità 8 :  62.801340492234516 %, tempo:  195.21174500100096 secondi\n",
      "Punteggio di accuratezza dell'albero con profondità 9 :  62.85178912471623 %, tempo:  211.4206561969986 secondi\n",
      "Punteggio di accuratezza dell'albero con profondità 10 :  61.604987207668195 %, tempo:  227.6631379449973 secondi\n"
     ]
    }
   ],
   "source": [
    "from sklearn.tree import DecisionTreeClassifier\n",
    "\n",
    "def accuracy(y_test, y_pred):\n",
    "    return np.sum(y_test == y_pred) / len(y_test)\n",
    "\n",
    "#Lista per raccogliere tutti i valori relativi e accuracy\n",
    "height_values = []\n",
    "acc_values_tree = []\n",
    "time_values_tree = []\n",
    "\n",
    "\n",
    "\n",
    "for i in range(5,11):\n",
    "    #Creo una serie di Decision Trees con valori di profondità massima che vanno da 5 a 10 compreso\n",
    "    start = timer()\n",
    "    dtc = DecisionTree(max_depth = i)\n",
    "    dtc.fit(X_train, y_train_new)\n",
    "    predictions = dtc.predict(X_test)\n",
    "    accuracyDecisionTree = accuracy(y_test_new, predictions)\n",
    "    end = timer()\n",
    "    #Aggiungo alle liste i valori\n",
    "    height_values.append(i)\n",
    "    acc_values_tree.append(accuracyDecisionTree)\n",
    "    time_values_tree.append(end-start)\n",
    "    #Visualizza il punteggio di accuratezza del modello\n",
    "    print(\"Punteggio di accuratezza dell'albero con profondità\", i, \": \", accuracyDecisionTree * 100, \"%, tempo: \", (end-start), \"secondi\")\n",
    "\n",
    "\n",
    "#Conservo in questa variabile il miglior risultato di accuracy ottenuto\n",
    "avgAccuracyDecisionTree = statistics.mean(acc_values_tree)\n",
    "avgTimeDecisionTree = statistics.mean(time_values_tree)"
   ]
  },
  {
   "cell_type": "code",
   "execution_count": null,
   "metadata": {
    "colab": {
     "base_uri": "https://localhost:8080/"
    },
    "id": "0BRvHPdm11dU",
    "outputId": "b3113c02-d8c0-429a-b346-78f4b3df31ab"
   },
   "outputs": [
    {
     "name": "stdout",
     "output_type": "stream",
     "text": [
      "Accuracy media del decision tree:  62.9857 %\n",
      "Tempo impiegato in media dal decision tree:  185.1256 secondi\n"
     ]
    }
   ],
   "source": [
    "avgAccuracyDecisionTree = round((avgAccuracyDecisionTree * 100), 4)\n",
    "avgTimeDecisionTree = round((avgTimeDecisionTree), 4)\n",
    "print(\"Accuracy media del decision tree: \", avgAccuracyDecisionTree, \"%\")\n",
    "print(\"Tempo impiegato in media dal decision tree: \", avgTimeDecisionTree, \"secondi\")"
   ]
  },
  {
   "cell_type": "code",
   "execution_count": null,
   "metadata": {
    "colab": {
     "base_uri": "https://localhost:8080/",
     "height": 490
    },
    "id": "vD3V4QyUiVi3",
    "outputId": "4d6a0f7c-ba95-4892-d0ab-a1df4f528fa3"
   },
   "outputs": [
    {
     "name": "stderr",
     "output_type": "stream",
     "text": [
      "WARNING:matplotlib.legend:No artists with labels found to put in legend.  Note that artists whose label start with an underscore are ignored when legend() is called with no argument.\n"
     ]
    },
    {
     "data": {
      "image/png": "[encoded data removed]",
      "text/plain": [
       "<Figure size 640x480 with 1 Axes>"
      ]
     },
     "metadata": {},
     "output_type": "display_data"
    }
   ],
   "source": [
    "plt.plot(height_values, acc_values_tree, label = '')\n",
    "\n",
    "plt.title('Rapporto tra profondità e accuratezza')\n",
    "plt.xlabel('Depth')\n",
    "plt.ylabel('Accuracy')\n",
    "plt.legend()\n",
    "\n",
    "# Mostra il grafico\n",
    "plt.show()"
   ]
  },
  {
   "cell_type": "markdown",
   "metadata": {
    "id": "KVgSpUVsqthE"
   },
   "source": [
    "PLOT DELLE ACCURACY OTTENUTE\n",
    "\n",
    "> Come si può vedere, aumentando la profondità dell'albero l'accuracy tende a diminuire considerevolmente, probabilmente la qualità generale del Dataset influenza i risultati poiché un modello troppo profondo va in overfitting sui dati di training. L'algoritmo si dimostra comunque piuttosto veloce anche a profondità elevate\n",
    "\n"
   ]
  },
  {
   "cell_type": "markdown",
   "metadata": {
    "id": "ps_jP1l4h4KF"
   },
   "source": [
    "# REGRESSIONE LINEARE\n"
   ]
  },
  {
   "cell_type": "markdown",
   "metadata": {
    "id": "ATHeIH_XnawK"
   },
   "source": [
    "REGRESSIONE\n",
    "> Costruzione di diversi modelli per la regressione lineare, ossia senza regolarizzazione, con regolarizzazione L1, L2 ed Elastic Net\n"
   ]
  },
  {
   "cell_type": "code",
   "execution_count": null,
   "metadata": {
    "colab": {
     "base_uri": "https://localhost:8080/"
    },
    "id": "OHTr39YYh1gv",
    "outputId": "5eed44ce-245a-4f1d-aa83-ce2e37c1def5"
   },
   "outputs": [
    {
     "name": "stdout",
     "output_type": "stream",
     "text": [
      "(11893, 58)\n",
      "(11893, 58)\n",
      "(27751, 58)\n",
      "(27751, 58)\n",
      "(11893,)\n",
      "(11893,)\n",
      "(11893,)\n"
     ]
    }
   ],
   "source": [
    "#Per prima cosa standardizzo le feature usando lo strumento StandardScaler fornito da Scikit\n",
    "\n",
    "from sklearn.preprocessing import StandardScaler\n",
    "from sklearn.metrics import mean_squared_error\n",
    "\n",
    "# crea un oggetto StandardScaler\n",
    "scaler = StandardScaler()\n",
    "\n",
    "# standardizza le feature\n",
    "print(X_train.shape)\n",
    "X_std = scaler.fit_transform(X_train)\n",
    "print(X_std.shape)\n",
    "# standardizzo i test\n",
    "print(X_test.shape)\n",
    "X_test_std =  scaler.fit_transform(X_test)\n",
    "print(X_test_std.shape)\n",
    "\n",
    "\n",
    "# standardizza il target\n",
    "print(y_train.shape)\n",
    "y_std = scaler.fit_transform(y_train.reshape(-1,1))\n",
    "y_std = y_std.flatten()\n",
    "print(y_std.shape)\n",
    "\n",
    "y_test_std = scaler.fit_transform(y_test.reshape(-1,1))\n",
    "y_test_std = y_std.flatten()\n",
    "print(y_test_std.shape)\n",
    "\n",
    "#Definisco subito anche la funzione per il calcolo del Root Mean Squared Error (RMSE)\n",
    "def rmse(y_test, predictions):\n",
    "    return np.sqrt(mean_squared_error(y_test, predictions))"
   ]
  },
  {
   "cell_type": "code",
   "execution_count": null,
   "metadata": {
    "id": "9N0_EaZjwzNt"
   },
   "outputs": [],
   "source": [
    "#Creazione della classe per la regressione lineare\n",
    "class LinearRegressionStandard:\n",
    "\n",
    "    def __init__(self, lr = 0.001, n_iters=1000, threshold = None):\n",
    "        self.lr = lr\n",
    "        self.n_iters = n_iters\n",
    "        self.weights = None\n",
    "        self.bias = None\n",
    "        self.threshold = threshold\n",
    "\n",
    "    def fit(self, X, y):\n",
    "        n_samples, n_features = X.shape\n",
    "        self.weights = np.zeros(n_features)\n",
    "        self.bias = 0\n",
    "\n",
    "        for _ in range(self.n_iters):\n",
    "            y_pred = np.dot(X, self.weights) + self.bias\n",
    "\n",
    "            #Calcolo gradient descent\n",
    "            #Derivata della loss function rispetto ai pesi e al bias\n",
    "            dw = - (2 * np.dot(X.T, (y - y_pred))) / n_samples\n",
    "            db = - 2 * np.sum(y - y_pred) / n_samples\n",
    "\n",
    "            self.weights = self.weights - self.lr * dw\n",
    "            self.bias = self.bias - self.lr * db\n",
    "\n",
    "    def predict(self, X):\n",
    "        y_pred = np.dot(X, self.weights) + self.bias\n",
    "\n",
    "        #threshold è sempre none per le regressioni, viene valorizzato solo quando si crea un'istanza\n",
    "        #della classe per la classificazione\n",
    "        if self.threshold is None:\n",
    "          #Return della predict per regressione\n",
    "          return y_pred\n",
    "\n",
    "        #Questa parte ritorna le previsioni binarie per la classificazione\n",
    "        y_pred_bin = np.zeros(len(y_pred))\n",
    "        y_pred_bin[y_pred > self.threshold] = 1\n",
    "        return y_pred_bin\n"
   ]
  },
  {
   "cell_type": "code",
   "execution_count": null,
   "metadata": {
    "id": "4O2A4A7DMIIs"
   },
   "outputs": [],
   "source": [
    "#Creazione della classe per la regressione lineare con regolarizzazione L1 (Lasso regression)\n",
    "class LinearRegressionL1:\n",
    "    def __init__(self, lr = 0.001, n_iters=1000, alpha=0.1, threshold = None):\n",
    "        self.lr = lr\n",
    "        self.n_iters = n_iters\n",
    "        self.alpha = alpha\n",
    "        self.weights = None\n",
    "        self.bias = None\n",
    "        self.threshold = threshold\n",
    "\n",
    "    def fit(self, X, y):\n",
    "        n_samples, n_features = X.shape\n",
    "        self.weights = np.zeros(n_features)\n",
    "        self.bias = 0\n",
    "\n",
    "        for _ in range(self.n_iters):\n",
    "            y_pred = np.dot(X, self.weights) + self.bias\n",
    "\n",
    "            dw = (1/n_samples) * np.dot(X.T, (y_pred-y))\n",
    "            db = (1/n_samples) * np.sum(y_pred-y)\n",
    "\n",
    "            #Per la regolarizzazione L1 si calcola il segno dei pesi, alpha rappresenta il termine di regolarizzazione che controlla l'intensità\n",
    "            #della regolarizzazione Maggiore è il valore di self.alpha, maggiore sarà la penalità per i pesi.\n",
    "            self.weights = self.weights - self.lr * (dw + self.alpha * np.sign(self.weights))\n",
    "            self.bias = self.bias - self.lr * db\n",
    "\n",
    "    def predict(self, X):\n",
    "        y_pred = np.dot(X, self.weights) + self.bias\n",
    "        if self.threshold is None:\n",
    "          return y_pred\n",
    "        y_pred_bin = np.zeros(len(y_pred))\n",
    "        y_pred_bin[y_pred > self.threshold] = 1\n",
    "        return y_pred_bin"
   ]
  },
  {
   "cell_type": "code",
   "execution_count": null,
   "metadata": {
    "id": "SRzEoz79NQ8S"
   },
   "outputs": [],
   "source": [
    "#Creazione della classe per la regressione lineare con regolarizzazione L2 (Ridge regression)\n",
    "class LinearRegressionL2:\n",
    "    def __init__(self, lr = 0.001, n_iters=10000, alpha=0.1, threshold = None):\n",
    "        self.lr = lr\n",
    "        self.n_iters = n_iters\n",
    "        self.alpha = alpha\n",
    "        self.weights = None\n",
    "        self.bias = None\n",
    "        self.threshold = threshold\n",
    "\n",
    "    def fit(self, X, y):\n",
    "        n_samples, n_features = X.shape\n",
    "        self.weights = np.zeros(n_features)\n",
    "        self.bias = 0\n",
    "\n",
    "        for _ in range(self.n_iters):\n",
    "            y_pred = np.dot(X, self.weights) + self.bias\n",
    "\n",
    "            dw = (1/n_samples) * np.dot(X.T, (y_pred-y))\n",
    "            db = (1/n_samples) * np.sum(y_pred-y)\n",
    "\n",
    "            #Per la regolarizzazione L2 si penalizzano i pesi maggiori durante l'aggiornamento dei pesi\n",
    "            #contribuendo a controllare l'overfitting e mantenendo pesi più bilanciati\n",
    "            self.weights = self.weights * (1 - self.lr * self.alpha) - self.lr * dw\n",
    "            self.bias = self.bias - self.lr * db\n",
    "\n",
    "    def predict(self, X):\n",
    "        y_pred = np.dot(X, self.weights) + self.bias\n",
    "        if self.threshold is None:\n",
    "          return y_pred\n",
    "        y_pred_bin = np.zeros(len(y_pred))\n",
    "        y_pred_bin[y_pred > self.threshold] = 1\n",
    "        return y_pred_bin"
   ]
  },
  {
   "cell_type": "code",
   "execution_count": null,
   "metadata": {
    "id": "Q22Mh0PePQQ8"
   },
   "outputs": [],
   "source": [
    "#Creazione della classe per la regressione lineare con regolarizzazione Elastic Net (combina L1 ed L2)\n",
    "class LinearRegressionElasticNet:\n",
    "    def __init__(self, lr = 0.001, n_iters=1000, alpha1=0.1, alpha2=0.1, threshold = None):\n",
    "        self.lr = lr\n",
    "        self.n_iters = n_iters\n",
    "        self.alpha1 = alpha1\n",
    "        self.alpha2 = alpha2\n",
    "        self.weights = None\n",
    "        self.bias = None\n",
    "        self.threshold = threshold\n",
    "\n",
    "    def fit(self, X, y):\n",
    "        n_samples, n_features = X.shape\n",
    "        self.weights = np.zeros(n_features)\n",
    "        self.bias = 0\n",
    "\n",
    "        for _ in range(self.n_iters):\n",
    "            y_pred = np.dot(X, self.weights) + self.bias\n",
    "\n",
    "            dw = (1/n_samples) * np.dot(X.T, (y_pred-y))\n",
    "            db = (1/n_samples) * np.sum(y_pred-y)\n",
    "\n",
    "            #La regolarizzazione Elastic Net sfrutta una combinazione dell'aggiornamento dei pesi di L1 e L2\n",
    "            self.weights = (1 - self.lr * self.alpha2) * self.weights - self.lr * dw - self.lr * self.alpha1 * np.sign(self.weights)\n",
    "            self.bias = self.bias - self.lr * db\n",
    "\n",
    "    def predict(self, X):\n",
    "        y_pred = np.dot(X, self.weights) + self.bias\n",
    "        if self.threshold is None:\n",
    "          return y_pred\n",
    "        y_pred_bin = np.zeros(len(y_pred))\n",
    "        y_pred_bin[y_pred > self.threshold] = 1\n",
    "        return y_pred_bin\n"
   ]
  },
  {
   "cell_type": "code",
   "execution_count": null,
   "metadata": {
    "colab": {
     "base_uri": "https://localhost:8080/"
    },
    "id": "ABpZNYPJxStf",
    "outputId": "ce790387-cd55-4f11-c19e-28e2e6b9fcd3"
   },
   "outputs": [
    {
     "name": "stdout",
     "output_type": "stream",
     "text": [
      "RMSE Regressione Lineare standard con Learning Rate 0.1 : 11298.125718046078 , tempo impiegato:  0.4083554870012449 secondi\n",
      "RMSE Regressione Lineare standard con Learning Rate 0.01 : 11295.441233684736 , tempo impiegato:  0.46132435999970767 secondi\n",
      "RMSE Regressione Lineare standard con Learning Rate 0.001 : 11310.578717628709 , tempo impiegato:  0.4394546530020307 secondi\n",
      "RMSE Regressione Lineare standard con Learning Rate 0.0001 : 11649.785829141567 , tempo impiegato:  0.42604968399973586 secondi\n"
     ]
    }
   ],
   "source": [
    "#Calcolo del Mean Squared Error (versione senza regolarizzazione)\n",
    "lr_values_reg_std = []\n",
    "rmse_values_reg_std = []\n",
    "time_values_reg_std = []\n",
    "\n",
    "#Testo la regressione con diversi learning rate\n",
    "for i in [0.1, 0.01, 0.001, 0.0001]:\n",
    "  lear = i\n",
    "  reg = LinearRegressionStandard(lr = lear)\n",
    "  start = timer()\n",
    "  reg.fit(X_std,y_train)\n",
    "  predictions_reg = reg.predict(X_test_std)\n",
    "  end = timer()\n",
    "  rmse_standard = rmse(y_test, predictions_reg)\n",
    "  lr_values_reg_std.append(lear)\n",
    "  time_values_reg_std.append(end-start)\n",
    "  rmse_values_reg_std.append(rmse_standard)\n",
    "  print(\"RMSE Regressione Lineare standard con Learning Rate\", lear, \":\", rmse_standard, \", tempo impiegato: \", (end-start), \"secondi\")\n",
    "\n",
    "\n"
   ]
  },
  {
   "cell_type": "code",
   "execution_count": null,
   "metadata": {
    "colab": {
     "base_uri": "https://localhost:8080/"
    },
    "id": "d8uQdDH2wDT6",
    "outputId": "281454aa-0369-4bf3-c7b9-ac2530a568c5"
   },
   "outputs": [
    {
     "name": "stdout",
     "output_type": "stream",
     "text": [
      "RMSE medio Regressione Lineare standard:  11388.4829\n",
      "Tempo medio impiegato dalla Regressione Lineare standard:  0.4338  secondi\n"
     ]
    }
   ],
   "source": [
    "avgRmseStandard = round(statistics.mean(rmse_values_reg_std), 4)\n",
    "avgTimeStandard = round(statistics.mean(time_values_reg_std), 4)\n",
    "\n",
    "print(\"RMSE medio Regressione Lineare standard: \", avgRmseStandard)\n",
    "print(\"Tempo medio impiegato dalla Regressione Lineare standard: \", avgTimeStandard, \" secondi\")"
   ]
  },
  {
   "cell_type": "code",
   "execution_count": null,
   "metadata": {
    "colab": {
     "base_uri": "https://localhost:8080/"
    },
    "id": "GaXlQzfHJA8v",
    "outputId": "104b3785-fa83-4cd0-8352-a90e1ac5d573"
   },
   "outputs": [
    {
     "name": "stdout",
     "output_type": "stream",
     "text": [
      "[2674.82010307 3027.82866857 4597.87373698 ... 3321.01435396 4436.9771596\n",
      " 4394.55096152]\n",
      "11305.1093311789\n"
     ]
    }
   ],
   "source": [
    "from sklearn.linear_model import LinearRegression\n",
    "mod = LinearRegression()\n",
    "mod.fit(X_train,y_train)\n",
    "p = mod.predict(X_test)\n",
    "print(p)\n",
    "rmse_mod = rmse(y_test, p)\n",
    "print(rmse_mod)"
   ]
  },
  {
   "cell_type": "code",
   "execution_count": null,
   "metadata": {
    "colab": {
     "base_uri": "https://localhost:8080/"
    },
    "id": "FlmyS_NW1EQ3",
    "outputId": "9c3a423c-a134-4ae0-9af0-5ee87c29ff18"
   },
   "outputs": [
    {
     "name": "stdout",
     "output_type": "stream",
     "text": [
      "RMSE Regressione Lineare L1 con Learning Rate 0.1 : 11296.238962639993 , tempo impiegato:  0.4106708159997652 secondi\n",
      "RMSE Regressione Lineare L1 con Learning Rate 0.01 : 11297.285529926758 , tempo impiegato:  0.4198663349998242 secondi\n",
      "RMSE Regressione Lineare L1 con Learning Rate 0.001 : 11369.06088329822 , tempo impiegato:  0.4223319940028887 secondi\n",
      "RMSE Regressione Lineare L1 con Learning Rate 0.0001 : 11742.374840693015 , tempo impiegato:  0.41735650500049815 secondi\n"
     ]
    }
   ],
   "source": [
    "#Calcolo del Mean Squared Error con regolarizzazione L1\n",
    "lr_values_reg_L1 = []\n",
    "rmse_values_reg_L1 = []\n",
    "time_values_reg_L1 = []\n",
    "\n",
    "#Testo la regressione con diversi learning rate\n",
    "for i in [0.1, 0.01, 0.001, 0.0001]:\n",
    "  lear = i\n",
    "  reg_L1 = LinearRegressionL1(lr = lear)\n",
    "  start = timer()\n",
    "  reg_L1.fit(X_std,y_train)\n",
    "  predictions_L1 = reg_L1.predict(X_test_std)\n",
    "  end = timer()\n",
    "  rmse_L1 = rmse(y_test, predictions_L1)\n",
    "  lr_values_reg_L1.append(lear)\n",
    "  time_values_reg_L1.append(end-start)\n",
    "  rmse_values_reg_L1.append(rmse_L1)\n",
    "  print(\"RMSE Regressione Lineare L1 con Learning Rate\", lear, \":\", rmse_L1, \", tempo impiegato: \", (end-start), \"secondi\")\n"
   ]
  },
  {
   "cell_type": "code",
   "execution_count": null,
   "metadata": {
    "colab": {
     "base_uri": "https://localhost:8080/"
    },
    "id": "9K021fJiU-iR",
    "outputId": "cf3af156-ed11-46cb-ef15-f052acfd29f7"
   },
   "outputs": [
    {
     "name": "stdout",
     "output_type": "stream",
     "text": [
      "RMSE medio Regressione Lineare L1:  11426.2401\n",
      "Tempo medio impiegato dalla Regressione Lineare L1:  0.4176  secondi\n"
     ]
    }
   ],
   "source": [
    "avgRmseL1 = round(statistics.mean(rmse_values_reg_L1), 4)\n",
    "avgTimeL1 = round(statistics.mean(time_values_reg_L1), 4)\n",
    "\n",
    "print(\"RMSE medio Regressione Lineare L1: \", avgRmseL1)\n",
    "print(\"Tempo medio impiegato dalla Regressione Lineare L1: \", avgTimeL1, \" secondi\")"
   ]
  },
  {
   "cell_type": "code",
   "execution_count": null,
   "metadata": {
    "colab": {
     "base_uri": "https://localhost:8080/"
    },
    "id": "pjW-Msnh1QXR",
    "outputId": "e3233875-53a2-4304-957d-5271443bb304"
   },
   "outputs": [
    {
     "name": "stdout",
     "output_type": "stream",
     "text": [
      "RMSE Regressione Lineare L2 con Learning Rate 0.1 : 11295.43672813907 , tempo impiegato:  4.135673263997887 secondi\n",
      "RMSE Regressione Lineare L2 con Learning Rate 0.01 : 11295.43672667157 , tempo impiegato:  3.868683422999311 secondi\n",
      "RMSE Regressione Lineare L2 con Learning Rate 0.001 : 11296.927679693657 , tempo impiegato:  4.854344797000522 secondi\n",
      "RMSE Regressione Lineare L2 con Learning Rate 0.0001 : 11368.457883912031 , tempo impiegato:  3.92444717699982 secondi\n"
     ]
    }
   ],
   "source": [
    "#Calcolo del Mean Squared Error con regolarizzazione L2\n",
    "lr_values_reg_L2 = []\n",
    "rmse_values_reg_L2 = []\n",
    "time_values_reg_L2 = []\n",
    "\n",
    "#Testo la regressione con diversi learning rate\n",
    "for i in [0.1, 0.01, 0.001, 0.0001]:\n",
    "  lear = i\n",
    "  reg_L2 = LinearRegressionL2(lr = lear)\n",
    "  start = timer()\n",
    "  reg_L2.fit(X_std,y_train)\n",
    "  predictions_L2 = reg_L2.predict(X_test_std)\n",
    "  end = timer()\n",
    "  rmse_L2 = rmse(y_test, predictions_L2)\n",
    "  lr_values_reg_L2.append(lear)\n",
    "  time_values_reg_L2.append(end-start)\n",
    "  rmse_values_reg_L2.append(rmse_L2)\n",
    "  print(\"RMSE Regressione Lineare L2 con Learning Rate\", lear, \":\", rmse_L2, \", tempo impiegato: \", (end-start), \"secondi\")\n"
   ]
  },
  {
   "cell_type": "code",
   "execution_count": null,
   "metadata": {
    "colab": {
     "base_uri": "https://localhost:8080/"
    },
    "id": "Fl4gKLP_VHj_",
    "outputId": "3fd610c5-a6f8-4c8e-b7b9-fe475c960684"
   },
   "outputs": [
    {
     "name": "stdout",
     "output_type": "stream",
     "text": [
      "RMSE medio Regressione Lineare L2:  11314.0648\n",
      "Tempo medio impiegato dalla Regressione Lineare L2:  4.1958  secondi\n"
     ]
    }
   ],
   "source": [
    "avgRmseL2 = round(statistics.mean(rmse_values_reg_L2), 4)\n",
    "avgTimeL2 = round(statistics.mean(time_values_reg_L2), 4)\n",
    "\n",
    "print(\"RMSE medio Regressione Lineare L2: \", avgRmseL2)\n",
    "print(\"Tempo medio impiegato dalla Regressione Lineare L2: \", avgTimeL2, \" secondi\")"
   ]
  },
  {
   "cell_type": "code",
   "execution_count": null,
   "metadata": {
    "colab": {
     "base_uri": "https://localhost:8080/"
    },
    "id": "WaWeoAjfPrUI",
    "outputId": "acc89018-e702-4b8c-de95-9caf8027b6ad"
   },
   "outputs": [
    {
     "name": "stdout",
     "output_type": "stream",
     "text": [
      "RMSE Regressione Lineare Elastic Net con Learning Rate 0.1 : 11295.424316085522 , tempo impiegato:  0.40390718600247055 secondi\n",
      "RMSE Regressione Lineare Elastic Net con Learning Rate 0.01 : 11296.915792939915 , tempo impiegato:  0.4520292619999964 secondi\n",
      "RMSE Regressione Lineare Elastic Net con Learning Rate 0.001 : 11368.406105163238 , tempo impiegato:  0.419609295000555 secondi\n",
      "RMSE Regressione Lineare Elastic Net con Learning Rate 0.0001 : 11742.528684406836 , tempo impiegato:  0.3880828080000356 secondi\n"
     ]
    }
   ],
   "source": [
    "\n",
    "#Calcolo del Mean Squared Error con regolarizzazione Elastic Net\n",
    "lr_values_reg_ElasticNet = []\n",
    "rmse_values_reg_ElasticNet = []\n",
    "time_values_reg_ElasticNet = []\n",
    "\n",
    "#Testo la regressione con diversi learning rate\n",
    "for i in [0.1, 0.01, 0.001, 0.0001]:\n",
    "  lear = i\n",
    "  reg_ElasticNet = LinearRegressionElasticNet(lr = lear)\n",
    "  start = timer()\n",
    "  reg_ElasticNet.fit(X_std,y_train)\n",
    "  predictions_ElasticNet = reg_ElasticNet.predict(X_test_std)\n",
    "  end = timer()\n",
    "  rmse_ElasticNet = rmse(y_test, predictions_ElasticNet)\n",
    "  lr_values_reg_ElasticNet.append(lear)\n",
    "  time_values_reg_ElasticNet.append(end-start)\n",
    "  rmse_values_reg_ElasticNet.append(rmse_ElasticNet)\n",
    "  print(\"RMSE Regressione Lineare Elastic Net con Learning Rate\", lear, \":\", rmse_ElasticNet, \", tempo impiegato: \", (end-start), \"secondi\")\n"
   ]
  },
  {
   "cell_type": "code",
   "execution_count": null,
   "metadata": {
    "colab": {
     "base_uri": "https://localhost:8080/"
    },
    "id": "D-1NjLGoVOli",
    "outputId": "5e7dc33b-2449-43f9-bc09-fe1418c8d520"
   },
   "outputs": [
    {
     "name": "stdout",
     "output_type": "stream",
     "text": [
      "RMSE medio Regressione Lineare Elastic Net:  11425.8187\n",
      "Tempo medio impiegato dalla Regressione Lineare Elastic Net:  0.4159  secondi\n"
     ]
    }
   ],
   "source": [
    "avgRmseElasticNet = round(statistics.mean(rmse_values_reg_ElasticNet), 4)\n",
    "avgTimeElasticNet = round(statistics.mean(time_values_reg_ElasticNet), 4)\n",
    "\n",
    "print(\"RMSE medio Regressione Lineare Elastic Net: \", avgRmseElasticNet)\n",
    "print(\"Tempo medio impiegato dalla Regressione Lineare Elastic Net: \", avgTimeElasticNet, \" secondi\")"
   ]
  },
  {
   "cell_type": "markdown",
   "metadata": {
    "id": "sdXHfOdr0sY5"
   },
   "source": [
    ">COMMENTO SUI MODELLI\n",
    "\n",
    "> La Regressione Lineare si dimostra un ottimo modello per la regressione, in particolare con la regolarizzazione Elastic Net si ottengono risultati in linea con gli altri ma in tempi molto ridotti"
   ]
  },
  {
   "cell_type": "markdown",
   "metadata": {
    "id": "qXwvEHATnszZ"
   },
   "source": [
    "CLASSIFICAZIONE\n",
    "> Viene fatta sfruttando lo stesso modello delle regressione senza regolarizzazione, ovviamente con le opportune modifiche per ottenere una classificazione"
   ]
  },
  {
   "cell_type": "code",
   "execution_count": null,
   "metadata": {
    "colab": {
     "base_uri": "https://localhost:8080/"
    },
    "id": "xwjwt0XrkGm8",
    "outputId": "6d72c7eb-c3e1-44a1-a170-45cf4f0650c5"
   },
   "outputs": [
    {
     "name": "stdout",
     "output_type": "stream",
     "text": [
      "Accuracy classificazione Regressione Lineare con Learning Rate 0.1 : 53.10078916075096 %, tempo impiegato:  0.38846122800168814 secondi\n",
      "Accuracy classificazione Regressione Lineare con Learning Rate 0.01 : 53.097185687002266 %, tempo impiegato:  0.4351874530002533 secondi\n",
      "Accuracy classificazione Regressione Lineare con Learning Rate 0.001 : 53.097185687002266 %, tempo impiegato:  0.408642096001131 secondi\n",
      "Accuracy classificazione Regressione Lineare con Learning Rate 0.0001 : 55.83222226226082 %, tempo impiegato:  0.397373196999979 secondi\n"
     ]
    }
   ],
   "source": [
    "#Classificazione con regressione\n",
    "from sklearn.metrics import accuracy_score\n",
    "\n",
    "#Calcolo del Mean Squared Error (versione senza regolarizzazione)\n",
    "lr_values_cls = []\n",
    "acc_values_cls_reg = []\n",
    "time_values_cls = []\n",
    "\n",
    "#Testo la regressione con diversi learning rate\n",
    "for i in [0.1, 0.01, 0.001, 0.0001]:\n",
    "  lear = i\n",
    "  cls = LinearRegressionStandard(lr = lear, threshold = 0)\n",
    "  start = timer()\n",
    "  cls.fit(X_std,y_train_new)\n",
    "  predictions_cls = cls.predict(X_test_std)\n",
    "  end = timer()\n",
    "  acc_cls = accuracy_score(y_test_new, predictions_cls) * 100\n",
    "  lr_values_reg_std.append(lear)\n",
    "  time_values_reg_std.append(end-start)\n",
    "  acc_values_cls_reg.append(acc_cls)\n",
    "  print(\"Accuracy classificazione Regressione Lineare con Learning Rate\", lear, \":\", acc_cls, \"%, tempo impiegato: \", (end-start), \"secondi\")"
   ]
  },
  {
   "cell_type": "code",
   "execution_count": null,
   "metadata": {
    "colab": {
     "base_uri": "https://localhost:8080/"
    },
    "id": "LDs6fjnyVW7V",
    "outputId": "d3f0f2fc-32d7-411b-a5cc-f8e7b98ca480"
   },
   "outputs": [
    {
     "name": "stdout",
     "output_type": "stream",
     "text": [
      "Accuracy media classificazione Regressione Lineare:  53.7818 %\n",
      "Tempo medio impiegato dalla classificazione con Regressione Lineare:  0.4159  secondi\n"
     ]
    }
   ],
   "source": [
    "avgAccClsReg = round(statistics.mean(acc_values_cls_reg), 4)\n",
    "avgTimeClsReg = round(statistics.mean(time_values_reg_ElasticNet), 4)\n",
    "\n",
    "print(\"Accuracy media classificazione Regressione Lineare: \", avgAccClsReg, \"%\")\n",
    "print(\"Tempo medio impiegato dalla classificazione con Regressione Lineare: \", avgTimeClsReg, \" secondi\")"
   ]
  },
  {
   "cell_type": "markdown",
   "metadata": {
    "id": "7nMObbX23ajn"
   },
   "source": [
    "> La classificazione impiega poco tempo, però la precisione è inferiore al Decision Tree"
   ]
  },
  {
   "cell_type": "markdown",
   "metadata": {
    "id": "T-A1woAWyghs"
   },
   "source": [
    "# REGRESSIONE LOGISTICA"
   ]
  },
  {
   "cell_type": "markdown",
   "metadata": {
    "id": "M1AJfuW5kL8d"
   },
   "source": [
    "CLASSIFICAZIONE\n",
    ">Implementazione di un modello di regressione logistica utilizzando il metodo del gradiente discendente per adattare il modello ai dati di addestramento"
   ]
  },
  {
   "cell_type": "code",
   "execution_count": null,
   "metadata": {
    "id": "PQ8unVnlyjhC"
   },
   "outputs": [],
   "source": [
    "#funzione sigmoide utilizzata per trasformare i valori in un intervallo compreso tra 0 e 1\n",
    "def sigmoid(x):\n",
    "    return 1/(1+np.exp(-x))\n",
    "\n",
    "class LogisticRegression():\n",
    "\n",
    "    def __init__(self, lr=0.0001, n_iters=2000, threshold = 0):\n",
    "        self.lr = lr\n",
    "        self.n_iters = n_iters\n",
    "        self.weights = None\n",
    "        self.bias = None\n",
    "        self.threshold = threshold\n",
    "\n",
    "    def fit(self, X, y):\n",
    "        n_samples, n_features = X.shape\n",
    "        self.weights = np.zeros(n_features)\n",
    "        self.bias = 0\n",
    "\n",
    "        #Utilizzando il metodo del gradiente discendente, aggiorna i pesi e l'offset\n",
    "        #iterativamente per minimizzare l'errore tra le previsioni del modello e le etichette effettive.\n",
    "        for _ in range(self.n_iters):\n",
    "            linear_pred = np.dot(X, self.weights) + self.bias\n",
    "            predictions = sigmoid(linear_pred)\n",
    "\n",
    "            dw = (1/n_samples) * np.dot(X.T, (predictions - y))\n",
    "            db = (1/n_samples) * np.sum(predictions-y)\n",
    "            #Aggiornamento dei pesi\n",
    "            self.weights = self.weights - self.lr*dw\n",
    "            self.bias = self.bias - self.lr*db\n",
    "\n",
    "\n",
    "    def predict(self, X):\n",
    "        linear_pred = np.dot(X, self.weights) + self.bias\n",
    "        y_pred = sigmoid(linear_pred)\n",
    "        #Applicazione del threshold per ottenere le etichette\n",
    "        class_pred = [0 if y<=self.threshold else 1 for y in linear_pred]\n",
    "        return class_pred"
   ]
  },
  {
   "cell_type": "code",
   "execution_count": null,
   "metadata": {
    "colab": {
     "base_uri": "https://localhost:8080/"
    },
    "id": "XvnShH3ey2Cb",
    "outputId": "3ad7b507-afd0-47e0-e0f2-33f75b83e03c"
   },
   "outputs": [
    {
     "name": "stdout",
     "output_type": "stream",
     "text": [
      "Accuracy classificazione con Regressione Logistica con Learning Rate 0.1 : 65.2409 %, tempo impiegato:  1.150674696000351 secondi\n",
      "Accuracy classificazione con Regressione Logistica con Learning Rate 0.01 : 64.7688 %, tempo impiegato:  1.1331804279980133 secondi\n",
      "Accuracy classificazione con Regressione Logistica con Learning Rate 0.001 : 64.2391 %, tempo impiegato:  1.1246921889978694 secondi\n",
      "Accuracy classificazione con Regressione Logistica con Learning Rate 0.0001 : 63.3959 %, tempo impiegato:  1.1110730100008368 secondi\n"
     ]
    }
   ],
   "source": [
    "#Classificazione con regressione logistica\n",
    "\n",
    "lr_values_log = []\n",
    "acc_values_log = []\n",
    "time_values_log = []\n",
    "\n",
    "#Testo la classificazione con diversi learning rate\n",
    "for i in [0.1, 0.01, 0.001, 0.0001]:\n",
    "  lear = i\n",
    "  log = LogisticRegression(lr = lear)\n",
    "  start = timer()\n",
    "  log.fit(X_std,y_train_new)\n",
    "  predictionsLog = log.predict(X_test_std)\n",
    "  end = timer()\n",
    "  accuracyLogisticRegression = accuracy_score(y_test_new, predictionsLog)\n",
    "  lr_values_log.append(lear)\n",
    "  time_values_log.append(end-start)\n",
    "  acc_values_log.append(round(accuracyLogisticRegression*100, 4))\n",
    "  print(\"Accuracy classificazione con Regressione Logistica con Learning Rate\", lear, \":\", round(accuracyLogisticRegression*100, 4), \"%, tempo impiegato: \", (end-start), \"secondi\")\n",
    "\n",
    "\n"
   ]
  },
  {
   "cell_type": "code",
   "execution_count": null,
   "metadata": {
    "colab": {
     "base_uri": "https://localhost:8080/"
    },
    "id": "ku0Lj4MRNwJb",
    "outputId": "0f5e7bee-a114-4f1b-b36b-7b460c4659a7"
   },
   "outputs": [
    {
     "name": "stdout",
     "output_type": "stream",
     "text": [
      "Accuracy media della classificazione con regressione logistica:  64.4112 %\n",
      "Tempo medio impiegato dalla classificazione con regressione logistica:  1.1299 secondi\n"
     ]
    }
   ],
   "source": [
    "avgAccuracyLogisticRegression = round(statistics.mean(acc_values_log),4)\n",
    "avgTimeLogisticRegression = round(statistics.mean(time_values_log),4)\n",
    "\n",
    "print(\"Accuracy media della classificazione con regressione logistica: \", avgAccuracyLogisticRegression, \"%\")\n",
    "print(\"Tempo medio impiegato dalla classificazione con regressione logistica: \", avgTimeLogisticRegression, \"secondi\")"
   ]
  },
  {
   "cell_type": "code",
   "execution_count": null,
   "metadata": {
    "colab": {
     "base_uri": "https://localhost:8080/",
     "height": 490
    },
    "id": "Y5v8j9CqNE9m",
    "outputId": "4c2a7b24-3755-4c07-ddff-2ff2dc661de4"
   },
   "outputs": [
    {
     "name": "stderr",
     "output_type": "stream",
     "text": [
      "WARNING:matplotlib.legend:No artists with labels found to put in legend.  Note that artists whose label start with an underscore are ignored when legend() is called with no argument.\n"
     ]
    },
    {
     "data": {
      "image/png": "[encoded data removed]",
      "text/plain": [
       "<Figure size 640x480 with 1 Axes>"
      ]
     },
     "metadata": {},
     "output_type": "display_data"
    }
   ],
   "source": [
    "plt.plot(lr_values_log, acc_values_log, label = '')\n",
    "\n",
    "plt.title('Rapporto tra learning rate e accuratezza')\n",
    "plt.xlabel('Learning Rate')\n",
    "plt.ylabel('Accuracy')\n",
    "plt.legend()\n",
    "\n",
    "# Mostra il grafico\n",
    "plt.show()"
   ]
  },
  {
   "cell_type": "markdown",
   "metadata": {
    "id": "-WxnqKI798NV"
   },
   "source": [
    "PLOT DEI RISULTATI\n",
    ">La classificazione con regressione logistica si dimostra più efficiente quando il learning rate si trova tra 0.6 e 0.8, ma in generale l'algoritmo fornisce sempre una buona accuracy in tempi molto ridotti rispetto ad altri modelli"
   ]
  },
  {
   "cell_type": "markdown",
   "metadata": {
    "id": "RhXlaGeu-_l4"
   },
   "source": [
    "# K-NEAREST NEIGHBOURS"
   ]
  },
  {
   "cell_type": "code",
   "execution_count": null,
   "metadata": {
    "id": "crJ_0bYgZnz_"
   },
   "outputs": [],
   "source": [
    "#Funzioni di servizio per il calcolo della distanza, ho creato una funzione sia\n",
    "#per quella euclidea che per quella di manhattan anche se nell'implementazione dell'algortimo\n",
    "#ho utilizzato solo quest'ultima in quanto leggermente più efficiente\n",
    "\n",
    "import math\n",
    "def euclidean_distance(x1, x2):\n",
    "    distance = np.sqrt(np.sum((x1-x2)**2))\n",
    "    return distance\n",
    "\n",
    "def manhattan_distance(x1, x2):\n",
    "    distance = 0\n",
    "    for i in range(len(x1)):\n",
    "        distance += abs(x1[i] - x2[i])\n",
    "    return distance"
   ]
  },
  {
   "cell_type": "markdown",
   "metadata": {
    "id": "ltFR66FTXOK8"
   },
   "source": [
    "CLASSIFICAZIONE\n",
    ">implementazione dell'algoritmo K-Nearest Neighbors per la classificazione. L'algoritmo KNN assegna una classe a un punto di input basandosi sulla classe della maggioranza dei suoi vicini più vicini. Questi vicini sono determinati calcolando la distanza tra il punto di input e i punti di addestramento.\n"
   ]
  },
  {
   "cell_type": "code",
   "execution_count": null,
   "metadata": {
    "id": "ZQTNxJel_DRt"
   },
   "outputs": [],
   "source": [
    "from collections import Counter\n",
    "\n",
    "class KNN:\n",
    "    def __init__(self, k=3):\n",
    "        self.k = k\n",
    "\n",
    "    def fit(self, X, y):\n",
    "        self.X_train = X\n",
    "        self.y_train = y\n",
    "\n",
    "    def predict(self, X):\n",
    "        #Chiamo il medoto di _predict su ogni punto di X\n",
    "        predictions = [self._predict(x) for x in X]\n",
    "        return predictions\n",
    "\n",
    "    def _predict(self, x):\n",
    "        #Calcolo della distanza\n",
    "        distances = [manhattan_distance(x, x_train) for x_train in self.X_train]\n",
    "\n",
    "        #Determina gli indici dei k punti più vicini utilizzando np.argsort\n",
    "        #per ottenere gli indici ordinati in base alle distanze\n",
    "        k_indices = np.argsort(distances)[:self.k]\n",
    "\n",
    "        #Recupera le etichette corrispondenti ai punti più vicini\n",
    "        k_nearest_labels = [self.y_train[i] for i in k_indices]\n",
    "\n",
    "        #Utilizza il majority voting per determinare la classe di predizione\n",
    "        most_common = Counter(k_nearest_labels).most_common()\n",
    "        return most_common[0][0]\n"
   ]
  },
  {
   "cell_type": "code",
   "execution_count": null,
   "metadata": {
    "id": "wtycEVJmAVdd"
   },
   "outputs": [],
   "source": [
    "from sklearn.metrics import accuracy_score\n",
    "\n",
    "start = timer()\n",
    "knn = KNN()\n",
    "knn.fit(X_std, y_train_new)\n",
    "predictions_KNN = knn.predict(X_test_std)\n",
    "end = timer()"
   ]
  },
  {
   "cell_type": "code",
   "execution_count": null,
   "metadata": {
    "colab": {
     "base_uri": "https://localhost:8080/"
    },
    "id": "2EGkdWP1Z8pf",
    "outputId": "2ab2d2a7-86e0-48a0-c091-298266ca0681"
   },
   "outputs": [
    {
     "name": "stdout",
     "output_type": "stream",
     "text": [
      "Accuracy classificazione con KNN: 59.4645 %, tempo impiegato:  5106.2486 secondi\n"
     ]
    }
   ],
   "source": [
    "accuracy_KNN = round(accuracy_score(y_test_new, predictions_KNN) * 100, 4)\n",
    "time_KNN = round((end - start), 4)\n",
    "print(\"Accuracy classificazione con KNN:\", accuracy_KNN, \"%, tempo impiegato: \", time_KNN, \"secondi\")"
   ]
  },
  {
   "cell_type": "code",
   "execution_count": null,
   "metadata": {
    "colab": {
     "base_uri": "https://localhost:8080/"
    },
    "id": "_O7xuqZTYZnr",
    "outputId": "e7b4a4dc-aea0-4288-e408-7b565cf7c4ce"
   },
   "outputs": [
    {
     "name": "stdout",
     "output_type": "stream",
     "text": [
      "Accuratezza: 58.88436452740442\n"
     ]
    }
   ],
   "source": [
    "#Solo per confronto, utilizzando Scikit\n",
    "from sklearn.neighbors import KNeighborsClassifier\n",
    "knn_sk = KNeighborsClassifier(n_neighbors=3)\n",
    "knn_sk.fit(X_std, y_train_new)\n",
    "y_pred = knn_sk.predict(X_test_std)\n",
    "accuracy = accuracy_score(y_test_new, y_pred)\n",
    "print(\"Accuratezza:\", accuracy*100)"
   ]
  },
  {
   "cell_type": "markdown",
   "metadata": {
    "id": "dUWjD8FpYamY"
   },
   "source": [
    "REGRESSIONE\n",
    ">implementazione dell'algoritmo K-Nearest Neighbors per la regressione,modellandolo sui dati di training per fare predizioni sui nuovi dati di test, stimando un valore numerico come output basato sui valori di input e delle relative etichette.\n",
    "Come per la controparte di classificazione, questo algoritmo è estremamente lento e i risultati non giustificano il tempo impiegato"
   ]
  },
  {
   "cell_type": "code",
   "execution_count": null,
   "metadata": {
    "id": "Y3kvma0U0jAI"
   },
   "outputs": [],
   "source": [
    "#Regressione con KNN\n",
    "\n",
    "import numpy as np\n",
    "from collections import Counter\n",
    "\n",
    "class KNNRegressor:\n",
    "    def __init__(self, k=3):\n",
    "        self.k = k\n",
    "\n",
    "    def fit(self, X, y):\n",
    "        self.X_train = X\n",
    "        self.y_train = y\n",
    "\n",
    "    def predict(self, X):\n",
    "        predictions = [self._predict(x) for x in X]\n",
    "        return predictions\n",
    "\n",
    "    def _predict(self, x):\n",
    "        #Calcolo della distanza\n",
    "        distances = [manhattan_distance(x, x_train) for x_train in self.X_train]\n",
    "\n",
    "        #Determina gli indici dei k punti più vicini utilizzando np.argsort\n",
    "        #per ottenere gli indici ordinati in base alle distanze\n",
    "        k_indices = np.argsort(distances)[:self.k]\n",
    "\n",
    "        #Recupera le etichette corrispondenti ai punti più vicini\n",
    "        k_nearest_labels = [self.y_train[i] for i in k_indices]\n",
    "\n",
    "        #Recupera le etichette corrispondenti ai punti più vicini, calcola la media di queste etichette\n",
    "        #e la restituisce come prediction\n",
    "        prediction = np.mean(k_nearest_labels)\n",
    "        return prediction\n",
    "\n"
   ]
  },
  {
   "cell_type": "code",
   "execution_count": null,
   "metadata": {
    "id": "khJzrDDf1dD4"
   },
   "outputs": [],
   "source": [
    "reg_KNN = KNNRegressor()\n",
    "\n",
    "start = timer()\n",
    "reg_KNN.fit(X_train_new, y_train)\n",
    "predictions_KNN_reg = reg_KNN.predict(X_test_new)\n",
    "end = timer()"
   ]
  },
  {
   "cell_type": "code",
   "execution_count": null,
   "metadata": {
    "colab": {
     "base_uri": "https://localhost:8080/"
    },
    "id": "qF1i1a5P2UzU",
    "outputId": "47105810-eb90-488c-c403-6ea5dbcd03d9"
   },
   "outputs": [
    {
     "name": "stdout",
     "output_type": "stream",
     "text": [
      "RMSE regressione con KNN 12706.131055111608\n",
      "Tempo impiegato:  5064.281952402998 secondi\n"
     ]
    }
   ],
   "source": [
    "rmse_KNN = rmse(y_test, predictions_KNN_reg)\n",
    "print(\"RMSE regressione con KNN\", rmse_KNN)\n",
    "time_KNN_reg = (end - start)\n",
    "print(\"Tempo impiegato: \", time_KNN_reg, \"secondi\")"
   ]
  },
  {
   "cell_type": "code",
   "execution_count": null,
   "metadata": {
    "colab": {
     "base_uri": "https://localhost:8080/"
    },
    "id": "9VujSoT4ttqX",
    "outputId": "504872ff-97f8-499e-f3b2-9661f0561e53"
   },
   "outputs": [
    {
     "name": "stdout",
     "output_type": "stream",
     "text": [
      "13155.257468258924\n"
     ]
    }
   ],
   "source": [
    "#Solo per confronto, utilizzando scikit\n",
    "from sklearn.neighbors import KNeighborsRegressor\n",
    "\n",
    "knn_reg_sk = KNeighborsRegressor(n_neighbors=3)\n",
    "knn_reg_sk.fit(X_std, y_train)\n",
    "\n",
    "predictions_knn_reg_sk = knn_reg_sk.predict(X_test_std)\n",
    "test_std = scaler.fit_transform(y_test.reshape(-1,1))\n",
    "rmse_KNN_sk = rmse(y_test, predictions_knn_reg_sk)\n",
    "print(rmse_KNN_sk)\n",
    "\n"
   ]
  },
  {
   "cell_type": "markdown",
   "metadata": {
    "id": "EQaUhsuP4WA7"
   },
   "source": [
    "# RETI NEURALI"
   ]
  },
  {
   "cell_type": "markdown",
   "metadata": {
    "id": "ej3QTeurziwL"
   },
   "source": [
    "FUNZIONI DI SERVIZIO"
   ]
  },
  {
   "cell_type": "code",
   "execution_count": null,
   "metadata": {
    "id": "fPHzek2YVk00"
   },
   "outputs": [],
   "source": [
    "def evaluateClassification(nn, data, target):\n",
    "    count = 0\n",
    "    error = 0\n",
    "    for (x,y) in zip(data, target):\n",
    "        p = nn.predict(x)[0][0]\n",
    "        #print(x, y, p)\n",
    "        if math.isnan(p) == False:\n",
    "          error += abs(y-p)/data.shape[0]\n",
    "          if (round(p) == y):\n",
    "            count += 1\n",
    "\n",
    "    accuracy = round(count/len(data)*100, 2)\n",
    "    #print(f\"Accuracy rete neurale: {accuracy}%, error rate = {error}\")\n",
    "    return accuracy, error\n",
    "\n",
    "\n",
    "def evaluateRegression(nn, data, target):\n",
    "    sq_error = 0\n",
    "    for (x,y) in zip(data, target):\n",
    "        p = nn.predict(x)[0][0]\n",
    "        sq_error += (y - p)**2\n",
    "    return np.sqrt(sq_error/len(data))"
   ]
  },
  {
   "cell_type": "markdown",
   "metadata": {
    "id": "sfMuEFtDz9U2"
   },
   "source": [
    "CLASSE **LAYER**\n",
    "> Rappresenta uno strato di una rete neurale. Contiene metodi per calcolare l'output dello strato tramite una combinazione lineare dei pesi, applicando una funzione di attivazione. Il metodo backprop esegue la retropropagazione dell'errore per calcolare l'errore da propagare al livello precedente e aggiornare i pesi e i bias del layer e include il **gradient clipping** per prevenire l'esplosione del gradiente."
   ]
  },
  {
   "cell_type": "code",
   "execution_count": null,
   "metadata": {
    "id": "p0eh7icdQiEX"
   },
   "outputs": [],
   "source": [
    "class Layer:\n",
    "    #Funzione di attivazione ReLU e derivata\n",
    "    ReLU = lambda x :  np.maximum(0, x)\n",
    "    DE_ReLU = lambda x :  x > 0\n",
    "    #Valore lineare senza trasformazioni e derivata\n",
    "    LINEAR = lambda x: x\n",
    "    DE_LINEAR = lambda x: 1\n",
    "    #Threshold per il gradient clipping\n",
    "    DELTA_THRESHOLD = 5\n",
    "\n",
    "    def __init__(self, input_size, output_size, ALPHA=.1):\n",
    "        #Inizializzazione tramite la tecnica di He-et-al della matrice dei pesi\n",
    "        self.W = np.random.randn(input_size, output_size) * np.sqrt(2 / output_size)\n",
    "        #Inizializzazione della matrice dei bias\n",
    "        self.bias = np.random.randn(1, output_size) * np.sqrt(2 / output_size)\n",
    "        #Imposto ReLU come funzione di attivazione\n",
    "        self.SIGMA =  Layer.ReLU\n",
    "        self.DE_SIGMA = Layer.DE_ReLU\n",
    "        #Input e z serviranno durante la propagation per memorizzare input e output\n",
    "        self.input = None\n",
    "        self.z = None\n",
    "        #Learning rate del layer\n",
    "        self.ALPHA = ALPHA\n",
    "\n",
    "    def forward(self, a):\n",
    "        self.input = a #Salva l'input\n",
    "        self.z = a.dot(self.W) + self.bias #Calcola l'output\n",
    "        return self.SIGMA(self.z)\n",
    "\n",
    "    def backprop(self, output_error):\n",
    "        output_error = self.DE_SIGMA(self.z) * output_error #Calcola l'errore del layer\n",
    "        delta = output_error @ self.W.T #Calcola il delta per il livello successivo\n",
    "        delta = Layer.gradient_clipping(delta) #Aggiusta il delta per evitare il gradient exploding\n",
    "\n",
    "        dW = self.input.T.dot(output_error)\n",
    "        dB = output_error\n",
    "\n",
    "        self.W -= self.ALPHA * dW  #Aggiorna i pesi\n",
    "        self.bias -= self.ALPHA * dB #Aggiorna il bias\n",
    "        return delta\n",
    "\n",
    "    #Metodo per evitare il gradient exploding\n",
    "    @staticmethod\n",
    "    def gradient_clipping( delta ):\n",
    "        return np.where(abs(delta)<Layer.DELTA_THRESHOLD, delta, abs(delta)/delta*Layer.DELTA_THRESHOLD)\n"
   ]
  },
  {
   "cell_type": "markdown",
   "metadata": {
    "id": "vl4mMBiO0AXI"
   },
   "source": [
    "CLASSIFICAZIONE E REGRESSIONE TRAMITE NEURAL NETWORK\n",
    "> Viene eseguito un ciclo di addestramento per un numero di epoche specificato, e durante ogni epoca vengono calcolati l'errore e l'errore medio. La backpropagation dell'errore viene utilizzata per aggiornare i pesi e i bias della rete neurale. L'addestramento termina quando viene raggiunto il numero massimo di epoche o l'errore medio diventa sufficientemente basso."
   ]
  },
  {
   "cell_type": "code",
   "execution_count": null,
   "metadata": {
    "id": "PIg6xy7EQ9MU"
   },
   "outputs": [],
   "source": [
    "class NeuralNetwork:\n",
    "    def __init__(self, input_size, output_size=1, hidden_layers=[10], epochs=1000, batch_size=20, learning_rate=0.1):\n",
    "        #Dimensioni di input, hidden layers e output\n",
    "        l = [input_size] + hidden_layers + [output_size]\n",
    "        #Creazione dei layers\n",
    "        self.layers = [Layer(l[i], l[i+1], ALPHA=learning_rate) for i in range(len(l)-1)]\n",
    "        #Ultimo strato ha funzione di attivazione lineare\n",
    "        self.layers[-1].SIGMA = Layer.LINEAR\n",
    "        self.layers[-1].DE_SIGMA = Layer.DE_LINEAR\n",
    "        self.EPOCH = epochs\n",
    "        self.BATCH = batch_size\n",
    "\n",
    "\n",
    "    def fit(self, training_set, target_set):\n",
    "        err = 1\n",
    "        epoch=0\n",
    "\n",
    "\n",
    "        while (epoch < self.EPOCH and err > 0.001):\n",
    "            #Viene creato un batch casuale selezionando indici casuali dal training set\n",
    "            batch = np.random.choice(len(training_set), size=self.BATCH, replace=False)\n",
    "            X = training_set[batch]\n",
    "            Y = target_set[batch]\n",
    "            err=0\n",
    "            #Viene eseguito un ciclo per ogni coppia di x e y nel batch\n",
    "            for (x,y) in zip(X,Y):\n",
    "                x = x.reshape(1,x.size)\n",
    "                h = self.predict(x)\n",
    "                # print(x, y, h)\n",
    "                err += np.sqrt((y-h)**2)\n",
    "                delta = (h-y)\n",
    "\n",
    "                #Viene eseguita la retropropagazione dell'errore attraverso gli strati della rete\n",
    "                for layer in self.layers[::-1]:\n",
    "                    delta = layer.backprop(delta)\n",
    "            epoch+=1\n",
    "\n",
    "            #Se l'epoca corrente è un multiplo del 10% del numero massimo di epoche\n",
    "            #viene calcolato l'errore medio dividendo err per la dimensione del batch\n",
    "            if (epoch+1) % (self.EPOCH / 10) == 0:\n",
    "                err /= self.BATCH\n",
    "                #print(\"Epoch: \" + str(epoch+1) + \", Error rate: \" + str(err))\n",
    "        #print(\"Epoch: \" + str(epoch+1) + \", Error rate: \" + str(err))\n",
    "\n",
    "    def predict(self, x):\n",
    "        output = x\n",
    "        for layer in self.layers:\n",
    "            output = layer.forward(output)\n",
    "\n",
    "        return output"
   ]
  },
  {
   "cell_type": "code",
   "execution_count": null,
   "metadata": {
    "colab": {
     "base_uri": "https://localhost:8080/"
    },
    "id": "SmP2KQefA1Iq",
    "outputId": "2f7355c0-9380-4849-d859-27d456417744"
   },
   "outputs": [
    {
     "name": "stdout",
     "output_type": "stream",
     "text": [
      "\n",
      "Neural Network con Learning Rate 0.01 :\n",
      " Accuracy classificazione:  52.81 %\n",
      " RMSE regressione: 11872.39402907705 \n",
      " Tempo impiegato:  1.2339224879979156 secondi\n",
      "\n",
      "Neural Network con Learning Rate 0.001 :\n",
      " Accuracy classificazione:  53.33 %\n",
      " RMSE regressione: 11872.399003451423 \n",
      " Tempo impiegato:  1.2470811650018732 secondi\n",
      "\n",
      "Neural Network con Learning Rate 0.0001 :\n",
      " Accuracy classificazione:  55.99 %\n",
      " RMSE regressione: 11872.403844977147 \n",
      " Tempo impiegato:  1.2313519179988361 secondi\n"
     ]
    }
   ],
   "source": [
    "from sklearn.metrics import accuracy_score, zero_one_loss\n",
    "\n",
    "#Calcolo del Mean Squared Error (versione senza regolarizzazione)\n",
    "lr_values_nn = []\n",
    "acc_values_nn = []\n",
    "time_values_nn = []\n",
    "rmse_values_nn = []\n",
    "\n",
    "#Testo l'addestramento di una rete neurale con un hidden layer da 10 elementi con diversi learning rate\n",
    "for i in [0.01, 0.001, 0.0001]:\n",
    "  lear = i\n",
    "  nn = NeuralNetwork(X_train[0].shape[0], hidden_layers=[10], learning_rate=0.001)\n",
    "  start = timer()\n",
    "  nn.fit(X_std, y_train_new)\n",
    "  end = timer()\n",
    "  accuracy_NN, errorRate_NN = evaluateClassification(nn, X_test_std, y_test_new)\n",
    "  rmse_NN = evaluateRegression(nn, X_test_std, y_test)\n",
    "  lr_values_nn.append(lear)\n",
    "  time_values_nn.append(end-start)\n",
    "  acc_values_nn.append(accuracy_NN)\n",
    "  rmse_values_nn.append(rmse_NN)\n",
    "  print(\"\\nNeural Network con Learning Rate\", lear, \":\\n\",\"Accuracy classificazione: \", accuracy_NN, \"%\\n\", \"RMSE regressione:\", rmse_NN , \"\\n Tempo impiegato: \", (end-start), \"secondi\")\n"
   ]
  },
  {
   "cell_type": "code",
   "execution_count": null,
   "metadata": {
    "colab": {
     "base_uri": "https://localhost:8080/"
    },
    "id": "7691YrrPBsZh",
    "outputId": "f3beb7f1-20b5-410d-a150-bfe06d8882b4"
   },
   "outputs": [
    {
     "name": "stdout",
     "output_type": "stream",
     "text": [
      "Accuracy media classificazione con Neural Networks:  54.0433 %\n",
      "RMSE medio regressione con Neural Networks:  11872.399\n",
      "Tempo medio impiegato dall'addestramento con Neural Networks:  1.2375  secondi\n"
     ]
    }
   ],
   "source": [
    "avgAccuracyNN = round(statistics.mean(acc_values_nn), 4)\n",
    "avgTimeNN = round(statistics.mean(time_values_nn), 4)\n",
    "avgRmse_NN = round(statistics.mean(rmse_values_nn), 4)\n",
    "\n",
    "print(\"Accuracy media classificazione con Neural Networks: \", avgAccuracyNN, \"%\")\n",
    "print(\"RMSE medio regressione con Neural Networks: \", avgRmseNN)\n",
    "print(\"Tempo medio impiegato dall'addestramento con Neural Networks: \", avgTimeNN, \" secondi\")"
   ]
  },
  {
   "cell_type": "markdown",
   "metadata": {
    "id": "jutc4RXN4Zcr"
   },
   "source": [
    "# RIASSUNTO FINALE E CONCLUSIONI"
   ]
  },
  {
   "cell_type": "markdown",
   "metadata": {
    "id": "CohIXBP747y_"
   },
   "source": [
    "ALGORITMI DI REGRESSIONE\n",
    ">Versione con i dati runnati"
   ]
  },
  {
   "cell_type": "code",
   "execution_count": null,
   "metadata": {
    "colab": {
     "base_uri": "https://localhost:8080/"
    },
    "id": "gdO7Jtzu4rQX",
    "outputId": "0a33640a-43fa-442e-d164-f896521e4a98"
   },
   "outputs": [
    {
     "name": "stdout",
     "output_type": "stream",
     "text": [
      "                         Tipo di Algoritmo     Risultato  Tempo impiegato (s)\n",
      "0             Regressione Lineare Standard  11649.785829             0.433800\n",
      "1                   Regressione Lineare L1  11742.374841             0.417600\n",
      "2                   Regressione Lineare L2  11368.457884             4.195800\n",
      "3  Regressione Lineare Standard ElasticNet  11742.528684             0.415900\n",
      "4                      Regressione con KNN  12706.131055          5064.281952\n",
      "5             Regressione con Reti Neurali  11872.399000             1.237500\n"
     ]
    }
   ],
   "source": [
    "regressionResultsTable = pd.DataFrame({'Tipo di Algoritmo': ['Regressione Lineare Standard', 'Regressione Lineare L1', 'Regressione Lineare L2',\n",
    "                                         'Regressione Lineare Standard ElasticNet', 'Regressione con KNN', 'Regressione con Reti Neurali'],\n",
    "                   'Risultato': [rmse_standard, rmse_L1, rmse_L2, rmse_ElasticNet, rmse_KNN, avgRmseNN], 'Tempo impiegato (s)': [avgTimeStandard, avgTimeL1, avgTimeL2, avgTimeElasticNet, time_KNN_reg, avgTimeNN]})\n",
    "\n",
    "print(regressionResultsTable)"
   ]
  },
  {
   "cell_type": "markdown",
   "metadata": {
    "id": "SY7xDuE34kNH"
   },
   "source": [
    "> In caso di imprevisti, ecco una versione statica"
   ]
  },
  {
   "cell_type": "code",
   "execution_count": null,
   "metadata": {
    "colab": {
     "base_uri": "https://localhost:8080/"
    },
    "id": "oG6LsScP4yMJ",
    "outputId": "52e5a1df-bcdc-4b1b-f44e-58f9e56ff0e8"
   },
   "outputs": [
    {
     "name": "stdout",
     "output_type": "stream",
     "text": [
      "                         Tipo di Algoritmo     Risultato  Tempo impiegato (s)\n",
      "0             Regressione Lineare Standard  11649.785829             0.433800\n",
      "1                   Regressione Lineare L1  11742.374841             0.417600\n",
      "2                   Regressione Lineare L2  11368.457884             4.195800\n",
      "3  Regressione Lineare Standard ElasticNet  11742.528684             0.415900\n",
      "4                      Regressione con KNN  12706.131055          5064.281952\n",
      "5             Regressione con Reti Neurali  11872.399000             1.237500\n"
     ]
    }
   ],
   "source": [
    "regressionResultsTableStatic = pd.DataFrame({'Tipo di Algoritmo': ['Regressione Lineare Standard', 'Regressione Lineare L1', 'Regressione Lineare L2',\n",
    "                                         'Regressione Lineare Standard ElasticNet', 'Regressione con KNN', 'Regressione con Reti Neurali'],\n",
    "                   'Risultato': [11649.785829, 11742.374841, 11368.457884, 11742.528684, 12706.131055111608, 11872.399], 'Tempo impiegato (s)': [0.4338,  0.4176, 4.1958, 0.4159, 5064.281952402998, 1.2375]})\n",
    "\n",
    "print(regressionResultsTableStatic)"
   ]
  },
  {
   "cell_type": "markdown",
   "metadata": {
    "id": "XVIsYnJJ6T4c"
   },
   "source": [
    "ALGORITMI DI CLASSIFICAZIONE\n",
    "> Versione con dati runnati"
   ]
  },
  {
   "cell_type": "code",
   "execution_count": null,
   "metadata": {
    "colab": {
     "base_uri": "https://localhost:8080/"
    },
    "id": "vDMUJQxt6XLu",
    "outputId": "532627f9-24ac-468b-b7fd-e3361f530fe7"
   },
   "outputs": [
    {
     "name": "stdout",
     "output_type": "stream",
     "text": [
      "                           Tipo di Algoritmo Risultato  Tempo impiegato (s)\n",
      "0                              Decision Tree  62.9857%             185.1256\n",
      "1    Classificazione con Regressione Lineare  53.7818%               0.4159\n",
      "2  Classificazione con Regressione Logistica  64.4112%               1.1299\n",
      "3                    Classificazione con KNN  59.4645%            5106.2486\n",
      "4           Classificazione con Reti Neurali  54.0433%               1.2375\n"
     ]
    }
   ],
   "source": [
    "classificationResultsTable = pd.DataFrame({'Tipo di Algoritmo': ['Decision Tree', 'Classificazione con Regressione Lineare', 'Classificazione con Regressione Logistica',\n",
    "                                         'Classificazione con KNN', 'Classificazione con Reti Neurali'],\n",
    "                   'Risultato': [str(avgAccuracyDecisionTree) + \"%\", str(avgAccClsReg) + \"%\", str(avgAccuracyLogisticRegression) + \"%\", str(accuracy_KNN) + \"%\" , str(avgAccuracyNN) + \"%\"],\n",
    "                   'Tempo impiegato (s)':[avgTimeDecisionTree, avgTimeClsReg, avgTimeLogisticRegression, time_KNN, avgTimeNN]})\n",
    "#str(accuracy_KNN*100)+ \"%\"\n",
    "print(classificationResultsTable)"
   ]
  },
  {
   "cell_type": "markdown",
   "metadata": {
    "id": "5O3XLVTG5V-_"
   },
   "source": [
    "> In caso di imprevisti, ecco una versione statica"
   ]
  },
  {
   "cell_type": "code",
   "execution_count": null,
   "metadata": {
    "colab": {
     "base_uri": "https://localhost:8080/"
    },
    "id": "MOZbS4gl5fM9",
    "outputId": "c0b864b6-849b-40cf-f085-6f74cdcfd9fa"
   },
   "outputs": [
    {
     "name": "stdout",
     "output_type": "stream",
     "text": [
      "                           Tipo di Algoritmo Risultato  Tempo impiegato (s)\n",
      "0                              Decision Tree  62.9947%             185.1256\n",
      "1    Classificazione con Regressione Lineare  53.7818%               0.4159\n",
      "2  Classificazione con Regressione Logistica  64.4112%               1.1299\n",
      "3                    Classificazione con KNN  59.4645%            5106.2486\n",
      "4           Classificazione con Reti Neurali  57.0233%               1.2375\n"
     ]
    }
   ],
   "source": [
    "classificationResultsTableStatic = pd.DataFrame({'Tipo di Algoritmo': ['Decision Tree', 'Classificazione con Regressione Lineare', 'Classificazione con Regressione Logistica',\n",
    "                                         'Classificazione con KNN', 'Classificazione con Reti Neurali'],\n",
    "                   'Risultato': [\"62.9947%\", \"53.7818%\", \"64.4112%\", \"59.4645%\", \"57.0233%\"], 'Tempo impiegato (s)':[185.1256, 0.4159, 1.1299, 5106.2486, 1.2375]})\n",
    "\n",
    "print(classificationResultsTableStatic)"
   ]
  },
  {
   "cell_type": "markdown",
   "metadata": {
    "id": "FcAc8HHjasyZ"
   },
   "source": [
    "CONSIDERAZIONI FINALI\n",
    "> Per quanto riguarda la regressione, sebbene i risultati in termini di RMSE siano stati molto simili, al netto delle oscillazioni che possono esserci eseguendo l'addestramento più volte, è più facile scegliere il peggiore che non il migliore, poichè quasi tutti i modelli impiegano poco tempo, mentre l'unico ad avere tempi eccessivi è il KNN. la **Regressione Lineare con regolarizzazione Elastic Net** è stata molto rapida e ha ottenuto, nel corso dei vari test (che potrebbero differire dai valori finali stampati) valori leggermente inferiori alle altre regressioni\n",
    "\n",
    "> Per la classificazione, i risultati sono più eterogenei. Escludendo nuovamente il KNN e i suoi tempi incalcolabili, la **Regressione Logistica** si è distinta perchè, rimanendo sempre poco sopra al secondo, ha fornito una accuracy media superiore a tutti gli altri modelli, ci si è avvicinato soltanto il **Decision Tree**, che però ha impiegato più tempo, soprattutto al crescere della profondità dell'albero, mentre gli altri modelli si sono tenuti su livelli di precisione simili e inferiori ai due modelli già menzionati, ma comunque con tempi ridotti.\n",
    "\n",
    ">Ovviamente il tempo calcolato non è precisissimo (ho usato default_timer della libreria timeit), serve più che altro a fornire una stima e soprattutto memorizzarla per avere il dato a disposizione"
   ]
  }
 ],
 "metadata": {
  "colab": {
   "collapsed_sections": [
    "OVLN5Hbq10ZF",
    "xpXs0niB19M6",
    "mu_rxzq0f2gV",
    "44l2aHOjECca",
    "ps_jP1l4h4KF",
    "T-A1woAWyghs",
    "EQaUhsuP4WA7"
   ],
   "provenance": []
  },
  "kernelspec": {
   "display_name": "Python 3 (ipykernel)",
   "language": "python",
   "name": "python3"
  },
  "language_info": {
   "codemirror_mode": {
    "name": "ipython",
    "version": 3
   },
   "file_extension": ".py",
   "mimetype": "text/x-python",
   "name": "python",
   "nbconvert_exporter": "python",
   "pygments_lexer": "ipython3",
   "version": "3.9.13"
  }
 },
 "nbformat": 4,
 "nbformat_minor": 1
}
